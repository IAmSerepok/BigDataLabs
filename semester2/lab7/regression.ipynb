{
 "cells": [
  {
   "cell_type": "code",
   "execution_count": 147,
   "id": "9f57c503",
   "metadata": {},
   "outputs": [],
   "source": [
    "import numpy as np\n",
    "import pandas as pd\n",
    "import matplotlib.pyplot as plt\n",
    "import seaborn as sns"
   ]
  },
  {
   "cell_type": "markdown",
   "id": "2d65feaf",
   "metadata": {},
   "source": [
    "# Data Engenering"
   ]
  },
  {
   "cell_type": "code",
   "execution_count": 148,
   "id": "f3edf573",
   "metadata": {},
   "outputs": [
    {
     "data": {
      "application/vnd.microsoft.datawrangler.viewer.v0+json": {
       "columns": [
        {
         "name": "index",
         "rawType": "int64",
         "type": "integer"
        },
        {
         "name": "Unnamed: 0",
         "rawType": "int64",
         "type": "integer"
        },
        {
         "name": "artist_name",
         "rawType": "object",
         "type": "string"
        },
        {
         "name": "genres",
         "rawType": "object",
         "type": "string"
        },
        {
         "name": "followers",
         "rawType": "int64",
         "type": "integer"
        },
        {
         "name": "artist_popularity",
         "rawType": "int64",
         "type": "integer"
        },
        {
         "name": "artist_url",
         "rawType": "object",
         "type": "string"
        },
        {
         "name": "track_name",
         "rawType": "object",
         "type": "string"
        },
        {
         "name": "album_name",
         "rawType": "object",
         "type": "string"
        },
        {
         "name": "release_date",
         "rawType": "object",
         "type": "string"
        },
        {
         "name": "duration_ms",
         "rawType": "int64",
         "type": "integer"
        },
        {
         "name": "explicit",
         "rawType": "bool",
         "type": "boolean"
        },
        {
         "name": "track_popularity",
         "rawType": "int64",
         "type": "integer"
        },
        {
         "name": "danceability",
         "rawType": "float64",
         "type": "float"
        },
        {
         "name": "energy",
         "rawType": "float64",
         "type": "float"
        },
        {
         "name": "key",
         "rawType": "int64",
         "type": "integer"
        },
        {
         "name": "loudness",
         "rawType": "float64",
         "type": "float"
        },
        {
         "name": "mode",
         "rawType": "int64",
         "type": "integer"
        },
        {
         "name": "speechiness",
         "rawType": "float64",
         "type": "float"
        },
        {
         "name": "acousticness",
         "rawType": "float64",
         "type": "float"
        },
        {
         "name": "instrumentalness",
         "rawType": "float64",
         "type": "float"
        },
        {
         "name": "liveness",
         "rawType": "float64",
         "type": "float"
        },
        {
         "name": "valence",
         "rawType": "float64",
         "type": "float"
        },
        {
         "name": "tempo",
         "rawType": "float64",
         "type": "float"
        }
       ],
       "ref": "b722a457-d382-493e-a1db-9c631c3176f8",
       "rows": [
        [
         "0",
         "0",
         "Ariana Grande",
         "pop",
         "98934105",
         "89",
         "https://open.spotify.com/artist/66CXWjxzNUsdJxJ2JdwvnR",
         "we can't be friends (wait for your love)",
         "eternal sunshine",
         "2024-03-08",
         "228639",
         "False",
         "89",
         "0.645",
         "0.646",
         "5",
         "-8.334",
         "1",
         "0.0427",
         "0.0615",
         "3.04e-05",
         "0.074",
         "0.295",
         "115.842"
        ],
        [
         "1",
         "1",
         "Ariana Grande",
         "pop",
         "98934105",
         "85",
         "https://open.spotify.com/artist/66CXWjxzNUsdJxJ2JdwvnR",
         "the boy is mine",
         "eternal sunshine",
         "2024-03-08",
         "173639",
         "True",
         "85",
         "0.795",
         "0.63",
         "7",
         "-5.854",
         "0",
         "0.0434",
         "0.157",
         "0.0",
         "0.0732",
         "0.447",
         "97.998"
        ],
        [
         "2",
         "2",
         "Ariana Grande",
         "pop",
         "98934105",
         "83",
         "https://open.spotify.com/artist/66CXWjxzNUsdJxJ2JdwvnR",
         "intro (end of the world)",
         "eternal sunshine",
         "2024-03-08",
         "92400",
         "True",
         "83",
         "0.506",
         "0.362",
         "10",
         "-9.48",
         "1",
         "0.0416",
         "0.67",
         "0.0",
         "0.176",
         "0.385",
         "84.726"
        ]
       ],
       "shape": {
        "columns": 23,
        "rows": 3
       }
      },
      "text/html": [
       "<div>\n",
       "<style scoped>\n",
       "    .dataframe tbody tr th:only-of-type {\n",
       "        vertical-align: middle;\n",
       "    }\n",
       "\n",
       "    .dataframe tbody tr th {\n",
       "        vertical-align: top;\n",
       "    }\n",
       "\n",
       "    .dataframe thead th {\n",
       "        text-align: right;\n",
       "    }\n",
       "</style>\n",
       "<table border=\"1\" class=\"dataframe\">\n",
       "  <thead>\n",
       "    <tr style=\"text-align: right;\">\n",
       "      <th></th>\n",
       "      <th>Unnamed: 0</th>\n",
       "      <th>artist_name</th>\n",
       "      <th>genres</th>\n",
       "      <th>followers</th>\n",
       "      <th>artist_popularity</th>\n",
       "      <th>artist_url</th>\n",
       "      <th>track_name</th>\n",
       "      <th>album_name</th>\n",
       "      <th>release_date</th>\n",
       "      <th>duration_ms</th>\n",
       "      <th>...</th>\n",
       "      <th>energy</th>\n",
       "      <th>key</th>\n",
       "      <th>loudness</th>\n",
       "      <th>mode</th>\n",
       "      <th>speechiness</th>\n",
       "      <th>acousticness</th>\n",
       "      <th>instrumentalness</th>\n",
       "      <th>liveness</th>\n",
       "      <th>valence</th>\n",
       "      <th>tempo</th>\n",
       "    </tr>\n",
       "  </thead>\n",
       "  <tbody>\n",
       "    <tr>\n",
       "      <th>0</th>\n",
       "      <td>0</td>\n",
       "      <td>Ariana Grande</td>\n",
       "      <td>pop</td>\n",
       "      <td>98934105</td>\n",
       "      <td>89</td>\n",
       "      <td>https://open.spotify.com/artist/66CXWjxzNUsdJx...</td>\n",
       "      <td>we can't be friends (wait for your love)</td>\n",
       "      <td>eternal sunshine</td>\n",
       "      <td>2024-03-08</td>\n",
       "      <td>228639</td>\n",
       "      <td>...</td>\n",
       "      <td>0.646</td>\n",
       "      <td>5</td>\n",
       "      <td>-8.334</td>\n",
       "      <td>1</td>\n",
       "      <td>0.0427</td>\n",
       "      <td>0.0615</td>\n",
       "      <td>0.00003</td>\n",
       "      <td>0.0740</td>\n",
       "      <td>0.295</td>\n",
       "      <td>115.842</td>\n",
       "    </tr>\n",
       "    <tr>\n",
       "      <th>1</th>\n",
       "      <td>1</td>\n",
       "      <td>Ariana Grande</td>\n",
       "      <td>pop</td>\n",
       "      <td>98934105</td>\n",
       "      <td>85</td>\n",
       "      <td>https://open.spotify.com/artist/66CXWjxzNUsdJx...</td>\n",
       "      <td>the boy is mine</td>\n",
       "      <td>eternal sunshine</td>\n",
       "      <td>2024-03-08</td>\n",
       "      <td>173639</td>\n",
       "      <td>...</td>\n",
       "      <td>0.630</td>\n",
       "      <td>7</td>\n",
       "      <td>-5.854</td>\n",
       "      <td>0</td>\n",
       "      <td>0.0434</td>\n",
       "      <td>0.1570</td>\n",
       "      <td>0.00000</td>\n",
       "      <td>0.0732</td>\n",
       "      <td>0.447</td>\n",
       "      <td>97.998</td>\n",
       "    </tr>\n",
       "    <tr>\n",
       "      <th>2</th>\n",
       "      <td>2</td>\n",
       "      <td>Ariana Grande</td>\n",
       "      <td>pop</td>\n",
       "      <td>98934105</td>\n",
       "      <td>83</td>\n",
       "      <td>https://open.spotify.com/artist/66CXWjxzNUsdJx...</td>\n",
       "      <td>intro (end of the world)</td>\n",
       "      <td>eternal sunshine</td>\n",
       "      <td>2024-03-08</td>\n",
       "      <td>92400</td>\n",
       "      <td>...</td>\n",
       "      <td>0.362</td>\n",
       "      <td>10</td>\n",
       "      <td>-9.480</td>\n",
       "      <td>1</td>\n",
       "      <td>0.0416</td>\n",
       "      <td>0.6700</td>\n",
       "      <td>0.00000</td>\n",
       "      <td>0.1760</td>\n",
       "      <td>0.385</td>\n",
       "      <td>84.726</td>\n",
       "    </tr>\n",
       "  </tbody>\n",
       "</table>\n",
       "<p>3 rows × 23 columns</p>\n",
       "</div>"
      ],
      "text/plain": [
       "   Unnamed: 0    artist_name genres  followers  artist_popularity  \\\n",
       "0           0  Ariana Grande    pop   98934105                 89   \n",
       "1           1  Ariana Grande    pop   98934105                 85   \n",
       "2           2  Ariana Grande    pop   98934105                 83   \n",
       "\n",
       "                                          artist_url  \\\n",
       "0  https://open.spotify.com/artist/66CXWjxzNUsdJx...   \n",
       "1  https://open.spotify.com/artist/66CXWjxzNUsdJx...   \n",
       "2  https://open.spotify.com/artist/66CXWjxzNUsdJx...   \n",
       "\n",
       "                                 track_name        album_name release_date  \\\n",
       "0  we can't be friends (wait for your love)  eternal sunshine   2024-03-08   \n",
       "1                           the boy is mine  eternal sunshine   2024-03-08   \n",
       "2                  intro (end of the world)  eternal sunshine   2024-03-08   \n",
       "\n",
       "   duration_ms  ...  energy  key  loudness  mode  speechiness  acousticness  \\\n",
       "0       228639  ...   0.646    5    -8.334     1       0.0427        0.0615   \n",
       "1       173639  ...   0.630    7    -5.854     0       0.0434        0.1570   \n",
       "2        92400  ...   0.362   10    -9.480     1       0.0416        0.6700   \n",
       "\n",
       "   instrumentalness  liveness  valence    tempo  \n",
       "0           0.00003    0.0740    0.295  115.842  \n",
       "1           0.00000    0.0732    0.447   97.998  \n",
       "2           0.00000    0.1760    0.385   84.726  \n",
       "\n",
       "[3 rows x 23 columns]"
      ]
     },
     "execution_count": 148,
     "metadata": {},
     "output_type": "execute_result"
    }
   ],
   "source": [
    "df = pd.read_csv('data/spotifydataset.csv')\n",
    "df_old = df.copy()\n",
    "df.head(3)"
   ]
  },
  {
   "cell_type": "code",
   "execution_count": 149,
   "id": "3ba66b02",
   "metadata": {},
   "outputs": [],
   "source": [
    "df.drop('Unnamed: 0', axis=1, inplace=True)"
   ]
  },
  {
   "cell_type": "markdown",
   "id": "268b1b3c",
   "metadata": {},
   "source": [
    "## Пропуски"
   ]
  },
  {
   "cell_type": "code",
   "execution_count": 150,
   "id": "b4dabc9e",
   "metadata": {},
   "outputs": [
    {
     "name": "stderr",
     "output_type": "stream",
     "text": [
      "C:\\Users\\User\\AppData\\Local\\Temp\\ipykernel_14060\\1955191895.py:1: FutureWarning: A value is trying to be set on a copy of a DataFrame or Series through chained assignment using an inplace method.\n",
      "The behavior will change in pandas 3.0. This inplace method will never work because the intermediate object on which we are setting values always behaves as a copy.\n",
      "\n",
      "For example, when doing 'df[col].method(value, inplace=True)', try using 'df.method({col: value}, inplace=True)' or df[col] = df[col].method(value) instead, to perform the operation inplace on the original object.\n",
      "\n",
      "\n",
      "  df['genres'].fillna('UNKNOWN', inplace=True)\n"
     ]
    },
    {
     "data": {
      "application/vnd.microsoft.datawrangler.viewer.v0+json": {
       "columns": [
        {
         "name": "index",
         "rawType": "object",
         "type": "string"
        },
        {
         "name": "0",
         "rawType": "int64",
         "type": "integer"
        }
       ],
       "ref": "5ec00097-12d9-40e7-8d82-546103e89800",
       "rows": [
        [
         "artist_name",
         "0"
        ],
        [
         "genres",
         "0"
        ],
        [
         "followers",
         "0"
        ],
        [
         "artist_popularity",
         "0"
        ],
        [
         "artist_url",
         "0"
        ],
        [
         "track_name",
         "0"
        ],
        [
         "album_name",
         "0"
        ],
        [
         "release_date",
         "0"
        ],
        [
         "duration_ms",
         "0"
        ],
        [
         "explicit",
         "0"
        ],
        [
         "track_popularity",
         "0"
        ],
        [
         "danceability",
         "0"
        ],
        [
         "energy",
         "0"
        ],
        [
         "key",
         "0"
        ],
        [
         "loudness",
         "0"
        ],
        [
         "mode",
         "0"
        ],
        [
         "speechiness",
         "0"
        ],
        [
         "acousticness",
         "0"
        ],
        [
         "instrumentalness",
         "0"
        ],
        [
         "liveness",
         "0"
        ],
        [
         "valence",
         "0"
        ],
        [
         "tempo",
         "0"
        ]
       ],
       "shape": {
        "columns": 1,
        "rows": 22
       }
      },
      "text/plain": [
       "artist_name          0\n",
       "genres               0\n",
       "followers            0\n",
       "artist_popularity    0\n",
       "artist_url           0\n",
       "track_name           0\n",
       "album_name           0\n",
       "release_date         0\n",
       "duration_ms          0\n",
       "explicit             0\n",
       "track_popularity     0\n",
       "danceability         0\n",
       "energy               0\n",
       "key                  0\n",
       "loudness             0\n",
       "mode                 0\n",
       "speechiness          0\n",
       "acousticness         0\n",
       "instrumentalness     0\n",
       "liveness             0\n",
       "valence              0\n",
       "tempo                0\n",
       "dtype: int64"
      ]
     },
     "execution_count": 150,
     "metadata": {},
     "output_type": "execute_result"
    }
   ],
   "source": [
    "df['genres'].fillna('UNKNOWN', inplace=True)\n",
    "df.isna().sum()"
   ]
  },
  {
   "cell_type": "code",
   "execution_count": 151,
   "id": "e09470c7",
   "metadata": {},
   "outputs": [
    {
     "data": {
      "application/vnd.microsoft.datawrangler.viewer.v0+json": {
       "columns": [
        {
         "name": "genres",
         "rawType": "object",
         "type": "string"
        },
        {
         "name": "count",
         "rawType": "int64",
         "type": "integer"
        }
       ],
       "ref": "df4de3b5-0cf0-42a5-9d99-faf17164ec0a",
       "rows": [
        [
         "UNKNOWN",
         "163"
        ],
        [
         "pop",
         "40"
        ],
        [
         "dance pop, pop",
         "20"
        ],
        [
         "british soul, pop, pop soul, uk pop",
         "10"
        ],
        [
         "east coast hip hop, hip hop, rap",
         "10"
        ],
        [
         "reggaeton, reggaeton flow, trap boricua, trap latino, urbano latino",
         "10"
        ],
        [
         "europop, swedish pop",
         "10"
        ],
        [
         "garage rock, modern rock, permanent wave, rock, sheffield indie",
         "10"
        ],
        [
         "alternative metal, alternative rock, grunge, hard rock, nu metal, rock",
         "10"
        ],
        [
         "philly indie, pov: indie, slacker rock",
         "10"
        ],
        [
         "melodic rap, rap, trap",
         "10"
        ],
        [
         "electropop, etherpop, indie poptimism, pop",
         "10"
        ],
        [
         "bachata, latin hip hop, latin pop, urbano latino",
         "10"
        ],
        [
         "atl hip hop, melodic rap, rap, trap",
         "10"
        ],
        [
         "bachata, bachata dominicana, latin hip hop, latin pop, tropical, urbano latino",
         "10"
        ],
        [
         "pov: indie",
         "10"
        ],
        [
         "australian rock, hard rock, rock",
         "10"
        ],
        [
         "gen z singer-songwriter, singer-songwriter pop",
         "10"
        ],
        [
         "canadian pop, candy pop, dance pop, pop",
         "10"
        ],
        [
         "filmi, modern bollywood",
         "10"
        ],
        [
         "dance pop",
         "10"
        ],
        [
         "escape room, hip hop, indie soul, neo soul",
         "10"
        ],
        [
         "british soul, neo soul",
         "10"
        ],
        [
         "countrygaze, indie pop, small room",
         "10"
        ],
        [
         "alternative metal",
         "10"
        ],
        [
         "modern rock, neon pop punk, pop emo, pop punk",
         "10"
        ],
        [
         "latin hip hop, reggaeton, trap latino, urbano latino",
         "10"
        ],
        [
         "alternative metal, metalcore, neon pop punk, pop punk, screamo",
         "10"
        ],
        [
         "neo soul, pop, r&b",
         "10"
        ],
        [
         "atl hip hop, atl trap, gangster rap, melodic rap, rap, trap",
         "10"
        ],
        [
         "dance pop, edm, pop, pop dance",
         "10"
        ],
        [
         "k-pop girl group",
         "10"
        ],
        [
         "k-pop, k-pop boy group",
         "10"
        ],
        [
         "dembow, rap dominicano, trap latino, urbano latino",
         "10"
        ],
        [
         "canadian pop, canadian singer-songwriter, lilith, neo mellow, pop rock, singer-songwriter",
         "10"
        ],
        [
         "afrobeats, nigerian pop",
         "10"
        ],
        [
         "art pop, norwegian pop",
         "10"
        ],
        [
         "country",
         "10"
        ],
        [
         "pop, singer-songwriter pop, uk pop",
         "10"
        ],
        [
         "ambient, braindance, electronica, intelligent dance music, uk experimental electronic",
         "10"
        ],
        [
         "electro house",
         "10"
        ],
        [
         "art pop, chamber pop, dream pop, dreamo, indie pop, indie rock, noise pop, shoegaze, toronto indie",
         "10"
        ],
        [
         "album rock, classic rock, detroit rock, glam metal, glam rock, hard rock, metal, protopunk, rock",
         "10"
        ],
        [
         "banda, corrido, musica mexicana, norteno, sad sierreno, sierreno",
         "10"
        ],
        [
         "alt z, pop, pov: indie",
         "10"
        ],
        [
         "album rock, classic rock, hard rock, rock",
         "10"
        ],
        [
         "dance pop, girl group, post-teen pop",
         "10"
        ],
        [
         "atl hip hop, contemporary r&b, dance pop, pop, r&b, rap, south carolina hip hop, urban contemporary",
         "10"
        ],
        [
         "alternative metal, nu metal, pop punk, post-grunge, punk, screamo",
         "10"
        ],
        [
         "puerto rican pop, reggaeton, trap latino, urbano latino",
         "10"
        ]
       ],
       "shape": {
        "columns": 1,
        "rows": 81
       }
      },
      "text/plain": [
       "genres\n",
       "UNKNOWN                                                                                     163\n",
       "pop                                                                                          40\n",
       "dance pop, pop                                                                               20\n",
       "british soul, pop, pop soul, uk pop                                                          10\n",
       "east coast hip hop, hip hop, rap                                                             10\n",
       "                                                                                           ... \n",
       "japanese teen pop                                                                            10\n",
       "alt z                                                                                        10\n",
       "ambient folk, indie folk                                                                     10\n",
       "atl hip hop, dirty south rap, hip hop, old school atlanta hip hop, rap, southern hip hop     10\n",
       "social media pop                                                                              7\n",
       "Name: count, Length: 81, dtype: int64"
      ]
     },
     "execution_count": 151,
     "metadata": {},
     "output_type": "execute_result"
    }
   ],
   "source": [
    "df['genres'].value_counts()"
   ]
  },
  {
   "cell_type": "markdown",
   "id": "09eae73b",
   "metadata": {},
   "source": [
    "## Cat -> Numbers"
   ]
  },
  {
   "cell_type": "markdown",
   "id": "6091be31",
   "metadata": {},
   "source": [
    "**artist**"
   ]
  },
  {
   "cell_type": "code",
   "execution_count": 152,
   "id": "6f71ec1e",
   "metadata": {},
   "outputs": [
    {
     "data": {
      "application/vnd.microsoft.datawrangler.viewer.v0+json": {
       "columns": [
        {
         "name": "artist_name",
         "rawType": "object",
         "type": "string"
        },
        {
         "name": "count",
         "rawType": "int64",
         "type": "integer"
        }
       ],
       "ref": "a52f6ba7-6fef-4b67-a78d-715ff47e50b7",
       "rows": [
        [
         "A",
         "106"
        ],
        [
         "a",
         "12"
        ],
        [
         "Ariana Grande",
         "10"
        ],
        [
         "Adele",
         "10"
        ],
        [
         "Arctic Monkeys",
         "10"
        ],
        [
         "Alice In Chains",
         "10"
        ],
        [
         "Anuel AA",
         "10"
        ],
        [
         "ABBA",
         "10"
        ],
        [
         "AJR",
         "10"
        ],
        [
         "AC/DC",
         "10"
        ],
        [
         "A$AP Rocky",
         "10"
        ],
        [
         "Taylor Swift",
         "10"
        ],
        [
         "Halsey",
         "10"
        ],
        [
         "Romeo Santos",
         "10"
        ],
        [
         "Aventura",
         "10"
        ],
        [
         "Gunna",
         "10"
        ],
        [
         "Akon",
         "10"
        ],
        [
         "Avril Lavigne",
         "10"
        ],
        [
         "Avenged Sevenfold",
         "10"
        ],
        [
         "Arijit Singh",
         "10"
        ],
        [
         "Adrianne Lenker",
         "10"
        ],
        [
         "Anderson .Paak",
         "10"
        ],
        [
         "Amy Winehouse",
         "10"
        ],
        [
         "Artemas",
         "10"
        ],
        [
         "All Time Low",
         "10"
        ],
        [
         "ATEEZ",
         "10"
        ],
        [
         "Alex G",
         "10"
        ],
        [
         "A Boogie Wit da Hoodie",
         "10"
        ],
        [
         "AFROJACK",
         "10"
        ],
        [
         "Arcángel",
         "10"
        ],
        [
         "Ayesha Erotica",
         "10"
        ],
        [
         "A Day To Remember",
         "10"
        ],
        [
         "Avicii",
         "10"
        ],
        [
         "aespa",
         "10"
        ],
        [
         "El Alfa",
         "10"
        ],
        [
         "Alicia Keys",
         "10"
        ],
        [
         "AURORA",
         "10"
        ],
        [
         "Asake",
         "10"
        ],
        [
         "Alan Jackson",
         "10"
        ],
        [
         "Ed Sheeran",
         "10"
        ],
        [
         "Aphex Twin",
         "10"
        ],
        [
         "Jason Derulo",
         "10"
        ],
        [
         "Alan Walker",
         "10"
        ],
        [
         "Young Thug",
         "10"
        ],
        [
         "Alvvays",
         "10"
        ],
        [
         "Ava Max",
         "10"
        ],
        [
         "Alfredo Olivas",
         "10"
        ],
        [
         "Alice Cooper",
         "10"
        ],
        [
         "Aerosmith",
         "10"
        ],
        [
         "Alec Benjamin",
         "10"
        ]
       ],
       "shape": {
        "columns": 1,
        "rows": 92
       }
      },
      "text/plain": [
       "artist_name\n",
       "A                 106\n",
       "a                  12\n",
       "Ariana Grande      10\n",
       "Adele              10\n",
       "Arctic Monkeys     10\n",
       "                 ... \n",
       "Aaliyah            10\n",
       "Gracie Abrams      10\n",
       "Addison Rae         7\n",
       "alex_g_offline      4\n",
       "Ã                   1\n",
       "Name: count, Length: 92, dtype: int64"
      ]
     },
     "execution_count": 152,
     "metadata": {},
     "output_type": "execute_result"
    }
   ],
   "source": [
    "df.artist_name.value_counts()"
   ]
  },
  {
   "cell_type": "code",
   "execution_count": 153,
   "id": "157a5c05",
   "metadata": {},
   "outputs": [
    {
     "data": {
      "application/vnd.microsoft.datawrangler.viewer.v0+json": {
       "columns": [
        {
         "name": "artist_url",
         "rawType": "object",
         "type": "string"
        },
        {
         "name": "count",
         "rawType": "int64",
         "type": "integer"
        }
       ],
       "ref": "c6214c6d-a1ef-4336-b4c9-9e1eb140beca",
       "rows": [
        [
         "https://open.spotify.com/artist/66CXWjxzNUsdJxJ2JdwvnR",
         "10"
        ],
        [
         "https://open.spotify.com/artist/4dpARuHxo51G3z768sgnrY",
         "10"
        ],
        [
         "https://open.spotify.com/artist/13ubrt8QOOCPljQ2FL1Kca",
         "10"
        ],
        [
         "https://open.spotify.com/artist/06HL4z0CvFAxyc27GXpf02",
         "10"
        ],
        [
         "https://open.spotify.com/artist/7Ln80lUS6He07XvHI8qqHH",
         "10"
        ],
        [
         "https://open.spotify.com/artist/64tNsm6TnZe2zpcMVMOoHL",
         "10"
        ],
        [
         "https://open.spotify.com/artist/2R21vXR83lH98kGeO99Y66",
         "10"
        ],
        [
         "https://open.spotify.com/artist/0LcJLqbBmaGUft1e9Mm8HV",
         "10"
        ],
        [
         "https://open.spotify.com/artist/6s22t5Y3prQHyaHWUN1R1C",
         "10"
        ],
        [
         "https://open.spotify.com/artist/711MCceyCBcFnzjGY4Q7Un",
         "10"
        ],
        [
         "https://open.spotify.com/artist/6lcwlkAjBPSKnFBZjjZFJs",
         "10"
        ],
        [
         "https://open.spotify.com/artist/31W5EY0aAly4Qieq6OFu6I",
         "10"
        ],
        [
         "https://open.spotify.com/artist/26VFTg2z8YR0cCuwLzESi2",
         "10"
        ],
        [
         "https://open.spotify.com/artist/5lwmRuXgjX8xIwlnauTZIP",
         "10"
        ],
        [
         "https://open.spotify.com/artist/0z4gvV4rjIZ9wHck67ucSV",
         "10"
        ],
        [
         "https://open.spotify.com/artist/1qto4hHid1P71emI6Fd8xi",
         "10"
        ],
        [
         "https://open.spotify.com/artist/2hlmm7s2ICUX0LVIhVFlZQ",
         "10"
        ],
        [
         "https://open.spotify.com/artist/0p4nmQO2msCgU4IF37Wi3j",
         "10"
        ],
        [
         "https://open.spotify.com/artist/4YRxDV8wJFPHPTeXepOstw",
         "10"
        ],
        [
         "https://open.spotify.com/artist/0nmQIMXWTXfhgOBdNzhGOs",
         "10"
        ],
        [
         "https://open.spotify.com/artist/3jK9MiCrA42lLAdMGUZpwa",
         "10"
        ],
        [
         "https://open.spotify.com/artist/6Q192DXotxtaysaqNPy5yR",
         "10"
        ],
        [
         "https://open.spotify.com/artist/4mxWe1mtYIYfP040G38yvS",
         "10"
        ],
        [
         "https://open.spotify.com/artist/0PCCGZ0wGLizHt2KZ7hhA2",
         "10"
        ],
        [
         "https://open.spotify.com/artist/4aKWmkWAKviFlyvHYPTNQY",
         "10"
        ],
        [
         "https://open.spotify.com/artist/68KmkJeZGfwe1OUaivBa2L",
         "10"
        ],
        [
         "https://open.spotify.com/artist/46gyXjRIvN1NL1eCB8GBxo",
         "10"
        ],
        [
         "https://open.spotify.com/artist/4SsVbpTthjScTS7U2hmr1X",
         "10"
        ],
        [
         "https://open.spotify.com/artist/4NiJW4q9ichVqL1aUsgGAN",
         "10"
        ],
        [
         "https://open.spotify.com/artist/3DiDSECUqqY1AuBP8qtaIa",
         "10"
        ],
        [
         "https://open.spotify.com/artist/7M5pDtJpCdnftEQZtczYco",
         "10"
        ],
        [
         "https://open.spotify.com/artist/50co4Is1HCEo8bhOyUWKpn",
         "10"
        ],
        [
         "https://open.spotify.com/artist/1vCWHaC5f2uS3yhpwWbIA6",
         "10"
        ],
        [
         "https://open.spotify.com/artist/6YVMFz59CuY7ngCxTxjpxE",
         "10"
        ],
        [
         "https://open.spotify.com/artist/2oQX8QiMXOyuqbcZEFsZfm",
         "10"
        ],
        [
         "https://open.spotify.com/artist/6ogn9necmbUdCppmNnGOdi",
         "10"
        ],
        [
         "https://open.spotify.com/artist/1WgXqy2Dd70QQOU7Ay074N",
         "10"
        ],
        [
         "https://open.spotify.com/artist/3a1tBryiczPAZpgoZN9Rzg",
         "10"
        ],
        [
         "https://open.spotify.com/artist/5xYNmNkaWRqu3e5F4UXME8",
         "10"
        ],
        [
         "https://open.spotify.com/artist/6eUKZXaKkcviH0Ku9w2n3V",
         "10"
        ],
        [
         "https://open.spotify.com/artist/6kBDZFXuLrZgHnvmPu9NsG",
         "10"
        ],
        [
         "https://open.spotify.com/artist/07YZf4WDAMNwqr4jfgOZ8y",
         "10"
        ],
        [
         "https://open.spotify.com/artist/7vk5e3vY1uw9plTHJAMwjN",
         "10"
        ],
        [
         "https://open.spotify.com/artist/3kzwYV3OCB010YfXMF0Avt",
         "10"
        ],
        [
         "https://open.spotify.com/artist/4npEfmQ6YuiwW1GpUmaq3F",
         "10"
        ],
        [
         "https://open.spotify.com/artist/3EhbVgyfGd7HkpsagwL9GS",
         "10"
        ],
        [
         "https://open.spotify.com/artist/23zg3TcAtWQy7J6upgbUnj",
         "10"
        ],
        [
         "https://open.spotify.com/artist/1l7ZsJRRS8wlW3WfJfPfNS",
         "10"
        ],
        [
         "https://open.spotify.com/artist/5IH6FPUwQTxPSXurCrcIov",
         "10"
        ],
        [
         "https://open.spotify.com/artist/7Ey4PD4MYsKc5I2dolUwbH",
         "10"
        ]
       ],
       "shape": {
        "columns": 1,
        "rows": 118
       }
      },
      "text/plain": [
       "artist_url\n",
       "https://open.spotify.com/artist/66CXWjxzNUsdJxJ2JdwvnR    10\n",
       "https://open.spotify.com/artist/4dpARuHxo51G3z768sgnrY    10\n",
       "https://open.spotify.com/artist/13ubrt8QOOCPljQ2FL1Kca    10\n",
       "https://open.spotify.com/artist/06HL4z0CvFAxyc27GXpf02    10\n",
       "https://open.spotify.com/artist/7Ln80lUS6He07XvHI8qqHH    10\n",
       "                                                          ..\n",
       "https://open.spotify.com/artist/0VeuhtyLJhzeGV4ht7EstC     1\n",
       "https://open.spotify.com/artist/1t0QSnG1mYs88ahQmAgeuK     1\n",
       "https://open.spotify.com/artist/3dkzFPQ0RzpI6jFjPXaqki     1\n",
       "https://open.spotify.com/artist/1dIc8SElekAIf7zZUc3e1y     1\n",
       "https://open.spotify.com/artist/5FnG9lLegyiFtLtZG2XLQ4     1\n",
       "Name: count, Length: 118, dtype: int64"
      ]
     },
     "execution_count": 153,
     "metadata": {},
     "output_type": "execute_result"
    }
   ],
   "source": [
    "df.artist_url.value_counts()"
   ]
  },
  {
   "cell_type": "code",
   "execution_count": 154,
   "id": "bc5a6a97",
   "metadata": {},
   "outputs": [
    {
     "data": {
      "application/vnd.microsoft.datawrangler.viewer.v0+json": {
       "columns": [
        {
         "name": "('artist_name', 'artist_url')",
         "rawType": "object",
         "type": "unknown"
        },
        {
         "name": "count",
         "rawType": "int64",
         "type": "integer"
        }
       ],
       "ref": "587f233b-9805-4067-b521-3cd2c40ce4c4",
       "rows": [
        [
         "('A', 'https://open.spotify.com/artist/0vRCGkgJdtoNRJy5lqgD2N')",
         "10"
        ],
        [
         "('A', 'https://open.spotify.com/artist/1jEW6dI75QSGs0OdInwQkk')",
         "10"
        ],
        [
         "('A', 'https://open.spotify.com/artist/3f9OwgLz4OSqOaYIaOKrBJ')",
         "10"
        ],
        [
         "('A', 'https://open.spotify.com/artist/4JHgOJFhRw27P38t1tAHiP')",
         "10"
        ],
        [
         "('A', 'https://open.spotify.com/artist/3HBxYEtI2i43MzWyTXupVv')",
         "10"
        ],
        [
         "('Alessia Cara', 'https://open.spotify.com/artist/2wUjUUtkb5lvLKcGKsKqsR')",
         "10"
        ],
        [
         "('Adele', 'https://open.spotify.com/artist/4dpARuHxo51G3z768sgnrY')",
         "10"
        ],
        [
         "('Ado', 'https://open.spotify.com/artist/6mEQK9m2krja6X1cfsAjfl')",
         "10"
        ],
        [
         "('Adrianne Lenker', 'https://open.spotify.com/artist/4aKWmkWAKviFlyvHYPTNQY')",
         "10"
        ],
        [
         "('Aaron May', 'https://open.spotify.com/artist/2rwALQ1SXdfUWPUd6WOfYS')",
         "10"
        ],
        [
         "('AJR', 'https://open.spotify.com/artist/6s22t5Y3prQHyaHWUN1R1C')",
         "10"
        ],
        [
         "('Aaliyah', 'https://open.spotify.com/artist/0urTpYCsixqZwgNTkPJOJ4')",
         "10"
        ],
        [
         "('AURORA', 'https://open.spotify.com/artist/1WgXqy2Dd70QQOU7Ay074N')",
         "10"
        ],
        [
         "('ATEEZ', 'https://open.spotify.com/artist/68KmkJeZGfwe1OUaivBa2L')",
         "10"
        ],
        [
         "('AC/DC', 'https://open.spotify.com/artist/711MCceyCBcFnzjGY4Q7Un')",
         "10"
        ],
        [
         "('AFI', 'https://open.spotify.com/artist/19I4tYiChJoxEO5EuviXpz')",
         "10"
        ],
        [
         "('AFROJACK', 'https://open.spotify.com/artist/4D75GcNG95ebPtNvoNVXhz')",
         "10"
        ],
        [
         "('ABBA', 'https://open.spotify.com/artist/0LcJLqbBmaGUft1e9Mm8HV')",
         "10"
        ],
        [
         "('A Day To Remember', 'https://open.spotify.com/artist/4NiJW4q9ichVqL1aUsgGAN')",
         "10"
        ],
        [
         "('A$AP Ferg', 'https://open.spotify.com/artist/5dHt1vcEm9qb8fCyLcB3HL')",
         "10"
        ],
        [
         "('A$AP Rocky', 'https://open.spotify.com/artist/13ubrt8QOOCPljQ2FL1Kca')",
         "10"
        ],
        [
         "('A Boogie Wit da Hoodie', 'https://open.spotify.com/artist/31W5EY0aAly4Qieq6OFu6I')",
         "10"
        ],
        [
         "('Alex G', 'https://open.spotify.com/artist/6lcwlkAjBPSKnFBZjjZFJs')",
         "10"
        ],
        [
         "('Alan Walker', 'https://open.spotify.com/artist/7vk5e3vY1uw9plTHJAMwjN')",
         "10"
        ],
        [
         "('Alanis Morissette', 'https://open.spotify.com/artist/6ogn9necmbUdCppmNnGOdi')",
         "10"
        ],
        [
         "('Aerosmith', 'https://open.spotify.com/artist/7Ey4PD4MYsKc5I2dolUwbH')",
         "10"
        ],
        [
         "('Akon', 'https://open.spotify.com/artist/0z4gvV4rjIZ9wHck67ucSV')",
         "10"
        ],
        [
         "('Agust D', 'https://open.spotify.com/artist/5RmQ8k4l3HZ8JoPb4mNsML')",
         "10"
        ],
        [
         "('Alabama', 'https://open.spotify.com/artist/6rJqqRce0Kvo2dJUXoHleC')",
         "10"
        ],
        [
         "('Alan Jackson', 'https://open.spotify.com/artist/4mxWe1mtYIYfP040G38yvS')",
         "10"
        ],
        [
         "('Alex Warren', 'https://open.spotify.com/artist/0fTSzq9jAh4c36UVb4V7CB')",
         "10"
        ],
        [
         "('Alesso', 'https://open.spotify.com/artist/4AVFqumd2ogHFlRbKIjp1t')",
         "10"
        ],
        [
         "('Alec Benjamin', 'https://open.spotify.com/artist/5IH6FPUwQTxPSXurCrcIov')",
         "10"
        ],
        [
         "('Arcángel', 'https://open.spotify.com/artist/4SsVbpTthjScTS7U2hmr1X')",
         "10"
        ],
        [
         "('Arctic Monkeys', 'https://open.spotify.com/artist/7Ln80lUS6He07XvHI8qqHH')",
         "10"
        ],
        [
         "('Aphex Twin', 'https://open.spotify.com/artist/6kBDZFXuLrZgHnvmPu9NsG')",
         "10"
        ],
        [
         "('Anuel AA', 'https://open.spotify.com/artist/2R21vXR83lH98kGeO99Y66')",
         "10"
        ],
        [
         "('Anne-Marie', 'https://open.spotify.com/artist/1zNqDE7qDGCsyzJwohVaoX')",
         "10"
        ],
        [
         "('Anitta', 'https://open.spotify.com/artist/7FNnA9vBm6EKceENgCGRMb')",
         "10"
        ],
        [
         "('Anirudh Ravichander', 'https://open.spotify.com/artist/4zCH9qm4R2DADamUHMCa6O')",
         "10"
        ],
        [
         "('Andy Grammer', 'https://open.spotify.com/artist/2oX42qP5ineK3hrhBECLmj')",
         "10"
        ],
        [
         "('Andrew Underberg', 'https://open.spotify.com/artist/4zXroEby35IgWPERRcW4Ay')",
         "10"
        ],
        [
         "('Anderson .Paak', 'https://open.spotify.com/artist/3jK9MiCrA42lLAdMGUZpwa')",
         "10"
        ],
        [
         "('Amy Winehouse', 'https://open.spotify.com/artist/6Q192DXotxtaysaqNPy5yR')",
         "10"
        ],
        [
         "('America', 'https://open.spotify.com/artist/35U9lQaRWSQISxQAB94Meo')",
         "10"
        ],
        [
         "('Aly & AJ', 'https://open.spotify.com/artist/5wugb0kaq0J6nyQ5Xgd17i')",
         "10"
        ],
        [
         "('Alvvays', 'https://open.spotify.com/artist/3kzwYV3OCB010YfXMF0Avt')",
         "10"
        ],
        [
         "('Alvaro Diaz', 'https://open.spotify.com/artist/5J7rXWjtn5HzUkJ4Jet8Fr')",
         "10"
        ],
        [
         "('Alok', 'https://open.spotify.com/artist/0NGAZxHanS9e0iNHpR8f2W')",
         "10"
        ],
        [
         "('All Time Low', 'https://open.spotify.com/artist/46gyXjRIvN1NL1eCB8GBxo')",
         "10"
        ]
       ],
       "shape": {
        "columns": 1,
        "rows": 118
       }
      },
      "text/html": [
       "<div>\n",
       "<style scoped>\n",
       "    .dataframe tbody tr th:only-of-type {\n",
       "        vertical-align: middle;\n",
       "    }\n",
       "\n",
       "    .dataframe tbody tr th {\n",
       "        vertical-align: top;\n",
       "    }\n",
       "\n",
       "    .dataframe thead th {\n",
       "        text-align: right;\n",
       "    }\n",
       "</style>\n",
       "<table border=\"1\" class=\"dataframe\">\n",
       "  <thead>\n",
       "    <tr style=\"text-align: right;\">\n",
       "      <th></th>\n",
       "      <th></th>\n",
       "      <th>count</th>\n",
       "    </tr>\n",
       "    <tr>\n",
       "      <th>artist_name</th>\n",
       "      <th>artist_url</th>\n",
       "      <th></th>\n",
       "    </tr>\n",
       "  </thead>\n",
       "  <tbody>\n",
       "    <tr>\n",
       "      <th rowspan=\"8\" valign=\"top\">A</th>\n",
       "      <th>https://open.spotify.com/artist/0vRCGkgJdtoNRJy5lqgD2N</th>\n",
       "      <td>10</td>\n",
       "    </tr>\n",
       "    <tr>\n",
       "      <th>https://open.spotify.com/artist/1jEW6dI75QSGs0OdInwQkk</th>\n",
       "      <td>10</td>\n",
       "    </tr>\n",
       "    <tr>\n",
       "      <th>https://open.spotify.com/artist/3f9OwgLz4OSqOaYIaOKrBJ</th>\n",
       "      <td>10</td>\n",
       "    </tr>\n",
       "    <tr>\n",
       "      <th>https://open.spotify.com/artist/4JHgOJFhRw27P38t1tAHiP</th>\n",
       "      <td>10</td>\n",
       "    </tr>\n",
       "    <tr>\n",
       "      <th>https://open.spotify.com/artist/3HBxYEtI2i43MzWyTXupVv</th>\n",
       "      <td>10</td>\n",
       "    </tr>\n",
       "    <tr>\n",
       "      <th>...</th>\n",
       "      <td>...</td>\n",
       "    </tr>\n",
       "    <tr>\n",
       "      <th>https://open.spotify.com/artist/1dIc8SElekAIf7zZUc3e1y</th>\n",
       "      <td>1</td>\n",
       "    </tr>\n",
       "    <tr>\n",
       "      <th>https://open.spotify.com/artist/1t0QSnG1mYs88ahQmAgeuK</th>\n",
       "      <td>1</td>\n",
       "    </tr>\n",
       "    <tr>\n",
       "      <th rowspan=\"2\" valign=\"top\">a</th>\n",
       "      <th>https://open.spotify.com/artist/1nKbNw7884Yyv33TDekZhO</th>\n",
       "      <td>1</td>\n",
       "    </tr>\n",
       "    <tr>\n",
       "      <th>https://open.spotify.com/artist/1e9Md0vofNAvTEuVBeC7BT</th>\n",
       "      <td>1</td>\n",
       "    </tr>\n",
       "    <tr>\n",
       "      <th>Ã</th>\n",
       "      <th>https://open.spotify.com/artist/5FnG9lLegyiFtLtZG2XLQ4</th>\n",
       "      <td>1</td>\n",
       "    </tr>\n",
       "  </tbody>\n",
       "</table>\n",
       "<p>118 rows × 1 columns</p>\n",
       "</div>"
      ],
      "text/plain": [
       "                                                                count\n",
       "artist_name artist_url                                               \n",
       "A           https://open.spotify.com/artist/0vRCGkgJdtoNRJy...     10\n",
       "            https://open.spotify.com/artist/1jEW6dI75QSGs0O...     10\n",
       "            https://open.spotify.com/artist/3f9OwgLz4OSqOaY...     10\n",
       "            https://open.spotify.com/artist/4JHgOJFhRw27P38...     10\n",
       "            https://open.spotify.com/artist/3HBxYEtI2i43MzW...     10\n",
       "...                                                               ...\n",
       "            https://open.spotify.com/artist/1dIc8SElekAIf7z...      1\n",
       "            https://open.spotify.com/artist/1t0QSnG1mYs88ah...      1\n",
       "a           https://open.spotify.com/artist/1nKbNw7884Yyv33...      1\n",
       "            https://open.spotify.com/artist/1e9Md0vofNAvTEu...      1\n",
       "Ã           https://open.spotify.com/artist/5FnG9lLegyiFtLt...      1\n",
       "\n",
       "[118 rows x 1 columns]"
      ]
     },
     "execution_count": 154,
     "metadata": {},
     "output_type": "execute_result"
    }
   ],
   "source": [
    "pd.DataFrame(df[['artist_name', 'artist_url']].value_counts())"
   ]
  },
  {
   "cell_type": "code",
   "execution_count": 155,
   "id": "4bf68756",
   "metadata": {},
   "outputs": [
    {
     "data": {
      "application/vnd.microsoft.datawrangler.viewer.v0+json": {
       "columns": [
        {
         "name": "artist_id",
         "rawType": "int64",
         "type": "integer"
        },
        {
         "name": "count",
         "rawType": "int64",
         "type": "integer"
        }
       ],
       "ref": "c0adb8b6-7805-4305-8355-0a2e518471a6",
       "rows": [
        [
         "76",
         "10"
        ],
        [
         "40",
         "10"
        ],
        [
         "29",
         "10"
        ],
        [
         "105",
         "10"
        ],
        [
         "74",
         "10"
        ],
        [
         "57",
         "10"
        ],
        [
         "72",
         "10"
        ],
        [
         "30",
         "10"
        ],
        [
         "34",
         "10"
        ],
        [
         "31",
         "10"
        ],
        [
         "53",
         "10"
        ],
        [
         "26",
         "10"
        ],
        [
         "96",
         "10"
        ],
        [
         "104",
         "10"
        ],
        [
         "45",
         "10"
        ],
        [
         "85",
         "10"
        ],
        [
         "94",
         "10"
        ],
        [
         "87",
         "10"
        ],
        [
         "77",
         "10"
        ],
        [
         "84",
         "10"
        ],
        [
         "66",
         "10"
        ],
        [
         "65",
         "10"
        ],
        [
         "47",
         "10"
        ],
        [
         "79",
         "10"
        ],
        [
         "42",
         "10"
        ],
        [
         "35",
         "10"
        ],
        [
         "59",
         "10"
        ],
        [
         "75",
         "10"
        ],
        [
         "27",
         "10"
        ],
        [
         "58",
         "10"
        ],
        [
         "88",
         "10"
        ],
        [
         "110",
         "10"
        ],
        [
         "86",
         "10"
        ],
        [
         "114",
         "10"
        ],
        [
         "92",
         "10"
        ],
        [
         "49",
         "10"
        ],
        [
         "36",
         "10"
        ],
        [
         "80",
         "10"
        ],
        [
         "55",
         "10"
        ],
        [
         "91",
         "10"
        ],
        [
         "73",
         "10"
        ],
        [
         "97",
         "10"
        ],
        [
         "48",
         "10"
        ],
        [
         "62",
         "10"
        ],
        [
         "83",
         "10"
        ],
        [
         "56",
         "10"
        ],
        [
         "108",
         "10"
        ],
        [
         "90",
         "10"
        ],
        [
         "50",
         "10"
        ],
        [
         "43",
         "10"
        ]
       ],
       "shape": {
        "columns": 1,
        "rows": 118
       }
      },
      "text/plain": [
       "artist_id\n",
       "76     10\n",
       "40     10\n",
       "29     10\n",
       "105    10\n",
       "74     10\n",
       "       ..\n",
       "2       1\n",
       "11      1\n",
       "15      1\n",
       "9       1\n",
       "117     1\n",
       "Name: count, Length: 118, dtype: int64"
      ]
     },
     "execution_count": 155,
     "metadata": {},
     "output_type": "execute_result"
    }
   ],
   "source": [
    "df[\"artist_id\"] = df.groupby([\"artist_name\", \"artist_url\"]).ngroup() + 1\n",
    "df.artist_id.value_counts()"
   ]
  },
  {
   "cell_type": "code",
   "execution_count": 156,
   "id": "b5661e9e",
   "metadata": {},
   "outputs": [],
   "source": [
    "df.drop(['artist_name', 'artist_url'], axis=1, inplace=True)"
   ]
  },
  {
   "cell_type": "markdown",
   "id": "582c812c",
   "metadata": {},
   "source": [
    "**track name**"
   ]
  },
  {
   "cell_type": "code",
   "execution_count": 157,
   "id": "ee2bb298",
   "metadata": {},
   "outputs": [
    {
     "data": {
      "application/vnd.microsoft.datawrangler.viewer.v0+json": {
       "columns": [
        {
         "name": "track_name",
         "rawType": "object",
         "type": "string"
        },
        {
         "name": "count",
         "rawType": "int64",
         "type": "integer"
        }
       ],
       "ref": "62e48ce2-0fc4-419b-b37b-6e04eee36722",
       "rows": [
        [
         "Closer",
         "2"
        ],
        [
         "Chaleya",
         "2"
        ],
        [
         "Jungle",
         "2"
        ],
        [
         "Beautiful",
         "2"
        ],
        [
         "My Boo",
         "2"
        ],
        [
         "No One",
         "2"
        ],
        [
         "Ella Quiere Beber - Remix",
         "2"
        ],
        [
         "Car Keys (Ayla)",
         "2"
        ],
        [
         "Alone, Pt. II",
         "2"
        ],
        [
         "Potential Breakup Song",
         "2"
        ],
        [
         "Rush",
         "2"
        ],
        [
         "PSYCHO",
         "2"
        ],
        [
         "Santa",
         "2"
        ],
        [
         "Dreams",
         "2"
        ],
        [
         "Give Me Everything (feat. Nayer)",
         "2"
        ],
        [
         "In And Out Of Love",
         "2"
        ],
        [
         "Hello",
         "1"
        ],
        [
         "Sundress",
         "1"
        ],
        [
         "I Smoked Away My Brain (I'm God x Demons Mashup) (feat. Imogen Heap & Clams Casino)",
         "1"
        ],
        [
         "Praise The Lord (Da Shine) (feat. Skepta)",
         "1"
        ],
        [
         "Everyday (feat. Rod Stewart, Miguel & Mark Ronson)",
         "1"
        ],
        [
         "New Genesis",
         "1"
        ],
        [
         "Down In A Hole (2022 Remaster)",
         "1"
        ],
        [
         "Keep Me",
         "1"
        ],
        [
         "Anchor",
         "1"
        ],
        [
         "Fortnight (feat. Post Malone)",
         "1"
        ],
        [
         "Player's Ball",
         "1"
        ],
        [
         "we can't be friends (wait for your love)",
         "1"
        ],
        [
         "the boy is mine",
         "1"
        ],
        [
         "intro (end of the world)",
         "1"
        ],
        [
         "Save Your Tears (Remix) (with Ariana Grande) - Bonus Track",
         "1"
        ],
        [
         "yes, and?",
         "1"
        ],
        [
         "One Last Time",
         "1"
        ],
        [
         "HIGHJACK",
         "1"
        ],
        [
         "Fashion Killa",
         "1"
        ],
        [
         "Am I Dreaming (Metro Boomin & A$AP Rocky, Roisee)",
         "1"
        ],
        [
         "F**kin' Problems (feat. Drake, 2 Chainz & Kendrick Lamar)",
         "1"
        ],
        [
         "LVL",
         "1"
        ],
        [
         "Jukebox Joints (feat. Joe Fox & Kanye West)",
         "1"
        ],
        [
         "Cruel Summer",
         "1"
        ],
        [
         "Easy On Me",
         "1"
        ],
        [
         "I Can Do It With a Broken Heart",
         "1"
        ],
        [
         "august",
         "1"
        ],
        [
         "Lover",
         "1"
        ],
        [
         "Guilty as Sin?",
         "1"
        ],
        [
         "cardigan",
         "1"
        ],
        [
         "Down Bad",
         "1"
        ],
        [
         "Anti-Hero",
         "1"
        ],
        [
         "Don’t Blame Me",
         "1"
        ],
        [
         "I Wanna Be Yours",
         "1"
        ]
       ],
       "shape": {
        "columns": 1,
        "rows": 984
       }
      },
      "text/plain": [
       "track_name\n",
       "Closer                            2\n",
       "Chaleya                           2\n",
       "Jungle                            2\n",
       "Beautiful                         2\n",
       "My Boo                            2\n",
       "                                 ..\n",
       "Roses                             1\n",
       "Rosa Parks                        1\n",
       "B.O.B. - Bombs Over Baghdad       1\n",
       "Da Art of Storytellin' (Pt. 1)    1\n",
       "Set Fire to the Rain              1\n",
       "Name: count, Length: 984, dtype: int64"
      ]
     },
     "execution_count": 157,
     "metadata": {},
     "output_type": "execute_result"
    }
   ],
   "source": [
    "df.track_name.value_counts()"
   ]
  },
  {
   "cell_type": "code",
   "execution_count": 158,
   "id": "79ed8edb",
   "metadata": {},
   "outputs": [],
   "source": [
    "def check_dublicates(col):\n",
    "    counts = df[col].value_counts()\n",
    "    indexes = counts[counts > 1].index\n",
    "\n",
    "    return df[df[col].isin(indexes)].sort_values(col)"
   ]
  },
  {
   "cell_type": "code",
   "execution_count": 159,
   "id": "86e60c33",
   "metadata": {},
   "outputs": [
    {
     "data": {
      "application/vnd.microsoft.datawrangler.viewer.v0+json": {
       "columns": [
        {
         "name": "index",
         "rawType": "int64",
         "type": "integer"
        },
        {
         "name": "genres",
         "rawType": "object",
         "type": "string"
        },
        {
         "name": "followers",
         "rawType": "int64",
         "type": "integer"
        },
        {
         "name": "artist_popularity",
         "rawType": "int64",
         "type": "integer"
        },
        {
         "name": "track_name",
         "rawType": "object",
         "type": "string"
        },
        {
         "name": "album_name",
         "rawType": "object",
         "type": "string"
        },
        {
         "name": "release_date",
         "rawType": "object",
         "type": "string"
        },
        {
         "name": "duration_ms",
         "rawType": "int64",
         "type": "integer"
        },
        {
         "name": "explicit",
         "rawType": "bool",
         "type": "boolean"
        },
        {
         "name": "track_popularity",
         "rawType": "int64",
         "type": "integer"
        },
        {
         "name": "danceability",
         "rawType": "float64",
         "type": "float"
        },
        {
         "name": "energy",
         "rawType": "float64",
         "type": "float"
        },
        {
         "name": "key",
         "rawType": "int64",
         "type": "integer"
        },
        {
         "name": "loudness",
         "rawType": "float64",
         "type": "float"
        },
        {
         "name": "mode",
         "rawType": "int64",
         "type": "integer"
        },
        {
         "name": "speechiness",
         "rawType": "float64",
         "type": "float"
        },
        {
         "name": "acousticness",
         "rawType": "float64",
         "type": "float"
        },
        {
         "name": "instrumentalness",
         "rawType": "float64",
         "type": "float"
        },
        {
         "name": "liveness",
         "rawType": "float64",
         "type": "float"
        },
        {
         "name": "valence",
         "rawType": "float64",
         "type": "float"
        },
        {
         "name": "tempo",
         "rawType": "float64",
         "type": "float"
        },
        {
         "name": "artist_id",
         "rawType": "int64",
         "type": "integer"
        }
       ],
       "ref": "116684ab-004d-4c76-a176-0c5ea11a599c",
       "rows": [
        [
         "419",
         "electro house",
         "39210855",
         "73",
         "Alone, Pt. II",
         "World Of Walker",
         "2021-11-26",
         "179052",
         "False",
         "73",
         "0.673",
         "0.659",
         "3",
         "-4.493",
         "0",
         "0.0439",
         "0.539",
         "0.0",
         "0.129",
         "0.628",
         "88.011",
         "48"
        ],
        [
         "441",
         "pop",
         "7041802",
         "73",
         "Alone, Pt. II",
         "World Of Walker",
         "2021-11-26",
         "179052",
         "False",
         "73",
         "0.673",
         "0.659",
         "3",
         "-4.493",
         "0",
         "0.0439",
         "0.539",
         "0.0",
         "0.129",
         "0.628",
         "88.011",
         "83"
        ],
        [
         "184",
         "dance pop",
         "4816768",
         "70",
         "Beautiful",
         "Freedom",
         "2008-01-01",
         "312986",
         "False",
         "70",
         "0.739",
         "0.945",
         "0",
         "-4.443",
         "0",
         "0.0881",
         "0.125",
         "0.0",
         "0.112",
         "0.627",
         "130.018",
         "45"
        ],
        [
         "477",
         "dance pop, pop",
         "8411343",
         "67",
         "Beautiful",
         "Stripped",
         "2002-07-19",
         "238560",
         "False",
         "67",
         "0.456",
         "0.573",
         "5",
         "-3.866",
         "0",
         "0.0275",
         "0.578",
         "3.05e-06",
         "0.114",
         "0.0992",
         "76.19",
         "90"
        ],
        [
         "442",
         "pop",
         "7041802",
         "74",
         "Car Keys (Ayla)",
         "Car Keys (Ayla)",
         "2023-06-30",
         "147211",
         "False",
         "74",
         "0.719",
         "0.959",
         "9",
         "-5.29",
         "0",
         "0.125",
         "0.341",
         "0.0",
         "0.255",
         "0.522",
         "126.031",
         "83"
        ],
        [
         "661",
         "electro house, pop nacional, slap house",
         "11291607",
         "74",
         "Car Keys (Ayla)",
         "Car Keys (Ayla)",
         "2023-06-30",
         "147211",
         "False",
         "74",
         "0.719",
         "0.959",
         "9",
         "-5.29",
         "0",
         "0.125",
         "0.341",
         "0.0",
         "0.255",
         "0.522",
         "126.031",
         "60"
        ],
        [
         "199",
         "filmi, modern bollywood",
         "119428689",
         "74",
         "Chaleya",
         "Jawan",
         "2023-09-05",
         "200373",
         "False",
         "74",
         "0.575",
         "0.845",
         "0",
         "-5.28",
         "1",
         "0.0852",
         "0.393",
         "0.0107",
         "0.131",
         "0.439",
         "95.047",
         "77"
        ],
        [
         "734",
         "desi hip hop, filmi, tamil hip hop",
         "31427977",
         "74",
         "Chaleya",
         "Jawan",
         "2023-09-05",
         "200373",
         "False",
         "74",
         "0.575",
         "0.845",
         "0",
         "-5.28",
         "1",
         "0.0852",
         "0.393",
         "0.0107",
         "0.131",
         "0.439",
         "95.047",
         "69"
        ],
        [
         "127",
         "electropop, etherpop, indie poptimism, pop",
         "21674751",
         "84",
         "Closer",
         "Closer",
         "2016-07-29",
         "244960",
         "False",
         "84",
         "0.748",
         "0.524",
         "8",
         "-5.599",
         "1",
         "0.0338",
         "0.414",
         "0.0",
         "0.111",
         "0.661",
         "95.01",
         "96"
        ],
        [
         "769",
         "dance pop, pop, r&b, urban contemporary",
         "9033803",
         "66",
         "Closer",
         "Year Of The Gentleman (Bonus Track Edition)",
         "2008-01-01",
         "234360",
         "False",
         "66",
         "0.711",
         "0.754",
         "4",
         "-6.461",
         "0",
         "0.0763",
         "0.028",
         "2.96e-05",
         "0.152",
         "0.59",
         "126.05",
         "100"
        ],
        [
         "868",
         "UNKNOWN",
         "123",
         "0",
         "Dreams",
         "Lodestar",
         "2019-02-08",
         "137872",
         "True",
         "0",
         "0.727",
         "0.509",
         "0",
         "-12.145",
         "0",
         "0.292",
         "0.126",
         "0.0",
         "0.251",
         "0.319",
         "93.963",
         "18"
        ],
        [
         "686",
         "conscious hip hop",
         "540960",
         "60",
         "Dreams",
         "CHASE",
         "2019-02-28",
         "162213",
         "True",
         "60",
         "0.847",
         "0.509",
         "10",
         "-4.316",
         "0",
         "0.237",
         "0.242",
         "0.0",
         "0.105",
         "0.882",
         "77.017",
         "38"
        ],
        [
         "69",
         "reggaeton, reggaeton flow, trap boricua, trap latino, urbano latino",
         "37214358",
         "75",
         "Ella Quiere Beber - Remix",
         "Ella Quiere Beber (Remix)",
         "2018-11-02",
         "219357",
         "False",
         "75",
         "0.75",
         "0.665",
         "8",
         "-3.083",
         "1",
         "0.124",
         "0.265",
         "0.0",
         "0.0515",
         "0.697",
         "95.239",
         "72"
        ],
        [
         "144",
         "bachata, latin hip hop, latin pop, urbano latino",
         "22006054",
         "75",
         "Ella Quiere Beber - Remix",
         "Ella Quiere Beber (Remix)",
         "2018-11-02",
         "219357",
         "False",
         "75",
         "0.75",
         "0.665",
         "8",
         "-3.083",
         "1",
         "0.124",
         "0.265",
         "0.0",
         "0.0515",
         "0.697",
         "95.239",
         "104"
        ],
        [
         "811",
         "big room, dance pop, dutch house, edm, electro house, pop dance, progressive electro house",
         "3922609",
         "86",
         "Give Me Everything (feat. Nayer)",
         "Planet Pit (Deluxe Version)",
         "2011-06-17",
         "252306",
         "False",
         "86",
         "0.671",
         "0.939",
         "8",
         "-3.206",
         "1",
         "0.161",
         "0.191",
         "0.0",
         "0.298",
         "0.53",
         "129.024",
         "33"
        ],
        [
         "764",
         "dance pop, pop, r&b, urban contemporary",
         "9033803",
         "86",
         "Give Me Everything (feat. Nayer)",
         "Planet Pit (Deluxe Version)",
         "2011-06-17",
         "252306",
         "False",
         "86",
         "0.671",
         "0.939",
         "8",
         "-3.206",
         "1",
         "0.161",
         "0.191",
         "0.0",
         "0.298",
         "0.53",
         "129.024",
         "100"
        ],
        [
         "925",
         "dutch house, dutch trance, edm, pop dance, progressive house, trance",
         "4384944",
         "61",
         "In And Out Of Love",
         "In And Out of Love",
         "2008-08-04",
         "181680",
         "False",
         "61",
         "0.526",
         "0.705",
         "5",
         "-6.777",
         "0",
         "0.0301",
         "0.067",
         "6.4e-05",
         "0.125",
         "0.413",
         "134.947",
         "78"
        ],
        [
         "922",
         "dutch house, dutch trance, edm, pop dance, progressive house, trance",
         "4384944",
         "64",
         "In And Out Of Love",
         "In And Out Of Love",
         "2024-06-28",
         "226621",
         "False",
         "64",
         "0.355",
         "0.777",
         "5",
         "-6.811",
         "0",
         "0.0413",
         "0.201",
         "0.0136",
         "0.211",
         "0.038",
         "122.324",
         "78"
        ],
        [
         "659",
         "electro house, pop nacional, slap house",
         "11291607",
         "75",
         "Jungle",
         "Jungle",
         "2023-09-22",
         "175500",
         "False",
         "75",
         "0.596",
         "0.667",
         "6",
         "-5.651",
         "0",
         "0.0295",
         "0.0524",
         "0.000109",
         "0.205",
         "0.217",
         "140.002",
         "60"
        ],
        [
         "114",
         "melodic rap, rap, trap",
         "8383447",
         "71",
         "Jungle",
         "Artist",
         "2016-09-16",
         "174192",
         "True",
         "71",
         "0.538",
         "0.52",
         "7",
         "-11.063",
         "0",
         "0.737",
         "0.308",
         "0.0",
         "0.214",
         "0.551",
         "180.274",
         "26"
        ],
        [
         "288",
         "neo soul, pop, r&b",
         "11997483",
         "81",
         "My Boo",
         "Confessions (Expanded Edition)",
         "2004-03-23",
         "223440",
         "False",
         "81",
         "0.662",
         "0.507",
         "5",
         "-8.238",
         "1",
         "0.118",
         "0.257",
         "0.0",
         "0.0465",
         "0.676",
         "86.412",
         "58"
        ],
        [
         "513",
         "atl hip hop, contemporary r&b, dance pop, pop, r&b, rap, south carolina hip hop, urban contemporary",
         "11933139",
         "81",
         "My Boo",
         "Confessions (Expanded Edition)",
         "2004-03-23",
         "223440",
         "False",
         "81",
         "0.662",
         "0.507",
         "5",
         "-8.238",
         "1",
         "0.118",
         "0.257",
         "0.0",
         "0.0465",
         "0.676",
         "86.412",
         "108"
        ],
        [
         "289",
         "neo soul, pop, r&b",
         "11997483",
         "74",
         "No One",
         "No One (Remixes)",
         "2007-10-09",
         "254523",
         "False",
         "74",
         "0.641",
         "0.552",
         "1",
         "-5.423",
         "0",
         "0.0283",
         "0.027",
         "4.63e-06",
         "0.148",
         "0.152",
         "90.098",
         "58"
        ],
        [
         "509",
         "dance pop, girl group, post-teen pop",
         "680583",
         "40",
         "No One",
         "Into The Rush",
         "2005-01-01",
         "177560",
         "False",
         "40",
         "0.457",
         "0.577",
         "7",
         "-5.351",
         "1",
         "0.0264",
         "0.00643",
         "0.000315",
         "0.0813",
         "0.321",
         "158.597",
         "63"
        ],
        [
         "587",
         "contemporary country, modern country pop",
         "1076900",
         "67",
         "PSYCHO",
         "Quit!!",
         "2024-07-12",
         "198748",
         "True",
         "67",
         "0.631",
         "0.897",
         "4",
         "-1.672",
         "1",
         "0.0497",
         "0.0491",
         "7.32e-06",
         "0.661",
         "0.418",
         "123.023",
         "95"
        ],
        [
         "708",
         "pop",
         "12038839",
         "54",
         "PSYCHO",
         "UNHEALTHY (Deluxe)",
         "2023-07-28",
         "162666",
         "True",
         "54",
         "0.506",
         "0.666",
         "9",
         "-4.999",
         "1",
         "0.372",
         "0.014",
         "0.0",
         "0.0271",
         "0.69",
         "81.749",
         "71"
        ],
        [
         "502",
         "dance pop, girl group, post-teen pop",
         "680583",
         "55",
         "Potential Breakup Song",
         "Potential Breakup Song",
         "2020-12-29",
         "218333",
         "True",
         "55",
         "0.554",
         "0.901",
         "6",
         "-4.139",
         "0",
         "0.0384",
         "0.000493",
         "0.000291",
         "0.0867",
         "0.537",
         "157.987",
         "63"
        ],
        [
         "501",
         "dance pop, girl group, post-teen pop",
         "680583",
         "63",
         "Potential Breakup Song",
         "Insomniatic",
         "2007-01-01",
         "219773",
         "False",
         "63",
         "0.572",
         "0.89",
         "6",
         "-4.139",
         "0",
         "0.039",
         "0.00082",
         "0.00937",
         "0.564",
         "0.765",
         "158.038",
         "63"
        ],
        [
         "648",
         "afrobeats",
         "3434959",
         "72",
         "Rush",
         "19 & Dangerous (Deluxe)",
         "2022-10-21",
         "185093",
         "False",
         "72",
         "0.792",
         "0.503",
         "1",
         "-8.044",
         "1",
         "0.0626",
         "0.0369",
         "0.00057",
         "0.0959",
         "0.381",
         "99.97",
         "89"
        ],
        [
         "506",
         "dance pop, girl group, post-teen pop",
         "680583",
         "46",
         "Rush",
         "Into The Rush",
         "2005-01-01",
         "191733",
         "False",
         "46",
         "0.548",
         "0.815",
         "2",
         "-5.218",
         "0",
         "0.0409",
         "0.0175",
         "8.9e-06",
         "0.127",
         "0.212",
         "129.963",
         "63"
        ],
        [
         "647",
         "afrobeats",
         "3434959",
         "84",
         "Santa",
         "Santa",
         "2024-04-03",
         "193038",
         "False",
         "84",
         "0.725",
         "0.709",
         "3",
         "-5.017",
         "0",
         "0.129",
         "0.321",
         "0.000189",
         "0.114",
         "0.648",
         "99.993",
         "89"
        ],
        [
         "795",
         "puerto rican pop, reggaeton, trap latino, urbano latino",
         "22919287",
         "84",
         "Santa",
         "Santa",
         "2024-04-03",
         "193038",
         "False",
         "84",
         "0.725",
         "0.709",
         "3",
         "-5.017",
         "0",
         "0.129",
         "0.321",
         "0.000189",
         "0.114",
         "0.648",
         "99.993",
         "103"
        ]
       ],
       "shape": {
        "columns": 21,
        "rows": 32
       }
      },
      "text/html": [
       "<div>\n",
       "<style scoped>\n",
       "    .dataframe tbody tr th:only-of-type {\n",
       "        vertical-align: middle;\n",
       "    }\n",
       "\n",
       "    .dataframe tbody tr th {\n",
       "        vertical-align: top;\n",
       "    }\n",
       "\n",
       "    .dataframe thead th {\n",
       "        text-align: right;\n",
       "    }\n",
       "</style>\n",
       "<table border=\"1\" class=\"dataframe\">\n",
       "  <thead>\n",
       "    <tr style=\"text-align: right;\">\n",
       "      <th></th>\n",
       "      <th>genres</th>\n",
       "      <th>followers</th>\n",
       "      <th>artist_popularity</th>\n",
       "      <th>track_name</th>\n",
       "      <th>album_name</th>\n",
       "      <th>release_date</th>\n",
       "      <th>duration_ms</th>\n",
       "      <th>explicit</th>\n",
       "      <th>track_popularity</th>\n",
       "      <th>danceability</th>\n",
       "      <th>...</th>\n",
       "      <th>key</th>\n",
       "      <th>loudness</th>\n",
       "      <th>mode</th>\n",
       "      <th>speechiness</th>\n",
       "      <th>acousticness</th>\n",
       "      <th>instrumentalness</th>\n",
       "      <th>liveness</th>\n",
       "      <th>valence</th>\n",
       "      <th>tempo</th>\n",
       "      <th>artist_id</th>\n",
       "    </tr>\n",
       "  </thead>\n",
       "  <tbody>\n",
       "    <tr>\n",
       "      <th>419</th>\n",
       "      <td>electro house</td>\n",
       "      <td>39210855</td>\n",
       "      <td>73</td>\n",
       "      <td>Alone, Pt. II</td>\n",
       "      <td>World Of Walker</td>\n",
       "      <td>2021-11-26</td>\n",
       "      <td>179052</td>\n",
       "      <td>False</td>\n",
       "      <td>73</td>\n",
       "      <td>0.673</td>\n",
       "      <td>...</td>\n",
       "      <td>3</td>\n",
       "      <td>-4.493</td>\n",
       "      <td>0</td>\n",
       "      <td>0.0439</td>\n",
       "      <td>0.539000</td>\n",
       "      <td>0.000000</td>\n",
       "      <td>0.1290</td>\n",
       "      <td>0.6280</td>\n",
       "      <td>88.011</td>\n",
       "      <td>48</td>\n",
       "    </tr>\n",
       "    <tr>\n",
       "      <th>441</th>\n",
       "      <td>pop</td>\n",
       "      <td>7041802</td>\n",
       "      <td>73</td>\n",
       "      <td>Alone, Pt. II</td>\n",
       "      <td>World Of Walker</td>\n",
       "      <td>2021-11-26</td>\n",
       "      <td>179052</td>\n",
       "      <td>False</td>\n",
       "      <td>73</td>\n",
       "      <td>0.673</td>\n",
       "      <td>...</td>\n",
       "      <td>3</td>\n",
       "      <td>-4.493</td>\n",
       "      <td>0</td>\n",
       "      <td>0.0439</td>\n",
       "      <td>0.539000</td>\n",
       "      <td>0.000000</td>\n",
       "      <td>0.1290</td>\n",
       "      <td>0.6280</td>\n",
       "      <td>88.011</td>\n",
       "      <td>83</td>\n",
       "    </tr>\n",
       "    <tr>\n",
       "      <th>184</th>\n",
       "      <td>dance pop</td>\n",
       "      <td>4816768</td>\n",
       "      <td>70</td>\n",
       "      <td>Beautiful</td>\n",
       "      <td>Freedom</td>\n",
       "      <td>2008-01-01</td>\n",
       "      <td>312986</td>\n",
       "      <td>False</td>\n",
       "      <td>70</td>\n",
       "      <td>0.739</td>\n",
       "      <td>...</td>\n",
       "      <td>0</td>\n",
       "      <td>-4.443</td>\n",
       "      <td>0</td>\n",
       "      <td>0.0881</td>\n",
       "      <td>0.125000</td>\n",
       "      <td>0.000000</td>\n",
       "      <td>0.1120</td>\n",
       "      <td>0.6270</td>\n",
       "      <td>130.018</td>\n",
       "      <td>45</td>\n",
       "    </tr>\n",
       "    <tr>\n",
       "      <th>477</th>\n",
       "      <td>dance pop, pop</td>\n",
       "      <td>8411343</td>\n",
       "      <td>67</td>\n",
       "      <td>Beautiful</td>\n",
       "      <td>Stripped</td>\n",
       "      <td>2002-07-19</td>\n",
       "      <td>238560</td>\n",
       "      <td>False</td>\n",
       "      <td>67</td>\n",
       "      <td>0.456</td>\n",
       "      <td>...</td>\n",
       "      <td>5</td>\n",
       "      <td>-3.866</td>\n",
       "      <td>0</td>\n",
       "      <td>0.0275</td>\n",
       "      <td>0.578000</td>\n",
       "      <td>0.000003</td>\n",
       "      <td>0.1140</td>\n",
       "      <td>0.0992</td>\n",
       "      <td>76.190</td>\n",
       "      <td>90</td>\n",
       "    </tr>\n",
       "    <tr>\n",
       "      <th>442</th>\n",
       "      <td>pop</td>\n",
       "      <td>7041802</td>\n",
       "      <td>74</td>\n",
       "      <td>Car Keys (Ayla)</td>\n",
       "      <td>Car Keys (Ayla)</td>\n",
       "      <td>2023-06-30</td>\n",
       "      <td>147211</td>\n",
       "      <td>False</td>\n",
       "      <td>74</td>\n",
       "      <td>0.719</td>\n",
       "      <td>...</td>\n",
       "      <td>9</td>\n",
       "      <td>-5.290</td>\n",
       "      <td>0</td>\n",
       "      <td>0.1250</td>\n",
       "      <td>0.341000</td>\n",
       "      <td>0.000000</td>\n",
       "      <td>0.2550</td>\n",
       "      <td>0.5220</td>\n",
       "      <td>126.031</td>\n",
       "      <td>83</td>\n",
       "    </tr>\n",
       "    <tr>\n",
       "      <th>661</th>\n",
       "      <td>electro house, pop nacional, slap house</td>\n",
       "      <td>11291607</td>\n",
       "      <td>74</td>\n",
       "      <td>Car Keys (Ayla)</td>\n",
       "      <td>Car Keys (Ayla)</td>\n",
       "      <td>2023-06-30</td>\n",
       "      <td>147211</td>\n",
       "      <td>False</td>\n",
       "      <td>74</td>\n",
       "      <td>0.719</td>\n",
       "      <td>...</td>\n",
       "      <td>9</td>\n",
       "      <td>-5.290</td>\n",
       "      <td>0</td>\n",
       "      <td>0.1250</td>\n",
       "      <td>0.341000</td>\n",
       "      <td>0.000000</td>\n",
       "      <td>0.2550</td>\n",
       "      <td>0.5220</td>\n",
       "      <td>126.031</td>\n",
       "      <td>60</td>\n",
       "    </tr>\n",
       "    <tr>\n",
       "      <th>199</th>\n",
       "      <td>filmi, modern bollywood</td>\n",
       "      <td>119428689</td>\n",
       "      <td>74</td>\n",
       "      <td>Chaleya</td>\n",
       "      <td>Jawan</td>\n",
       "      <td>2023-09-05</td>\n",
       "      <td>200373</td>\n",
       "      <td>False</td>\n",
       "      <td>74</td>\n",
       "      <td>0.575</td>\n",
       "      <td>...</td>\n",
       "      <td>0</td>\n",
       "      <td>-5.280</td>\n",
       "      <td>1</td>\n",
       "      <td>0.0852</td>\n",
       "      <td>0.393000</td>\n",
       "      <td>0.010700</td>\n",
       "      <td>0.1310</td>\n",
       "      <td>0.4390</td>\n",
       "      <td>95.047</td>\n",
       "      <td>77</td>\n",
       "    </tr>\n",
       "    <tr>\n",
       "      <th>734</th>\n",
       "      <td>desi hip hop, filmi, tamil hip hop</td>\n",
       "      <td>31427977</td>\n",
       "      <td>74</td>\n",
       "      <td>Chaleya</td>\n",
       "      <td>Jawan</td>\n",
       "      <td>2023-09-05</td>\n",
       "      <td>200373</td>\n",
       "      <td>False</td>\n",
       "      <td>74</td>\n",
       "      <td>0.575</td>\n",
       "      <td>...</td>\n",
       "      <td>0</td>\n",
       "      <td>-5.280</td>\n",
       "      <td>1</td>\n",
       "      <td>0.0852</td>\n",
       "      <td>0.393000</td>\n",
       "      <td>0.010700</td>\n",
       "      <td>0.1310</td>\n",
       "      <td>0.4390</td>\n",
       "      <td>95.047</td>\n",
       "      <td>69</td>\n",
       "    </tr>\n",
       "    <tr>\n",
       "      <th>127</th>\n",
       "      <td>electropop, etherpop, indie poptimism, pop</td>\n",
       "      <td>21674751</td>\n",
       "      <td>84</td>\n",
       "      <td>Closer</td>\n",
       "      <td>Closer</td>\n",
       "      <td>2016-07-29</td>\n",
       "      <td>244960</td>\n",
       "      <td>False</td>\n",
       "      <td>84</td>\n",
       "      <td>0.748</td>\n",
       "      <td>...</td>\n",
       "      <td>8</td>\n",
       "      <td>-5.599</td>\n",
       "      <td>1</td>\n",
       "      <td>0.0338</td>\n",
       "      <td>0.414000</td>\n",
       "      <td>0.000000</td>\n",
       "      <td>0.1110</td>\n",
       "      <td>0.6610</td>\n",
       "      <td>95.010</td>\n",
       "      <td>96</td>\n",
       "    </tr>\n",
       "    <tr>\n",
       "      <th>769</th>\n",
       "      <td>dance pop, pop, r&amp;b, urban contemporary</td>\n",
       "      <td>9033803</td>\n",
       "      <td>66</td>\n",
       "      <td>Closer</td>\n",
       "      <td>Year Of The Gentleman (Bonus Track Edition)</td>\n",
       "      <td>2008-01-01</td>\n",
       "      <td>234360</td>\n",
       "      <td>False</td>\n",
       "      <td>66</td>\n",
       "      <td>0.711</td>\n",
       "      <td>...</td>\n",
       "      <td>4</td>\n",
       "      <td>-6.461</td>\n",
       "      <td>0</td>\n",
       "      <td>0.0763</td>\n",
       "      <td>0.028000</td>\n",
       "      <td>0.000030</td>\n",
       "      <td>0.1520</td>\n",
       "      <td>0.5900</td>\n",
       "      <td>126.050</td>\n",
       "      <td>100</td>\n",
       "    </tr>\n",
       "    <tr>\n",
       "      <th>868</th>\n",
       "      <td>UNKNOWN</td>\n",
       "      <td>123</td>\n",
       "      <td>0</td>\n",
       "      <td>Dreams</td>\n",
       "      <td>Lodestar</td>\n",
       "      <td>2019-02-08</td>\n",
       "      <td>137872</td>\n",
       "      <td>True</td>\n",
       "      <td>0</td>\n",
       "      <td>0.727</td>\n",
       "      <td>...</td>\n",
       "      <td>0</td>\n",
       "      <td>-12.145</td>\n",
       "      <td>0</td>\n",
       "      <td>0.2920</td>\n",
       "      <td>0.126000</td>\n",
       "      <td>0.000000</td>\n",
       "      <td>0.2510</td>\n",
       "      <td>0.3190</td>\n",
       "      <td>93.963</td>\n",
       "      <td>18</td>\n",
       "    </tr>\n",
       "    <tr>\n",
       "      <th>686</th>\n",
       "      <td>conscious hip hop</td>\n",
       "      <td>540960</td>\n",
       "      <td>60</td>\n",
       "      <td>Dreams</td>\n",
       "      <td>CHASE</td>\n",
       "      <td>2019-02-28</td>\n",
       "      <td>162213</td>\n",
       "      <td>True</td>\n",
       "      <td>60</td>\n",
       "      <td>0.847</td>\n",
       "      <td>...</td>\n",
       "      <td>10</td>\n",
       "      <td>-4.316</td>\n",
       "      <td>0</td>\n",
       "      <td>0.2370</td>\n",
       "      <td>0.242000</td>\n",
       "      <td>0.000000</td>\n",
       "      <td>0.1050</td>\n",
       "      <td>0.8820</td>\n",
       "      <td>77.017</td>\n",
       "      <td>38</td>\n",
       "    </tr>\n",
       "    <tr>\n",
       "      <th>69</th>\n",
       "      <td>reggaeton, reggaeton flow, trap boricua, trap ...</td>\n",
       "      <td>37214358</td>\n",
       "      <td>75</td>\n",
       "      <td>Ella Quiere Beber - Remix</td>\n",
       "      <td>Ella Quiere Beber (Remix)</td>\n",
       "      <td>2018-11-02</td>\n",
       "      <td>219357</td>\n",
       "      <td>False</td>\n",
       "      <td>75</td>\n",
       "      <td>0.750</td>\n",
       "      <td>...</td>\n",
       "      <td>8</td>\n",
       "      <td>-3.083</td>\n",
       "      <td>1</td>\n",
       "      <td>0.1240</td>\n",
       "      <td>0.265000</td>\n",
       "      <td>0.000000</td>\n",
       "      <td>0.0515</td>\n",
       "      <td>0.6970</td>\n",
       "      <td>95.239</td>\n",
       "      <td>72</td>\n",
       "    </tr>\n",
       "    <tr>\n",
       "      <th>144</th>\n",
       "      <td>bachata, latin hip hop, latin pop, urbano latino</td>\n",
       "      <td>22006054</td>\n",
       "      <td>75</td>\n",
       "      <td>Ella Quiere Beber - Remix</td>\n",
       "      <td>Ella Quiere Beber (Remix)</td>\n",
       "      <td>2018-11-02</td>\n",
       "      <td>219357</td>\n",
       "      <td>False</td>\n",
       "      <td>75</td>\n",
       "      <td>0.750</td>\n",
       "      <td>...</td>\n",
       "      <td>8</td>\n",
       "      <td>-3.083</td>\n",
       "      <td>1</td>\n",
       "      <td>0.1240</td>\n",
       "      <td>0.265000</td>\n",
       "      <td>0.000000</td>\n",
       "      <td>0.0515</td>\n",
       "      <td>0.6970</td>\n",
       "      <td>95.239</td>\n",
       "      <td>104</td>\n",
       "    </tr>\n",
       "    <tr>\n",
       "      <th>811</th>\n",
       "      <td>big room, dance pop, dutch house, edm, electro...</td>\n",
       "      <td>3922609</td>\n",
       "      <td>86</td>\n",
       "      <td>Give Me Everything (feat. Nayer)</td>\n",
       "      <td>Planet Pit (Deluxe Version)</td>\n",
       "      <td>2011-06-17</td>\n",
       "      <td>252306</td>\n",
       "      <td>False</td>\n",
       "      <td>86</td>\n",
       "      <td>0.671</td>\n",
       "      <td>...</td>\n",
       "      <td>8</td>\n",
       "      <td>-3.206</td>\n",
       "      <td>1</td>\n",
       "      <td>0.1610</td>\n",
       "      <td>0.191000</td>\n",
       "      <td>0.000000</td>\n",
       "      <td>0.2980</td>\n",
       "      <td>0.5300</td>\n",
       "      <td>129.024</td>\n",
       "      <td>33</td>\n",
       "    </tr>\n",
       "    <tr>\n",
       "      <th>764</th>\n",
       "      <td>dance pop, pop, r&amp;b, urban contemporary</td>\n",
       "      <td>9033803</td>\n",
       "      <td>86</td>\n",
       "      <td>Give Me Everything (feat. Nayer)</td>\n",
       "      <td>Planet Pit (Deluxe Version)</td>\n",
       "      <td>2011-06-17</td>\n",
       "      <td>252306</td>\n",
       "      <td>False</td>\n",
       "      <td>86</td>\n",
       "      <td>0.671</td>\n",
       "      <td>...</td>\n",
       "      <td>8</td>\n",
       "      <td>-3.206</td>\n",
       "      <td>1</td>\n",
       "      <td>0.1610</td>\n",
       "      <td>0.191000</td>\n",
       "      <td>0.000000</td>\n",
       "      <td>0.2980</td>\n",
       "      <td>0.5300</td>\n",
       "      <td>129.024</td>\n",
       "      <td>100</td>\n",
       "    </tr>\n",
       "    <tr>\n",
       "      <th>925</th>\n",
       "      <td>dutch house, dutch trance, edm, pop dance, pro...</td>\n",
       "      <td>4384944</td>\n",
       "      <td>61</td>\n",
       "      <td>In And Out Of Love</td>\n",
       "      <td>In And Out of Love</td>\n",
       "      <td>2008-08-04</td>\n",
       "      <td>181680</td>\n",
       "      <td>False</td>\n",
       "      <td>61</td>\n",
       "      <td>0.526</td>\n",
       "      <td>...</td>\n",
       "      <td>5</td>\n",
       "      <td>-6.777</td>\n",
       "      <td>0</td>\n",
       "      <td>0.0301</td>\n",
       "      <td>0.067000</td>\n",
       "      <td>0.000064</td>\n",
       "      <td>0.1250</td>\n",
       "      <td>0.4130</td>\n",
       "      <td>134.947</td>\n",
       "      <td>78</td>\n",
       "    </tr>\n",
       "    <tr>\n",
       "      <th>922</th>\n",
       "      <td>dutch house, dutch trance, edm, pop dance, pro...</td>\n",
       "      <td>4384944</td>\n",
       "      <td>64</td>\n",
       "      <td>In And Out Of Love</td>\n",
       "      <td>In And Out Of Love</td>\n",
       "      <td>2024-06-28</td>\n",
       "      <td>226621</td>\n",
       "      <td>False</td>\n",
       "      <td>64</td>\n",
       "      <td>0.355</td>\n",
       "      <td>...</td>\n",
       "      <td>5</td>\n",
       "      <td>-6.811</td>\n",
       "      <td>0</td>\n",
       "      <td>0.0413</td>\n",
       "      <td>0.201000</td>\n",
       "      <td>0.013600</td>\n",
       "      <td>0.2110</td>\n",
       "      <td>0.0380</td>\n",
       "      <td>122.324</td>\n",
       "      <td>78</td>\n",
       "    </tr>\n",
       "    <tr>\n",
       "      <th>659</th>\n",
       "      <td>electro house, pop nacional, slap house</td>\n",
       "      <td>11291607</td>\n",
       "      <td>75</td>\n",
       "      <td>Jungle</td>\n",
       "      <td>Jungle</td>\n",
       "      <td>2023-09-22</td>\n",
       "      <td>175500</td>\n",
       "      <td>False</td>\n",
       "      <td>75</td>\n",
       "      <td>0.596</td>\n",
       "      <td>...</td>\n",
       "      <td>6</td>\n",
       "      <td>-5.651</td>\n",
       "      <td>0</td>\n",
       "      <td>0.0295</td>\n",
       "      <td>0.052400</td>\n",
       "      <td>0.000109</td>\n",
       "      <td>0.2050</td>\n",
       "      <td>0.2170</td>\n",
       "      <td>140.002</td>\n",
       "      <td>60</td>\n",
       "    </tr>\n",
       "    <tr>\n",
       "      <th>114</th>\n",
       "      <td>melodic rap, rap, trap</td>\n",
       "      <td>8383447</td>\n",
       "      <td>71</td>\n",
       "      <td>Jungle</td>\n",
       "      <td>Artist</td>\n",
       "      <td>2016-09-16</td>\n",
       "      <td>174192</td>\n",
       "      <td>True</td>\n",
       "      <td>71</td>\n",
       "      <td>0.538</td>\n",
       "      <td>...</td>\n",
       "      <td>7</td>\n",
       "      <td>-11.063</td>\n",
       "      <td>0</td>\n",
       "      <td>0.7370</td>\n",
       "      <td>0.308000</td>\n",
       "      <td>0.000000</td>\n",
       "      <td>0.2140</td>\n",
       "      <td>0.5510</td>\n",
       "      <td>180.274</td>\n",
       "      <td>26</td>\n",
       "    </tr>\n",
       "    <tr>\n",
       "      <th>288</th>\n",
       "      <td>neo soul, pop, r&amp;b</td>\n",
       "      <td>11997483</td>\n",
       "      <td>81</td>\n",
       "      <td>My Boo</td>\n",
       "      <td>Confessions (Expanded Edition)</td>\n",
       "      <td>2004-03-23</td>\n",
       "      <td>223440</td>\n",
       "      <td>False</td>\n",
       "      <td>81</td>\n",
       "      <td>0.662</td>\n",
       "      <td>...</td>\n",
       "      <td>5</td>\n",
       "      <td>-8.238</td>\n",
       "      <td>1</td>\n",
       "      <td>0.1180</td>\n",
       "      <td>0.257000</td>\n",
       "      <td>0.000000</td>\n",
       "      <td>0.0465</td>\n",
       "      <td>0.6760</td>\n",
       "      <td>86.412</td>\n",
       "      <td>58</td>\n",
       "    </tr>\n",
       "    <tr>\n",
       "      <th>513</th>\n",
       "      <td>atl hip hop, contemporary r&amp;b, dance pop, pop,...</td>\n",
       "      <td>11933139</td>\n",
       "      <td>81</td>\n",
       "      <td>My Boo</td>\n",
       "      <td>Confessions (Expanded Edition)</td>\n",
       "      <td>2004-03-23</td>\n",
       "      <td>223440</td>\n",
       "      <td>False</td>\n",
       "      <td>81</td>\n",
       "      <td>0.662</td>\n",
       "      <td>...</td>\n",
       "      <td>5</td>\n",
       "      <td>-8.238</td>\n",
       "      <td>1</td>\n",
       "      <td>0.1180</td>\n",
       "      <td>0.257000</td>\n",
       "      <td>0.000000</td>\n",
       "      <td>0.0465</td>\n",
       "      <td>0.6760</td>\n",
       "      <td>86.412</td>\n",
       "      <td>108</td>\n",
       "    </tr>\n",
       "    <tr>\n",
       "      <th>289</th>\n",
       "      <td>neo soul, pop, r&amp;b</td>\n",
       "      <td>11997483</td>\n",
       "      <td>74</td>\n",
       "      <td>No One</td>\n",
       "      <td>No One (Remixes)</td>\n",
       "      <td>2007-10-09</td>\n",
       "      <td>254523</td>\n",
       "      <td>False</td>\n",
       "      <td>74</td>\n",
       "      <td>0.641</td>\n",
       "      <td>...</td>\n",
       "      <td>1</td>\n",
       "      <td>-5.423</td>\n",
       "      <td>0</td>\n",
       "      <td>0.0283</td>\n",
       "      <td>0.027000</td>\n",
       "      <td>0.000005</td>\n",
       "      <td>0.1480</td>\n",
       "      <td>0.1520</td>\n",
       "      <td>90.098</td>\n",
       "      <td>58</td>\n",
       "    </tr>\n",
       "    <tr>\n",
       "      <th>509</th>\n",
       "      <td>dance pop, girl group, post-teen pop</td>\n",
       "      <td>680583</td>\n",
       "      <td>40</td>\n",
       "      <td>No One</td>\n",
       "      <td>Into The Rush</td>\n",
       "      <td>2005-01-01</td>\n",
       "      <td>177560</td>\n",
       "      <td>False</td>\n",
       "      <td>40</td>\n",
       "      <td>0.457</td>\n",
       "      <td>...</td>\n",
       "      <td>7</td>\n",
       "      <td>-5.351</td>\n",
       "      <td>1</td>\n",
       "      <td>0.0264</td>\n",
       "      <td>0.006430</td>\n",
       "      <td>0.000315</td>\n",
       "      <td>0.0813</td>\n",
       "      <td>0.3210</td>\n",
       "      <td>158.597</td>\n",
       "      <td>63</td>\n",
       "    </tr>\n",
       "    <tr>\n",
       "      <th>587</th>\n",
       "      <td>contemporary country, modern country pop</td>\n",
       "      <td>1076900</td>\n",
       "      <td>67</td>\n",
       "      <td>PSYCHO</td>\n",
       "      <td>Quit!!</td>\n",
       "      <td>2024-07-12</td>\n",
       "      <td>198748</td>\n",
       "      <td>True</td>\n",
       "      <td>67</td>\n",
       "      <td>0.631</td>\n",
       "      <td>...</td>\n",
       "      <td>4</td>\n",
       "      <td>-1.672</td>\n",
       "      <td>1</td>\n",
       "      <td>0.0497</td>\n",
       "      <td>0.049100</td>\n",
       "      <td>0.000007</td>\n",
       "      <td>0.6610</td>\n",
       "      <td>0.4180</td>\n",
       "      <td>123.023</td>\n",
       "      <td>95</td>\n",
       "    </tr>\n",
       "    <tr>\n",
       "      <th>708</th>\n",
       "      <td>pop</td>\n",
       "      <td>12038839</td>\n",
       "      <td>54</td>\n",
       "      <td>PSYCHO</td>\n",
       "      <td>UNHEALTHY (Deluxe)</td>\n",
       "      <td>2023-07-28</td>\n",
       "      <td>162666</td>\n",
       "      <td>True</td>\n",
       "      <td>54</td>\n",
       "      <td>0.506</td>\n",
       "      <td>...</td>\n",
       "      <td>9</td>\n",
       "      <td>-4.999</td>\n",
       "      <td>1</td>\n",
       "      <td>0.3720</td>\n",
       "      <td>0.014000</td>\n",
       "      <td>0.000000</td>\n",
       "      <td>0.0271</td>\n",
       "      <td>0.6900</td>\n",
       "      <td>81.749</td>\n",
       "      <td>71</td>\n",
       "    </tr>\n",
       "    <tr>\n",
       "      <th>502</th>\n",
       "      <td>dance pop, girl group, post-teen pop</td>\n",
       "      <td>680583</td>\n",
       "      <td>55</td>\n",
       "      <td>Potential Breakup Song</td>\n",
       "      <td>Potential Breakup Song</td>\n",
       "      <td>2020-12-29</td>\n",
       "      <td>218333</td>\n",
       "      <td>True</td>\n",
       "      <td>55</td>\n",
       "      <td>0.554</td>\n",
       "      <td>...</td>\n",
       "      <td>6</td>\n",
       "      <td>-4.139</td>\n",
       "      <td>0</td>\n",
       "      <td>0.0384</td>\n",
       "      <td>0.000493</td>\n",
       "      <td>0.000291</td>\n",
       "      <td>0.0867</td>\n",
       "      <td>0.5370</td>\n",
       "      <td>157.987</td>\n",
       "      <td>63</td>\n",
       "    </tr>\n",
       "    <tr>\n",
       "      <th>501</th>\n",
       "      <td>dance pop, girl group, post-teen pop</td>\n",
       "      <td>680583</td>\n",
       "      <td>63</td>\n",
       "      <td>Potential Breakup Song</td>\n",
       "      <td>Insomniatic</td>\n",
       "      <td>2007-01-01</td>\n",
       "      <td>219773</td>\n",
       "      <td>False</td>\n",
       "      <td>63</td>\n",
       "      <td>0.572</td>\n",
       "      <td>...</td>\n",
       "      <td>6</td>\n",
       "      <td>-4.139</td>\n",
       "      <td>0</td>\n",
       "      <td>0.0390</td>\n",
       "      <td>0.000820</td>\n",
       "      <td>0.009370</td>\n",
       "      <td>0.5640</td>\n",
       "      <td>0.7650</td>\n",
       "      <td>158.038</td>\n",
       "      <td>63</td>\n",
       "    </tr>\n",
       "    <tr>\n",
       "      <th>648</th>\n",
       "      <td>afrobeats</td>\n",
       "      <td>3434959</td>\n",
       "      <td>72</td>\n",
       "      <td>Rush</td>\n",
       "      <td>19 &amp; Dangerous (Deluxe)</td>\n",
       "      <td>2022-10-21</td>\n",
       "      <td>185093</td>\n",
       "      <td>False</td>\n",
       "      <td>72</td>\n",
       "      <td>0.792</td>\n",
       "      <td>...</td>\n",
       "      <td>1</td>\n",
       "      <td>-8.044</td>\n",
       "      <td>1</td>\n",
       "      <td>0.0626</td>\n",
       "      <td>0.036900</td>\n",
       "      <td>0.000570</td>\n",
       "      <td>0.0959</td>\n",
       "      <td>0.3810</td>\n",
       "      <td>99.970</td>\n",
       "      <td>89</td>\n",
       "    </tr>\n",
       "    <tr>\n",
       "      <th>506</th>\n",
       "      <td>dance pop, girl group, post-teen pop</td>\n",
       "      <td>680583</td>\n",
       "      <td>46</td>\n",
       "      <td>Rush</td>\n",
       "      <td>Into The Rush</td>\n",
       "      <td>2005-01-01</td>\n",
       "      <td>191733</td>\n",
       "      <td>False</td>\n",
       "      <td>46</td>\n",
       "      <td>0.548</td>\n",
       "      <td>...</td>\n",
       "      <td>2</td>\n",
       "      <td>-5.218</td>\n",
       "      <td>0</td>\n",
       "      <td>0.0409</td>\n",
       "      <td>0.017500</td>\n",
       "      <td>0.000009</td>\n",
       "      <td>0.1270</td>\n",
       "      <td>0.2120</td>\n",
       "      <td>129.963</td>\n",
       "      <td>63</td>\n",
       "    </tr>\n",
       "    <tr>\n",
       "      <th>647</th>\n",
       "      <td>afrobeats</td>\n",
       "      <td>3434959</td>\n",
       "      <td>84</td>\n",
       "      <td>Santa</td>\n",
       "      <td>Santa</td>\n",
       "      <td>2024-04-03</td>\n",
       "      <td>193038</td>\n",
       "      <td>False</td>\n",
       "      <td>84</td>\n",
       "      <td>0.725</td>\n",
       "      <td>...</td>\n",
       "      <td>3</td>\n",
       "      <td>-5.017</td>\n",
       "      <td>0</td>\n",
       "      <td>0.1290</td>\n",
       "      <td>0.321000</td>\n",
       "      <td>0.000189</td>\n",
       "      <td>0.1140</td>\n",
       "      <td>0.6480</td>\n",
       "      <td>99.993</td>\n",
       "      <td>89</td>\n",
       "    </tr>\n",
       "    <tr>\n",
       "      <th>795</th>\n",
       "      <td>puerto rican pop, reggaeton, trap latino, urba...</td>\n",
       "      <td>22919287</td>\n",
       "      <td>84</td>\n",
       "      <td>Santa</td>\n",
       "      <td>Santa</td>\n",
       "      <td>2024-04-03</td>\n",
       "      <td>193038</td>\n",
       "      <td>False</td>\n",
       "      <td>84</td>\n",
       "      <td>0.725</td>\n",
       "      <td>...</td>\n",
       "      <td>3</td>\n",
       "      <td>-5.017</td>\n",
       "      <td>0</td>\n",
       "      <td>0.1290</td>\n",
       "      <td>0.321000</td>\n",
       "      <td>0.000189</td>\n",
       "      <td>0.1140</td>\n",
       "      <td>0.6480</td>\n",
       "      <td>99.993</td>\n",
       "      <td>103</td>\n",
       "    </tr>\n",
       "  </tbody>\n",
       "</table>\n",
       "<p>32 rows × 21 columns</p>\n",
       "</div>"
      ],
      "text/plain": [
       "                                                genres  followers  \\\n",
       "419                                      electro house   39210855   \n",
       "441                                                pop    7041802   \n",
       "184                                          dance pop    4816768   \n",
       "477                                     dance pop, pop    8411343   \n",
       "442                                                pop    7041802   \n",
       "661            electro house, pop nacional, slap house   11291607   \n",
       "199                            filmi, modern bollywood  119428689   \n",
       "734                 desi hip hop, filmi, tamil hip hop   31427977   \n",
       "127         electropop, etherpop, indie poptimism, pop   21674751   \n",
       "769            dance pop, pop, r&b, urban contemporary    9033803   \n",
       "868                                            UNKNOWN        123   \n",
       "686                                  conscious hip hop     540960   \n",
       "69   reggaeton, reggaeton flow, trap boricua, trap ...   37214358   \n",
       "144   bachata, latin hip hop, latin pop, urbano latino   22006054   \n",
       "811  big room, dance pop, dutch house, edm, electro...    3922609   \n",
       "764            dance pop, pop, r&b, urban contemporary    9033803   \n",
       "925  dutch house, dutch trance, edm, pop dance, pro...    4384944   \n",
       "922  dutch house, dutch trance, edm, pop dance, pro...    4384944   \n",
       "659            electro house, pop nacional, slap house   11291607   \n",
       "114                             melodic rap, rap, trap    8383447   \n",
       "288                                 neo soul, pop, r&b   11997483   \n",
       "513  atl hip hop, contemporary r&b, dance pop, pop,...   11933139   \n",
       "289                                 neo soul, pop, r&b   11997483   \n",
       "509               dance pop, girl group, post-teen pop     680583   \n",
       "587           contemporary country, modern country pop    1076900   \n",
       "708                                                pop   12038839   \n",
       "502               dance pop, girl group, post-teen pop     680583   \n",
       "501               dance pop, girl group, post-teen pop     680583   \n",
       "648                                          afrobeats    3434959   \n",
       "506               dance pop, girl group, post-teen pop     680583   \n",
       "647                                          afrobeats    3434959   \n",
       "795  puerto rican pop, reggaeton, trap latino, urba...   22919287   \n",
       "\n",
       "     artist_popularity                        track_name  \\\n",
       "419                 73                     Alone, Pt. II   \n",
       "441                 73                     Alone, Pt. II   \n",
       "184                 70                         Beautiful   \n",
       "477                 67                         Beautiful   \n",
       "442                 74                   Car Keys (Ayla)   \n",
       "661                 74                   Car Keys (Ayla)   \n",
       "199                 74                           Chaleya   \n",
       "734                 74                           Chaleya   \n",
       "127                 84                            Closer   \n",
       "769                 66                            Closer   \n",
       "868                  0                            Dreams   \n",
       "686                 60                            Dreams   \n",
       "69                  75         Ella Quiere Beber - Remix   \n",
       "144                 75         Ella Quiere Beber - Remix   \n",
       "811                 86  Give Me Everything (feat. Nayer)   \n",
       "764                 86  Give Me Everything (feat. Nayer)   \n",
       "925                 61                In And Out Of Love   \n",
       "922                 64                In And Out Of Love   \n",
       "659                 75                            Jungle   \n",
       "114                 71                            Jungle   \n",
       "288                 81                            My Boo   \n",
       "513                 81                            My Boo   \n",
       "289                 74                            No One   \n",
       "509                 40                            No One   \n",
       "587                 67                            PSYCHO   \n",
       "708                 54                            PSYCHO   \n",
       "502                 55            Potential Breakup Song   \n",
       "501                 63            Potential Breakup Song   \n",
       "648                 72                              Rush   \n",
       "506                 46                              Rush   \n",
       "647                 84                             Santa   \n",
       "795                 84                             Santa   \n",
       "\n",
       "                                      album_name release_date  duration_ms  \\\n",
       "419                              World Of Walker   2021-11-26       179052   \n",
       "441                              World Of Walker   2021-11-26       179052   \n",
       "184                                      Freedom   2008-01-01       312986   \n",
       "477                                     Stripped   2002-07-19       238560   \n",
       "442                              Car Keys (Ayla)   2023-06-30       147211   \n",
       "661                              Car Keys (Ayla)   2023-06-30       147211   \n",
       "199                                        Jawan   2023-09-05       200373   \n",
       "734                                        Jawan   2023-09-05       200373   \n",
       "127                                       Closer   2016-07-29       244960   \n",
       "769  Year Of The Gentleman (Bonus Track Edition)   2008-01-01       234360   \n",
       "868                                     Lodestar   2019-02-08       137872   \n",
       "686                                        CHASE   2019-02-28       162213   \n",
       "69                     Ella Quiere Beber (Remix)   2018-11-02       219357   \n",
       "144                    Ella Quiere Beber (Remix)   2018-11-02       219357   \n",
       "811                  Planet Pit (Deluxe Version)   2011-06-17       252306   \n",
       "764                  Planet Pit (Deluxe Version)   2011-06-17       252306   \n",
       "925                           In And Out of Love   2008-08-04       181680   \n",
       "922                           In And Out Of Love   2024-06-28       226621   \n",
       "659                                       Jungle   2023-09-22       175500   \n",
       "114                                       Artist   2016-09-16       174192   \n",
       "288               Confessions (Expanded Edition)   2004-03-23       223440   \n",
       "513               Confessions (Expanded Edition)   2004-03-23       223440   \n",
       "289                             No One (Remixes)   2007-10-09       254523   \n",
       "509                                Into The Rush   2005-01-01       177560   \n",
       "587                                       Quit!!   2024-07-12       198748   \n",
       "708                           UNHEALTHY (Deluxe)   2023-07-28       162666   \n",
       "502                       Potential Breakup Song   2020-12-29       218333   \n",
       "501                                  Insomniatic   2007-01-01       219773   \n",
       "648                      19 & Dangerous (Deluxe)   2022-10-21       185093   \n",
       "506                                Into The Rush   2005-01-01       191733   \n",
       "647                                        Santa   2024-04-03       193038   \n",
       "795                                        Santa   2024-04-03       193038   \n",
       "\n",
       "     explicit  track_popularity  danceability  ...  key  loudness  mode  \\\n",
       "419     False                73         0.673  ...    3    -4.493     0   \n",
       "441     False                73         0.673  ...    3    -4.493     0   \n",
       "184     False                70         0.739  ...    0    -4.443     0   \n",
       "477     False                67         0.456  ...    5    -3.866     0   \n",
       "442     False                74         0.719  ...    9    -5.290     0   \n",
       "661     False                74         0.719  ...    9    -5.290     0   \n",
       "199     False                74         0.575  ...    0    -5.280     1   \n",
       "734     False                74         0.575  ...    0    -5.280     1   \n",
       "127     False                84         0.748  ...    8    -5.599     1   \n",
       "769     False                66         0.711  ...    4    -6.461     0   \n",
       "868      True                 0         0.727  ...    0   -12.145     0   \n",
       "686      True                60         0.847  ...   10    -4.316     0   \n",
       "69      False                75         0.750  ...    8    -3.083     1   \n",
       "144     False                75         0.750  ...    8    -3.083     1   \n",
       "811     False                86         0.671  ...    8    -3.206     1   \n",
       "764     False                86         0.671  ...    8    -3.206     1   \n",
       "925     False                61         0.526  ...    5    -6.777     0   \n",
       "922     False                64         0.355  ...    5    -6.811     0   \n",
       "659     False                75         0.596  ...    6    -5.651     0   \n",
       "114      True                71         0.538  ...    7   -11.063     0   \n",
       "288     False                81         0.662  ...    5    -8.238     1   \n",
       "513     False                81         0.662  ...    5    -8.238     1   \n",
       "289     False                74         0.641  ...    1    -5.423     0   \n",
       "509     False                40         0.457  ...    7    -5.351     1   \n",
       "587      True                67         0.631  ...    4    -1.672     1   \n",
       "708      True                54         0.506  ...    9    -4.999     1   \n",
       "502      True                55         0.554  ...    6    -4.139     0   \n",
       "501     False                63         0.572  ...    6    -4.139     0   \n",
       "648     False                72         0.792  ...    1    -8.044     1   \n",
       "506     False                46         0.548  ...    2    -5.218     0   \n",
       "647     False                84         0.725  ...    3    -5.017     0   \n",
       "795     False                84         0.725  ...    3    -5.017     0   \n",
       "\n",
       "     speechiness  acousticness  instrumentalness  liveness  valence    tempo  \\\n",
       "419       0.0439      0.539000          0.000000    0.1290   0.6280   88.011   \n",
       "441       0.0439      0.539000          0.000000    0.1290   0.6280   88.011   \n",
       "184       0.0881      0.125000          0.000000    0.1120   0.6270  130.018   \n",
       "477       0.0275      0.578000          0.000003    0.1140   0.0992   76.190   \n",
       "442       0.1250      0.341000          0.000000    0.2550   0.5220  126.031   \n",
       "661       0.1250      0.341000          0.000000    0.2550   0.5220  126.031   \n",
       "199       0.0852      0.393000          0.010700    0.1310   0.4390   95.047   \n",
       "734       0.0852      0.393000          0.010700    0.1310   0.4390   95.047   \n",
       "127       0.0338      0.414000          0.000000    0.1110   0.6610   95.010   \n",
       "769       0.0763      0.028000          0.000030    0.1520   0.5900  126.050   \n",
       "868       0.2920      0.126000          0.000000    0.2510   0.3190   93.963   \n",
       "686       0.2370      0.242000          0.000000    0.1050   0.8820   77.017   \n",
       "69        0.1240      0.265000          0.000000    0.0515   0.6970   95.239   \n",
       "144       0.1240      0.265000          0.000000    0.0515   0.6970   95.239   \n",
       "811       0.1610      0.191000          0.000000    0.2980   0.5300  129.024   \n",
       "764       0.1610      0.191000          0.000000    0.2980   0.5300  129.024   \n",
       "925       0.0301      0.067000          0.000064    0.1250   0.4130  134.947   \n",
       "922       0.0413      0.201000          0.013600    0.2110   0.0380  122.324   \n",
       "659       0.0295      0.052400          0.000109    0.2050   0.2170  140.002   \n",
       "114       0.7370      0.308000          0.000000    0.2140   0.5510  180.274   \n",
       "288       0.1180      0.257000          0.000000    0.0465   0.6760   86.412   \n",
       "513       0.1180      0.257000          0.000000    0.0465   0.6760   86.412   \n",
       "289       0.0283      0.027000          0.000005    0.1480   0.1520   90.098   \n",
       "509       0.0264      0.006430          0.000315    0.0813   0.3210  158.597   \n",
       "587       0.0497      0.049100          0.000007    0.6610   0.4180  123.023   \n",
       "708       0.3720      0.014000          0.000000    0.0271   0.6900   81.749   \n",
       "502       0.0384      0.000493          0.000291    0.0867   0.5370  157.987   \n",
       "501       0.0390      0.000820          0.009370    0.5640   0.7650  158.038   \n",
       "648       0.0626      0.036900          0.000570    0.0959   0.3810   99.970   \n",
       "506       0.0409      0.017500          0.000009    0.1270   0.2120  129.963   \n",
       "647       0.1290      0.321000          0.000189    0.1140   0.6480   99.993   \n",
       "795       0.1290      0.321000          0.000189    0.1140   0.6480   99.993   \n",
       "\n",
       "     artist_id  \n",
       "419         48  \n",
       "441         83  \n",
       "184         45  \n",
       "477         90  \n",
       "442         83  \n",
       "661         60  \n",
       "199         77  \n",
       "734         69  \n",
       "127         96  \n",
       "769        100  \n",
       "868         18  \n",
       "686         38  \n",
       "69          72  \n",
       "144        104  \n",
       "811         33  \n",
       "764        100  \n",
       "925         78  \n",
       "922         78  \n",
       "659         60  \n",
       "114         26  \n",
       "288         58  \n",
       "513        108  \n",
       "289         58  \n",
       "509         63  \n",
       "587         95  \n",
       "708         71  \n",
       "502         63  \n",
       "501         63  \n",
       "648         89  \n",
       "506         63  \n",
       "647         89  \n",
       "795        103  \n",
       "\n",
       "[32 rows x 21 columns]"
      ]
     },
     "execution_count": 159,
     "metadata": {},
     "output_type": "execute_result"
    }
   ],
   "source": [
    "check_dublicates('track_name')"
   ]
  },
  {
   "cell_type": "code",
   "execution_count": 160,
   "id": "df562c84",
   "metadata": {},
   "outputs": [
    {
     "data": {
      "application/vnd.microsoft.datawrangler.viewer.v0+json": {
       "columns": [
        {
         "name": "track_id",
         "rawType": "int64",
         "type": "integer"
        },
        {
         "name": "count",
         "rawType": "int64",
         "type": "integer"
        }
       ],
       "ref": "9b89c631-c69e-4259-9c11-d6a0e586ed4a",
       "rows": [
        [
         "145",
         "2"
        ],
        [
         "138",
         "2"
        ],
        [
         "554",
         "2"
        ],
        [
         "53",
         "2"
        ],
        [
         "262",
         "2"
        ],
        [
         "713",
         "2"
        ],
        [
         "320",
         "2"
        ],
        [
         "968",
         "1"
        ],
        [
         "720",
         "1"
        ],
        [
         "984",
         "1"
        ],
        [
         "599",
         "1"
        ],
        [
         "209",
         "1"
        ],
        [
         "21",
         "1"
        ],
        [
         "565",
         "1"
        ],
        [
         "432",
         "1"
        ],
        [
         "250",
         "1"
        ],
        [
         "730",
         "1"
        ],
        [
         "769",
         "1"
        ],
        [
         "690",
         "1"
        ],
        [
         "751",
         "1"
        ],
        [
         "504",
         "1"
        ],
        [
         "911",
         "1"
        ],
        [
         "520",
         "1"
        ],
        [
         "150",
         "1"
        ],
        [
         "357",
         "1"
        ],
        [
         "791",
         "1"
        ],
        [
         "397",
         "1"
        ],
        [
         "640",
         "1"
        ],
        [
         "274",
         "1"
        ],
        [
         "337",
         "1"
        ],
        [
         "284",
         "1"
        ],
        [
         "55",
         "1"
        ],
        [
         "277",
         "1"
        ],
        [
         "465",
         "1"
        ],
        [
         "450",
         "1"
        ],
        [
         "175",
         "1"
        ],
        [
         "300",
         "1"
        ],
        [
         "192",
         "1"
        ],
        [
         "953",
         "1"
        ],
        [
         "509",
         "1"
        ],
        [
         "332",
         "1"
        ],
        [
         "954",
         "1"
        ],
        [
         "229",
         "1"
        ],
        [
         "63",
         "1"
        ],
        [
         "226",
         "1"
        ],
        [
         "401",
         "1"
        ],
        [
         "19",
         "1"
        ],
        [
         "220",
         "1"
        ],
        [
         "914",
         "1"
        ],
        [
         "659",
         "1"
        ]
       ],
       "shape": {
        "columns": 1,
        "rows": 993
       }
      },
      "text/plain": [
       "track_id\n",
       "145    2\n",
       "138    2\n",
       "554    2\n",
       "53     2\n",
       "262    2\n",
       "      ..\n",
       "693    1\n",
       "692    1\n",
       "74     1\n",
       "184    1\n",
       "384    1\n",
       "Name: count, Length: 993, dtype: int64"
      ]
     },
     "execution_count": 160,
     "metadata": {},
     "output_type": "execute_result"
    }
   ],
   "source": [
    "df[\"track_id\"] = df.groupby([\n",
    "    \"track_name\", \"album_name\", \"duration_ms\", \"release_date\", \n",
    "    \"energy\", \"loudness\", \"mode\", \"danceability\", \"speechiness\", \"tempo\"\n",
    "]).ngroup() + 1\n",
    "df.track_id.value_counts()"
   ]
  },
  {
   "cell_type": "code",
   "execution_count": 161,
   "id": "01ceaa62",
   "metadata": {},
   "outputs": [],
   "source": [
    "df.drop(['track_name'], axis=1, inplace=True)"
   ]
  },
  {
   "cell_type": "markdown",
   "id": "fcee4a70",
   "metadata": {},
   "source": [
    "**album name**"
   ]
  },
  {
   "cell_type": "code",
   "execution_count": 162,
   "id": "e10fcf10",
   "metadata": {},
   "outputs": [],
   "source": [
    "from sklearn.preprocessing import LabelEncoder"
   ]
  },
  {
   "cell_type": "code",
   "execution_count": 163,
   "id": "f613a1a2",
   "metadata": {},
   "outputs": [],
   "source": [
    "encoder = LabelEncoder()\n",
    "df['album_name'] = encoder.fit_transform(df['album_name'])"
   ]
  },
  {
   "cell_type": "markdown",
   "id": "ac7b24a5",
   "metadata": {},
   "source": [
    "**datatime**"
   ]
  },
  {
   "cell_type": "code",
   "execution_count": 164,
   "id": "0aa61f13",
   "metadata": {},
   "outputs": [
    {
     "data": {
      "application/vnd.microsoft.datawrangler.viewer.v0+json": {
       "columns": [
        {
         "name": "index",
         "rawType": "int64",
         "type": "integer"
        },
        {
         "name": "genres",
         "rawType": "object",
         "type": "string"
        },
        {
         "name": "followers",
         "rawType": "int64",
         "type": "integer"
        },
        {
         "name": "artist_popularity",
         "rawType": "int64",
         "type": "integer"
        },
        {
         "name": "album_name",
         "rawType": "int64",
         "type": "integer"
        },
        {
         "name": "release_date",
         "rawType": "object",
         "type": "string"
        },
        {
         "name": "duration_ms",
         "rawType": "int64",
         "type": "integer"
        },
        {
         "name": "explicit",
         "rawType": "bool",
         "type": "boolean"
        },
        {
         "name": "track_popularity",
         "rawType": "int64",
         "type": "integer"
        },
        {
         "name": "danceability",
         "rawType": "float64",
         "type": "float"
        },
        {
         "name": "energy",
         "rawType": "float64",
         "type": "float"
        },
        {
         "name": "key",
         "rawType": "int64",
         "type": "integer"
        },
        {
         "name": "loudness",
         "rawType": "float64",
         "type": "float"
        },
        {
         "name": "mode",
         "rawType": "int64",
         "type": "integer"
        },
        {
         "name": "speechiness",
         "rawType": "float64",
         "type": "float"
        },
        {
         "name": "acousticness",
         "rawType": "float64",
         "type": "float"
        },
        {
         "name": "instrumentalness",
         "rawType": "float64",
         "type": "float"
        },
        {
         "name": "liveness",
         "rawType": "float64",
         "type": "float"
        },
        {
         "name": "valence",
         "rawType": "float64",
         "type": "float"
        },
        {
         "name": "tempo",
         "rawType": "float64",
         "type": "float"
        },
        {
         "name": "artist_id",
         "rawType": "int64",
         "type": "integer"
        },
        {
         "name": "track_id",
         "rawType": "int64",
         "type": "integer"
        },
        {
         "name": "valid_date",
         "rawType": "datetime64[ns]",
         "type": "datetime"
        }
       ],
       "ref": "1bc09beb-8638-4a58-92b5-0ddfcda5dd12",
       "rows": [
        [
         "25",
         "east coast hip hop, hip hop, rap",
         "14740526",
         "77",
         "288",
         "2013",
         "236280",
         "True",
         "77",
         "0.801",
         "0.819",
         "11",
         "-5.189",
         "1",
         "0.158",
         "0.292",
         "0.0",
         "0.515",
         "0.811",
         "139.969",
         "29",
         "284",
         null
        ],
        [
         "27",
         "east coast hip hop, hip hop, rap",
         "14740526",
         "76",
         "288",
         "2013",
         "233786",
         "True",
         "76",
         "0.853",
         "0.693",
         "1",
         "-6.87",
         "1",
         "0.275",
         "0.0239",
         "0.0",
         "0.11",
         "0.662",
         "95.967",
         "29",
         "277",
         null
        ],
        [
         "28",
         "east coast hip hop, hip hop, rap",
         "14740526",
         "76",
         "288",
         "2013",
         "220133",
         "True",
         "76",
         "0.597",
         "0.427",
         "5",
         "-6.764",
         "0",
         "0.0536",
         "0.18",
         "1.33e-05",
         "0.121",
         "0.0997",
         "120.085",
         "29",
         "465",
         null
        ],
        [
         "52",
         "alternative metal, alternative rock, grunge, hard rock, nu metal, rock",
         "5216015",
         "72",
         "270",
         "1994",
         "259200",
         "False",
         "72",
         "0.384",
         "0.561",
         "3",
         "-10.059",
         "0",
         "0.0296",
         "0.373",
         "0.253",
         "0.0775",
         "0.159",
         "136.136",
         "57",
         "583",
         null
        ],
        [
         "57",
         "alternative metal, alternative rock, grunge, hard rock, nu metal, rock",
         "5216015",
         "64",
         "270",
         "1994",
         "255573",
         "False",
         "64",
         "0.527",
         "0.838",
         "3",
         "-6.013",
         "1",
         "0.0323",
         "0.0206",
         "0.00062",
         "0.07",
         "0.721",
         "117.454",
         "57",
         "572",
         null
        ],
        [
         "58",
         "alternative metal, alternative rock, grunge, hard rock, nu metal, rock",
         "5216015",
         "63",
         "270",
         "1994",
         "418466",
         "False",
         "63",
         "0.31",
         "0.637",
         "3",
         "-8.595",
         "0",
         "0.037",
         "0.215",
         "0.116",
         "0.0619",
         "0.426",
         "147.4",
         "57",
         "694",
         null
        ],
        [
         "59",
         "alternative metal, alternative rock, grunge, hard rock, nu metal, rock",
         "5216015",
         "62",
         "270",
         "1994",
         "254400",
         "False",
         "62",
         "0.174",
         "0.781",
         "6",
         "-7.066",
         "1",
         "0.0406",
         "0.0452",
         "0.00346",
         "0.0822",
         "0.276",
         "81.37",
         "57",
         "398",
         null
        ],
        [
         "70",
         "europop, swedish pop",
         "12698682",
         "85",
         "56",
         "1976",
         "230400",
         "False",
         "85",
         "0.543",
         "0.87",
         "9",
         "-6.514",
         "1",
         "0.0428",
         "0.358",
         "0.000939",
         "0.792",
         "0.754",
         "100.804",
         "30",
         "189",
         null
        ],
        [
         "71",
         "europop, swedish pop",
         "12698682",
         "81",
         "545",
         "1979",
         "292613",
         "False",
         "81",
         "0.749",
         "0.491",
         "10",
         "-9.655",
         "1",
         "0.0403",
         "0.02",
         "0.00899",
         "0.159",
         "0.536",
         "119.528",
         "30",
         "316",
         null
        ],
        [
         "72",
         "europop, swedish pop",
         "12698682",
         "77",
         "458",
         "1980",
         "274466",
         "False",
         "77",
         "0.678",
         "0.727",
         "2",
         "-7.844",
         "0",
         "0.0258",
         "0.117",
         "0.00396",
         "0.354",
         "0.71",
         "133.481",
         "30",
         "473",
         null
        ],
        [
         "73",
         "europop, swedish pop",
         "12698682",
         "78",
         "30",
         "1975",
         "213266",
         "False",
         "78",
         "0.749",
         "0.748",
         "2",
         "-7.011",
         "1",
         "0.0323",
         "0.295",
         "0.000443",
         "0.469",
         "0.827",
         "137.547",
         "30",
         "523",
         null
        ],
        [
         "74",
         "europop, swedish pop",
         "12698682",
         "76",
         "477",
         "1977",
         "243933",
         "False",
         "76",
         "0.684",
         "0.675",
         "11",
         "-8.123",
         "1",
         "0.0257",
         "0.163",
         "0.0",
         "0.242",
         "0.924",
         "107.064",
         "30",
         "807",
         null
        ],
        [
         "75",
         "europop, swedish pop",
         "12698682",
         "74",
         "551",
         "1974",
         "168960",
         "False",
         "74",
         "0.445",
         "0.949",
         "2",
         "-4.682",
         "1",
         "0.0471",
         "0.395",
         "8.18e-06",
         "0.0902",
         "0.653",
         "147.604",
         "30",
         "900",
         null
        ],
        [
         "76",
         "europop, swedish pop",
         "12698682",
         "74",
         "458",
         "1980",
         "294720",
         "False",
         "74",
         "0.454",
         "0.788",
         "6",
         "-6.748",
         "1",
         "0.0371",
         "0.574",
         "0.000766",
         "0.0859",
         "0.52",
         "126.15",
         "30",
         "834",
         null
        ],
        [
         "77",
         "europop, swedish pop",
         "12698682",
         "73",
         "458",
         "1980",
         "252853",
         "False",
         "73",
         "0.764",
         "0.626",
         "0",
         "-8.274",
         "1",
         "0.0288",
         "0.457",
         "6.35e-06",
         "0.201",
         "0.961",
         "118.34",
         "30",
         "793",
         null
        ],
        [
         "78",
         "europop, swedish pop",
         "12698682",
         "71",
         "56",
         "1976",
         "186426",
         "False",
         "71",
         "0.787",
         "0.704",
         "9",
         "-6.873",
         "0",
         "0.0385",
         "0.535",
         "0.00305",
         "0.089",
         "0.646",
         "120.701",
         "30",
         "542",
         null
        ],
        [
         "79",
         "europop, swedish pop",
         "12698682",
         "72",
         "545",
         "1979",
         "326320",
         "False",
         "72",
         "0.5",
         "0.554",
         "9",
         "-8.108",
         "1",
         "0.0354",
         "0.734",
         "3.72e-06",
         "0.312",
         "0.372",
         "84.229",
         "30",
         "156",
         null
        ],
        [
         "172",
         "canadian pop, candy pop, dance pop, pop",
         "11207940",
         "72",
         "533",
         "2004",
         "242413",
         "True",
         "72",
         "0.414",
         "0.936",
         "2",
         "-2.407",
         "1",
         "0.0758",
         "0.00136",
         "0.0",
         "0.369",
         "0.74",
         "170.229",
         "87",
         "555",
         null
        ],
        [
         "176",
         "canadian pop, candy pop, dance pop, pop",
         "11207940",
         "65",
         "533",
         "2004",
         "212413",
         "False",
         "65",
         "0.348",
         "0.907",
         "5",
         "-3.66",
         "0",
         "0.0497",
         "0.000516",
         "0.0",
         "0.161",
         "0.177",
         "185.406",
         "87",
         "579",
         null
        ],
        [
         "217",
         "british soul, neo soul",
         "9015775",
         "81",
         "75",
         "2006",
         "241293",
         "True",
         "81",
         "0.434",
         "0.422",
         "7",
         "-13.964",
         "0",
         "0.0375",
         "0.134",
         "2.05e-05",
         "0.0861",
         "0.377",
         "123.201",
         "65",
         "89",
         null
        ],
        [
         "218",
         "british soul, neo soul",
         "9015775",
         "74",
         "75",
         "2006",
         "214946",
         "False",
         "74",
         "0.407",
         "0.558",
         "0",
         "-13.609",
         "1",
         "0.0552",
         "0.0537",
         "1.42e-06",
         "0.34",
         "0.777",
         "71.815",
         "65",
         "667",
         null
        ],
        [
         "219",
         "british soul, neo soul",
         "9015775",
         "75",
         "75",
         "2006",
         "233733",
         "False",
         "75",
         "0.772",
         "0.371",
         "5",
         "-5.743",
         "0",
         "0.0348",
         "0.745",
         "0.0",
         "0.167",
         "0.684",
         "96.574",
         "65",
         "880",
         null
        ],
        [
         "220",
         "british soul, neo soul",
         "9015775",
         "73",
         "75",
         "2006",
         "186440",
         "True",
         "73",
         "0.634",
         "0.543",
         "1",
         "-13.391",
         "0",
         "0.182",
         "0.525",
         "0.0",
         "0.232",
         "0.468",
         "121.56",
         "65",
         "813",
         null
        ],
        [
         "221",
         "british soul, neo soul",
         "9015775",
         "73",
         "75",
         "2006",
         "257186",
         "False",
         "73",
         "0.694",
         "0.495",
         "9",
         "-14.222",
         "1",
         "0.0329",
         "0.0137",
         "0.00351",
         "0.0644",
         "0.799",
         "103.375",
         "65",
         "941",
         null
        ],
        [
         "222",
         "british soul, neo soul",
         "9015775",
         "69",
         "75",
         "2006",
         "155413",
         "False",
         "69",
         "0.484",
         "0.294",
         "0",
         "-16.544",
         "1",
         "0.031",
         "0.34",
         "0.00609",
         "0.146",
         "0.562",
         "165.007",
         "65",
         "505",
         null
        ],
        [
         "223",
         "british soul, neo soul",
         "9015775",
         "66",
         "75",
         "2006",
         "153173",
         "True",
         "66",
         "0.582",
         "0.486",
         "4",
         "-13.165",
         "1",
         "0.0764",
         "0.518",
         "0.0",
         "0.0665",
         "0.512",
         "87.833",
         "65",
         "527",
         null
        ],
        [
         "225",
         "british soul, neo soul",
         "9015775",
         "66",
         "75",
         "2006",
         "166400",
         "False",
         "66",
         "0.628",
         "0.504",
         "11",
         "-14.978",
         "1",
         "0.0729",
         "0.0215",
         "0.00865",
         "0.0684",
         "0.711",
         "98.308",
         "65",
         "350",
         null
        ],
        [
         "347",
         "canadian pop, canadian singer-songwriter, lilith, neo mellow, pop rock, singer-songwriter",
         "2887083",
         "73",
         "267",
         "1995",
         "230000",
         "False",
         "73",
         "0.408",
         "0.582",
         "11",
         "-8.305",
         "1",
         "0.0508",
         "0.218",
         "0.0",
         "0.159",
         "0.365",
         "114.926",
         "49",
         "435",
         null
        ],
        [
         "348",
         "canadian pop, canadian singer-songwriter, lilith, neo mellow, pop rock, singer-songwriter",
         "2887083",
         "68",
         "267",
         "1995",
         "249493",
         "True",
         "68",
         "0.665",
         "0.834",
         "4",
         "-7.737",
         "1",
         "0.0576",
         "0.21",
         "0.0",
         "0.452",
         "0.411",
         "105.292",
         "49",
         "945",
         null
        ],
        [
         "349",
         "canadian pop, canadian singer-songwriter, lilith, neo mellow, pop rock, singer-songwriter",
         "2887083",
         "68",
         "267",
         "1995",
         "222013",
         "False",
         "68",
         "0.657",
         "0.655",
         "0",
         "-8.3",
         "1",
         "0.0248",
         "0.135",
         "0.00303",
         "0.102",
         "0.668",
         "92.259",
         "49",
         "342",
         null
        ],
        [
         "350",
         "canadian pop, canadian singer-songwriter, lilith, neo mellow, pop rock, singer-songwriter",
         "2887083",
         "64",
         "267",
         "1995",
         "267293",
         "False",
         "64",
         "0.482",
         "0.808",
         "0",
         "-7.176",
         "1",
         "0.065",
         "0.0562",
         "0.0",
         "0.202",
         "0.438",
         "79.599",
         "49",
         "352",
         null
        ],
        [
         "352",
         "canadian pop, canadian singer-songwriter, lilith, neo mellow, pop rock, singer-songwriter",
         "2887083",
         "61",
         "267",
         "1995",
         "239640",
         "False",
         "61",
         "0.401",
         "0.706",
         "8",
         "-7.554",
         "1",
         "0.0404",
         "0.00415",
         "0.0",
         "0.0916",
         "0.458",
         "168.669",
         "49",
         "942",
         null
        ],
        [
         "355",
         "canadian pop, canadian singer-songwriter, lilith, neo mellow, pop rock, singer-songwriter",
         "2887083",
         "55",
         "267",
         "1995",
         "284093",
         "False",
         "55",
         "0.562",
         "0.896",
         "10",
         "-7.974",
         "0",
         "0.203",
         "0.0117",
         "0.0",
         "0.322",
         "0.362",
         "93.378",
         "49",
         "48",
         null
        ],
        [
         "357",
         "art pop, norwegian pop",
         "3764619",
         "71",
         "43",
         "2014",
         "248826",
         "False",
         "71",
         "0.459",
         "0.276",
         "11",
         "-10.339",
         "1",
         "0.036",
         "0.63",
         "9.5e-05",
         "0.104",
         "0.128",
         "114.169",
         "36",
         "696",
         null
        ],
        [
         "360",
         "art pop, norwegian pop",
         "3764619",
         "60",
         "43",
         "2014",
         "194760",
         "False",
         "60",
         "0.539",
         "0.528",
         "5",
         "-6.719",
         "1",
         "0.0546",
         "0.246",
         "6.65e-05",
         "0.221",
         "0.456",
         "164.024",
         "36",
         "698",
         null
        ],
        [
         "389",
         "pop, singer-songwriter pop, uk pop",
         "115449586",
         "64",
         "596",
         "2013",
         "258986",
         "False",
         "64",
         "0.614",
         "0.379",
         "4",
         "-10.48",
         "1",
         "0.0476",
         "0.607",
         "0.000464",
         "0.0986",
         "0.201",
         "107.989",
         "91",
         "627",
         null
        ],
        [
         "391",
         "pop, singer-songwriter pop, uk pop",
         "115449586",
         "64",
         "596",
         "2013",
         "281560",
         "False",
         "64",
         "0.781",
         "0.445",
         "2",
         "-6.061",
         "1",
         "0.0295",
         "0.474",
         "0.0",
         "0.184",
         "0.591",
         "78.998",
         "91",
         "838",
         null
        ],
        [
         "448",
         "album rock, classic rock, detroit rock, glam metal, glam rock, hard rock, metal, protopunk, rock",
         "3740417",
         "68",
         "418",
         "1972",
         "210106",
         "False",
         "68",
         "0.294",
         "0.745",
         "5",
         "-9.138",
         "1",
         "0.0461",
         "0.05",
         "0.125",
         "0.676",
         "0.347",
         "134.364",
         "56",
         "724",
         null
        ],
        [
         "449",
         "album rock, classic rock, detroit rock, glam metal, glam rock, hard rock, metal, protopunk, rock",
         "3740417",
         "58",
         "90",
         "1973",
         "187893",
         "False",
         "58",
         "0.498",
         "0.515",
         "11",
         "-11.985",
         "0",
         "0.0395",
         "0.0936",
         "0.0",
         "0.1",
         "0.616",
         "127.765",
         "56",
         "574",
         null
        ],
        [
         "450",
         "album rock, classic rock, detroit rock, glam metal, glam rock, hard rock, metal, protopunk, rock",
         "3740417",
         "55",
         "305",
         "1971",
         "180760",
         "False",
         "55",
         "0.618",
         "0.413",
         "4",
         "-14.164",
         "0",
         "0.0302",
         "0.249",
         "0.0517",
         "0.131",
         "0.531",
         "97.84",
         "56",
         "407",
         null
        ],
        [
         "456",
         "album rock, classic rock, detroit rock, glam metal, glam rock, hard rock, metal, protopunk, rock",
         "3740417",
         "46",
         "280",
         "1971",
         "171560",
         "False",
         "46",
         "0.239",
         "0.798",
         "5",
         "-13.952",
         "1",
         "0.0671",
         "0.000485",
         "0.376",
         "0.141",
         "0.292",
         "141.228",
         "56",
         "872",
         null
        ],
        [
         "472",
         "dance pop, pop",
         "8411343",
         "79",
         "199",
         "2012",
         "229506",
         "False",
         "79",
         "0.673",
         "0.758",
         "7",
         "-3.632",
         "1",
         "0.158",
         "0.039",
         "0.0",
         "0.341",
         "0.542",
         "135.956",
         "90",
         "288",
         null
        ],
        [
         "473",
         "dance pop, pop",
         "8411343",
         "78",
         "112",
         "1999",
         "217573",
         "False",
         "78",
         "0.633",
         "0.8",
         "1",
         "-6.945",
         "1",
         "0.166",
         "0.209",
         "0.000123",
         "0.137",
         "0.913",
         "175.716",
         "90",
         "313",
         null
        ],
        [
         "480",
         "dance pop, pop",
         "8411343",
         "65",
         "325",
         "2000",
         "265733",
         "False",
         "65",
         "0.679",
         "0.474",
         "6",
         "-6.323",
         "1",
         "0.0294",
         "0.546",
         "0.00149",
         "0.373",
         "0.197",
         "117.947",
         "90",
         "624",
         null
        ],
        [
         "522",
         "alternative metal, nu metal, pop punk, post-grunge, punk, screamo",
         "924438",
         "59",
         "428",
         "2003",
         "190493",
         "False",
         "59",
         "0.389",
         "0.904",
         "8",
         "-4.494",
         "0",
         "0.0355",
         "0.00844",
         "0.000155",
         "0.124",
         "0.67",
         "121.863",
         "32",
         "318",
         null
        ],
        [
         "525",
         "alternative metal, nu metal, pop punk, post-grunge, punk, screamo",
         "924438",
         "52",
         "428",
         "2003",
         "250706",
         "False",
         "52",
         "0.408",
         "0.839",
         "3",
         "-4.543",
         "0",
         "0.0369",
         "0.00258",
         "6.96e-06",
         "0.333",
         "0.37",
         "131.521",
         "32",
         "744",
         null
        ],
        [
         "526",
         "alternative metal, nu metal, pop punk, post-grunge, punk, screamo",
         "924438",
         "50",
         "428",
         "2003",
         "211040",
         "False",
         "50",
         "0.512",
         "0.82",
         "3",
         "-5.971",
         "0",
         "0.0303",
         "0.00143",
         "0.00143",
         "0.104",
         "0.602",
         "88.977",
         "32",
         "825",
         null
        ],
        [
         "529",
         "alternative metal, nu metal, pop punk, post-grunge, punk, screamo",
         "924438",
         "50",
         "428",
         "2003",
         "146666",
         "False",
         "50",
         "0.554",
         "0.98",
         "3",
         "-2.849",
         "0",
         "0.0947",
         "0.00291",
         "0.0",
         "0.279",
         "0.643",
         "114.078",
         "32",
         "190",
         null
        ],
        [
         "541",
         "baroque, classical, early music, german baroque",
         "4406930",
         "63",
         "73",
         "1983",
         "151733",
         "False",
         "63",
         "0.218",
         "0.111",
         "7",
         "-21.375",
         "1",
         "0.0688",
         "0.895",
         "0.834",
         "0.165",
         "0.27",
         "77.423",
         "98",
         "143",
         null
        ],
        [
         "545",
         "baroque, classical, early music, german baroque",
         "4406930",
         "60",
         "72",
         "1981",
         "184853",
         "False",
         "60",
         "0.454",
         "0.0139",
         "4",
         "-29.966",
         "0",
         "0.0513",
         "0.995",
         "0.943",
         "0.0736",
         "0.243",
         "130.242",
         "98",
         "326",
         null
        ]
       ],
       "shape": {
        "columns": 22,
        "rows": 72
       }
      },
      "text/html": [
       "<div>\n",
       "<style scoped>\n",
       "    .dataframe tbody tr th:only-of-type {\n",
       "        vertical-align: middle;\n",
       "    }\n",
       "\n",
       "    .dataframe tbody tr th {\n",
       "        vertical-align: top;\n",
       "    }\n",
       "\n",
       "    .dataframe thead th {\n",
       "        text-align: right;\n",
       "    }\n",
       "</style>\n",
       "<table border=\"1\" class=\"dataframe\">\n",
       "  <thead>\n",
       "    <tr style=\"text-align: right;\">\n",
       "      <th></th>\n",
       "      <th>genres</th>\n",
       "      <th>followers</th>\n",
       "      <th>artist_popularity</th>\n",
       "      <th>album_name</th>\n",
       "      <th>release_date</th>\n",
       "      <th>duration_ms</th>\n",
       "      <th>explicit</th>\n",
       "      <th>track_popularity</th>\n",
       "      <th>danceability</th>\n",
       "      <th>energy</th>\n",
       "      <th>...</th>\n",
       "      <th>mode</th>\n",
       "      <th>speechiness</th>\n",
       "      <th>acousticness</th>\n",
       "      <th>instrumentalness</th>\n",
       "      <th>liveness</th>\n",
       "      <th>valence</th>\n",
       "      <th>tempo</th>\n",
       "      <th>artist_id</th>\n",
       "      <th>track_id</th>\n",
       "      <th>valid_date</th>\n",
       "    </tr>\n",
       "  </thead>\n",
       "  <tbody>\n",
       "    <tr>\n",
       "      <th>25</th>\n",
       "      <td>east coast hip hop, hip hop, rap</td>\n",
       "      <td>14740526</td>\n",
       "      <td>77</td>\n",
       "      <td>288</td>\n",
       "      <td>2013</td>\n",
       "      <td>236280</td>\n",
       "      <td>True</td>\n",
       "      <td>77</td>\n",
       "      <td>0.801</td>\n",
       "      <td>0.819</td>\n",
       "      <td>...</td>\n",
       "      <td>1</td>\n",
       "      <td>0.1580</td>\n",
       "      <td>0.2920</td>\n",
       "      <td>0.000000</td>\n",
       "      <td>0.5150</td>\n",
       "      <td>0.8110</td>\n",
       "      <td>139.969</td>\n",
       "      <td>29</td>\n",
       "      <td>284</td>\n",
       "      <td>NaT</td>\n",
       "    </tr>\n",
       "    <tr>\n",
       "      <th>27</th>\n",
       "      <td>east coast hip hop, hip hop, rap</td>\n",
       "      <td>14740526</td>\n",
       "      <td>76</td>\n",
       "      <td>288</td>\n",
       "      <td>2013</td>\n",
       "      <td>233786</td>\n",
       "      <td>True</td>\n",
       "      <td>76</td>\n",
       "      <td>0.853</td>\n",
       "      <td>0.693</td>\n",
       "      <td>...</td>\n",
       "      <td>1</td>\n",
       "      <td>0.2750</td>\n",
       "      <td>0.0239</td>\n",
       "      <td>0.000000</td>\n",
       "      <td>0.1100</td>\n",
       "      <td>0.6620</td>\n",
       "      <td>95.967</td>\n",
       "      <td>29</td>\n",
       "      <td>277</td>\n",
       "      <td>NaT</td>\n",
       "    </tr>\n",
       "    <tr>\n",
       "      <th>28</th>\n",
       "      <td>east coast hip hop, hip hop, rap</td>\n",
       "      <td>14740526</td>\n",
       "      <td>76</td>\n",
       "      <td>288</td>\n",
       "      <td>2013</td>\n",
       "      <td>220133</td>\n",
       "      <td>True</td>\n",
       "      <td>76</td>\n",
       "      <td>0.597</td>\n",
       "      <td>0.427</td>\n",
       "      <td>...</td>\n",
       "      <td>0</td>\n",
       "      <td>0.0536</td>\n",
       "      <td>0.1800</td>\n",
       "      <td>0.000013</td>\n",
       "      <td>0.1210</td>\n",
       "      <td>0.0997</td>\n",
       "      <td>120.085</td>\n",
       "      <td>29</td>\n",
       "      <td>465</td>\n",
       "      <td>NaT</td>\n",
       "    </tr>\n",
       "    <tr>\n",
       "      <th>52</th>\n",
       "      <td>alternative metal, alternative rock, grunge, h...</td>\n",
       "      <td>5216015</td>\n",
       "      <td>72</td>\n",
       "      <td>270</td>\n",
       "      <td>1994</td>\n",
       "      <td>259200</td>\n",
       "      <td>False</td>\n",
       "      <td>72</td>\n",
       "      <td>0.384</td>\n",
       "      <td>0.561</td>\n",
       "      <td>...</td>\n",
       "      <td>0</td>\n",
       "      <td>0.0296</td>\n",
       "      <td>0.3730</td>\n",
       "      <td>0.253000</td>\n",
       "      <td>0.0775</td>\n",
       "      <td>0.1590</td>\n",
       "      <td>136.136</td>\n",
       "      <td>57</td>\n",
       "      <td>583</td>\n",
       "      <td>NaT</td>\n",
       "    </tr>\n",
       "    <tr>\n",
       "      <th>57</th>\n",
       "      <td>alternative metal, alternative rock, grunge, h...</td>\n",
       "      <td>5216015</td>\n",
       "      <td>64</td>\n",
       "      <td>270</td>\n",
       "      <td>1994</td>\n",
       "      <td>255573</td>\n",
       "      <td>False</td>\n",
       "      <td>64</td>\n",
       "      <td>0.527</td>\n",
       "      <td>0.838</td>\n",
       "      <td>...</td>\n",
       "      <td>1</td>\n",
       "      <td>0.0323</td>\n",
       "      <td>0.0206</td>\n",
       "      <td>0.000620</td>\n",
       "      <td>0.0700</td>\n",
       "      <td>0.7210</td>\n",
       "      <td>117.454</td>\n",
       "      <td>57</td>\n",
       "      <td>572</td>\n",
       "      <td>NaT</td>\n",
       "    </tr>\n",
       "    <tr>\n",
       "      <th>...</th>\n",
       "      <td>...</td>\n",
       "      <td>...</td>\n",
       "      <td>...</td>\n",
       "      <td>...</td>\n",
       "      <td>...</td>\n",
       "      <td>...</td>\n",
       "      <td>...</td>\n",
       "      <td>...</td>\n",
       "      <td>...</td>\n",
       "      <td>...</td>\n",
       "      <td>...</td>\n",
       "      <td>...</td>\n",
       "      <td>...</td>\n",
       "      <td>...</td>\n",
       "      <td>...</td>\n",
       "      <td>...</td>\n",
       "      <td>...</td>\n",
       "      <td>...</td>\n",
       "      <td>...</td>\n",
       "      <td>...</td>\n",
       "      <td>...</td>\n",
       "    </tr>\n",
       "    <tr>\n",
       "      <th>892</th>\n",
       "      <td>album rock, classic rock, folk rock, mellow go...</td>\n",
       "      <td>1779973</td>\n",
       "      <td>58</td>\n",
       "      <td>49</td>\n",
       "      <td>1972</td>\n",
       "      <td>181093</td>\n",
       "      <td>False</td>\n",
       "      <td>58</td>\n",
       "      <td>0.696</td>\n",
       "      <td>0.522</td>\n",
       "      <td>...</td>\n",
       "      <td>0</td>\n",
       "      <td>0.0394</td>\n",
       "      <td>0.6850</td>\n",
       "      <td>0.193000</td>\n",
       "      <td>0.1660</td>\n",
       "      <td>0.8810</td>\n",
       "      <td>156.488</td>\n",
       "      <td>64</td>\n",
       "      <td>684</td>\n",
       "      <td>NaT</td>\n",
       "    </tr>\n",
       "    <tr>\n",
       "      <th>893</th>\n",
       "      <td>album rock, classic rock, folk rock, mellow go...</td>\n",
       "      <td>1779973</td>\n",
       "      <td>56</td>\n",
       "      <td>49</td>\n",
       "      <td>1972</td>\n",
       "      <td>183186</td>\n",
       "      <td>False</td>\n",
       "      <td>56</td>\n",
       "      <td>0.529</td>\n",
       "      <td>0.472</td>\n",
       "      <td>...</td>\n",
       "      <td>1</td>\n",
       "      <td>0.0267</td>\n",
       "      <td>0.5830</td>\n",
       "      <td>0.000000</td>\n",
       "      <td>0.1290</td>\n",
       "      <td>0.2500</td>\n",
       "      <td>134.100</td>\n",
       "      <td>64</td>\n",
       "      <td>394</td>\n",
       "      <td>NaT</td>\n",
       "    </tr>\n",
       "    <tr>\n",
       "      <th>990</th>\n",
       "      <td>atl hip hop, dirty south rap, hip hop, old sch...</td>\n",
       "      <td>2769972</td>\n",
       "      <td>84</td>\n",
       "      <td>442</td>\n",
       "      <td>2003</td>\n",
       "      <td>235213</td>\n",
       "      <td>False</td>\n",
       "      <td>84</td>\n",
       "      <td>0.727</td>\n",
       "      <td>0.974</td>\n",
       "      <td>...</td>\n",
       "      <td>0</td>\n",
       "      <td>0.0664</td>\n",
       "      <td>0.1030</td>\n",
       "      <td>0.000532</td>\n",
       "      <td>0.1740</td>\n",
       "      <td>0.9650</td>\n",
       "      <td>79.526</td>\n",
       "      <td>102</td>\n",
       "      <td>368</td>\n",
       "      <td>NaT</td>\n",
       "    </tr>\n",
       "    <tr>\n",
       "      <th>993</th>\n",
       "      <td>atl hip hop, dirty south rap, hip hop, old sch...</td>\n",
       "      <td>2769972</td>\n",
       "      <td>71</td>\n",
       "      <td>442</td>\n",
       "      <td>2003</td>\n",
       "      <td>234000</td>\n",
       "      <td>True</td>\n",
       "      <td>71</td>\n",
       "      <td>0.871</td>\n",
       "      <td>0.597</td>\n",
       "      <td>...</td>\n",
       "      <td>0</td>\n",
       "      <td>0.0464</td>\n",
       "      <td>0.1260</td>\n",
       "      <td>0.000113</td>\n",
       "      <td>0.0638</td>\n",
       "      <td>0.6350</td>\n",
       "      <td>125.999</td>\n",
       "      <td>102</td>\n",
       "      <td>832</td>\n",
       "      <td>NaT</td>\n",
       "    </tr>\n",
       "    <tr>\n",
       "      <th>995</th>\n",
       "      <td>atl hip hop, dirty south rap, hip hop, old sch...</td>\n",
       "      <td>2769972</td>\n",
       "      <td>69</td>\n",
       "      <td>442</td>\n",
       "      <td>2003</td>\n",
       "      <td>369573</td>\n",
       "      <td>True</td>\n",
       "      <td>69</td>\n",
       "      <td>0.751</td>\n",
       "      <td>0.708</td>\n",
       "      <td>...</td>\n",
       "      <td>1</td>\n",
       "      <td>0.0545</td>\n",
       "      <td>0.0482</td>\n",
       "      <td>0.000018</td>\n",
       "      <td>0.1070</td>\n",
       "      <td>0.5090</td>\n",
       "      <td>108.970</td>\n",
       "      <td>102</td>\n",
       "      <td>693</td>\n",
       "      <td>NaT</td>\n",
       "    </tr>\n",
       "  </tbody>\n",
       "</table>\n",
       "<p>72 rows × 22 columns</p>\n",
       "</div>"
      ],
      "text/plain": [
       "                                                genres  followers  \\\n",
       "25                    east coast hip hop, hip hop, rap   14740526   \n",
       "27                    east coast hip hop, hip hop, rap   14740526   \n",
       "28                    east coast hip hop, hip hop, rap   14740526   \n",
       "52   alternative metal, alternative rock, grunge, h...    5216015   \n",
       "57   alternative metal, alternative rock, grunge, h...    5216015   \n",
       "..                                                 ...        ...   \n",
       "892  album rock, classic rock, folk rock, mellow go...    1779973   \n",
       "893  album rock, classic rock, folk rock, mellow go...    1779973   \n",
       "990  atl hip hop, dirty south rap, hip hop, old sch...    2769972   \n",
       "993  atl hip hop, dirty south rap, hip hop, old sch...    2769972   \n",
       "995  atl hip hop, dirty south rap, hip hop, old sch...    2769972   \n",
       "\n",
       "     artist_popularity  album_name release_date  duration_ms  explicit  \\\n",
       "25                  77         288         2013       236280      True   \n",
       "27                  76         288         2013       233786      True   \n",
       "28                  76         288         2013       220133      True   \n",
       "52                  72         270         1994       259200     False   \n",
       "57                  64         270         1994       255573     False   \n",
       "..                 ...         ...          ...          ...       ...   \n",
       "892                 58          49         1972       181093     False   \n",
       "893                 56          49         1972       183186     False   \n",
       "990                 84         442         2003       235213     False   \n",
       "993                 71         442         2003       234000      True   \n",
       "995                 69         442         2003       369573      True   \n",
       "\n",
       "     track_popularity  danceability  energy  ...  mode  speechiness  \\\n",
       "25                 77         0.801   0.819  ...     1       0.1580   \n",
       "27                 76         0.853   0.693  ...     1       0.2750   \n",
       "28                 76         0.597   0.427  ...     0       0.0536   \n",
       "52                 72         0.384   0.561  ...     0       0.0296   \n",
       "57                 64         0.527   0.838  ...     1       0.0323   \n",
       "..                ...           ...     ...  ...   ...          ...   \n",
       "892                58         0.696   0.522  ...     0       0.0394   \n",
       "893                56         0.529   0.472  ...     1       0.0267   \n",
       "990                84         0.727   0.974  ...     0       0.0664   \n",
       "993                71         0.871   0.597  ...     0       0.0464   \n",
       "995                69         0.751   0.708  ...     1       0.0545   \n",
       "\n",
       "     acousticness  instrumentalness  liveness  valence    tempo  artist_id  \\\n",
       "25         0.2920          0.000000    0.5150   0.8110  139.969         29   \n",
       "27         0.0239          0.000000    0.1100   0.6620   95.967         29   \n",
       "28         0.1800          0.000013    0.1210   0.0997  120.085         29   \n",
       "52         0.3730          0.253000    0.0775   0.1590  136.136         57   \n",
       "57         0.0206          0.000620    0.0700   0.7210  117.454         57   \n",
       "..            ...               ...       ...      ...      ...        ...   \n",
       "892        0.6850          0.193000    0.1660   0.8810  156.488         64   \n",
       "893        0.5830          0.000000    0.1290   0.2500  134.100         64   \n",
       "990        0.1030          0.000532    0.1740   0.9650   79.526        102   \n",
       "993        0.1260          0.000113    0.0638   0.6350  125.999        102   \n",
       "995        0.0482          0.000018    0.1070   0.5090  108.970        102   \n",
       "\n",
       "     track_id  valid_date  \n",
       "25        284         NaT  \n",
       "27        277         NaT  \n",
       "28        465         NaT  \n",
       "52        583         NaT  \n",
       "57        572         NaT  \n",
       "..        ...         ...  \n",
       "892       684         NaT  \n",
       "893       394         NaT  \n",
       "990       368         NaT  \n",
       "993       832         NaT  \n",
       "995       693         NaT  \n",
       "\n",
       "[72 rows x 22 columns]"
      ]
     },
     "execution_count": 164,
     "metadata": {},
     "output_type": "execute_result"
    }
   ],
   "source": [
    "df['valid_date'] = pd.to_datetime(df['release_date'], format='%Y-%m-%d', errors='coerce')\n",
    "df[df['valid_date'].isna()]"
   ]
  },
  {
   "cell_type": "code",
   "execution_count": 165,
   "id": "91c0170d",
   "metadata": {},
   "outputs": [
    {
     "name": "stderr",
     "output_type": "stream",
     "text": [
      "C:\\Users\\User\\AppData\\Local\\Temp\\ipykernel_14060\\3073819352.py:1: UserWarning: Could not infer format, so each element will be parsed individually, falling back to `dateutil`. To ensure parsing is consistent and as-expected, please specify a format.\n",
      "  df['valid_date'] = df['valid_date'].fillna(pd.to_datetime(df['release_date'].astype(str) + '-01-01'))\n",
      "C:\\Users\\User\\AppData\\Local\\Temp\\ipykernel_14060\\3073819352.py:1: FutureWarning: In a future version of pandas, parsing datetimes with mixed time zones will raise an error unless `utc=True`. Please specify `utc=True` to opt in to the new behaviour and silence this warning. To create a `Series` with mixed offsets and `object` dtype, please use `apply` and `datetime.datetime.strptime`\n",
      "  df['valid_date'] = df['valid_date'].fillna(pd.to_datetime(df['release_date'].astype(str) + '-01-01'))\n",
      "C:\\Users\\User\\AppData\\Local\\Temp\\ipykernel_14060\\3073819352.py:1: FutureWarning: Downcasting object dtype arrays on .fillna, .ffill, .bfill is deprecated and will change in a future version. Call result.infer_objects(copy=False) instead. To opt-in to the future behavior, set `pd.set_option('future.no_silent_downcasting', True)`\n",
      "  df['valid_date'] = df['valid_date'].fillna(pd.to_datetime(df['release_date'].astype(str) + '-01-01'))\n"
     ]
    }
   ],
   "source": [
    "df['valid_date'] = df['valid_date'].fillna(pd.to_datetime(df['release_date'].astype(str) + '-01-01'))"
   ]
  },
  {
   "cell_type": "code",
   "execution_count": 166,
   "id": "4e09efbc",
   "metadata": {},
   "outputs": [],
   "source": [
    "df['year'] = df['valid_date'].dt.year\n",
    "df['month'] = df['valid_date'].dt.month\n",
    "df['day'] = df['valid_date'].dt.day"
   ]
  },
  {
   "cell_type": "code",
   "execution_count": 167,
   "id": "dcd9598e",
   "metadata": {},
   "outputs": [],
   "source": [
    "df.drop(['valid_date', 'release_date'], axis=1, inplace=True)"
   ]
  },
  {
   "cell_type": "code",
   "execution_count": 168,
   "id": "b7dfd49f",
   "metadata": {},
   "outputs": [],
   "source": [
    "df['month_sin'] = np.sin(2 * np.pi * df['month'] / 12)\n",
    "df['month_cos'] = np.cos(2 * np.pi * df['month'] / 12)"
   ]
  },
  {
   "cell_type": "markdown",
   "id": "3846ed34",
   "metadata": {},
   "source": [
    "**genres**"
   ]
  },
  {
   "cell_type": "code",
   "execution_count": 169,
   "id": "6941187a",
   "metadata": {},
   "outputs": [
    {
     "data": {
      "application/vnd.microsoft.datawrangler.viewer.v0+json": {
       "columns": [
        {
         "name": "genres",
         "rawType": "object",
         "type": "string"
        },
        {
         "name": "count",
         "rawType": "int64",
         "type": "integer"
        }
       ],
       "ref": "3382a9a6-becd-4652-afd1-d15fff6a95e6",
       "rows": [
        [
         "UNKNOWN",
         "163"
        ],
        [
         "pop",
         "40"
        ],
        [
         "dance pop, pop",
         "20"
        ],
        [
         "british soul, pop, pop soul, uk pop",
         "10"
        ],
        [
         "east coast hip hop, hip hop, rap",
         "10"
        ],
        [
         "reggaeton, reggaeton flow, trap boricua, trap latino, urbano latino",
         "10"
        ],
        [
         "europop, swedish pop",
         "10"
        ],
        [
         "garage rock, modern rock, permanent wave, rock, sheffield indie",
         "10"
        ],
        [
         "alternative metal, alternative rock, grunge, hard rock, nu metal, rock",
         "10"
        ],
        [
         "philly indie, pov: indie, slacker rock",
         "10"
        ],
        [
         "melodic rap, rap, trap",
         "10"
        ],
        [
         "electropop, etherpop, indie poptimism, pop",
         "10"
        ],
        [
         "bachata, latin hip hop, latin pop, urbano latino",
         "10"
        ],
        [
         "atl hip hop, melodic rap, rap, trap",
         "10"
        ],
        [
         "bachata, bachata dominicana, latin hip hop, latin pop, tropical, urbano latino",
         "10"
        ],
        [
         "pov: indie",
         "10"
        ],
        [
         "australian rock, hard rock, rock",
         "10"
        ],
        [
         "gen z singer-songwriter, singer-songwriter pop",
         "10"
        ],
        [
         "canadian pop, candy pop, dance pop, pop",
         "10"
        ],
        [
         "filmi, modern bollywood",
         "10"
        ],
        [
         "dance pop",
         "10"
        ],
        [
         "escape room, hip hop, indie soul, neo soul",
         "10"
        ],
        [
         "british soul, neo soul",
         "10"
        ],
        [
         "countrygaze, indie pop, small room",
         "10"
        ],
        [
         "alternative metal",
         "10"
        ],
        [
         "modern rock, neon pop punk, pop emo, pop punk",
         "10"
        ],
        [
         "latin hip hop, reggaeton, trap latino, urbano latino",
         "10"
        ],
        [
         "alternative metal, metalcore, neon pop punk, pop punk, screamo",
         "10"
        ],
        [
         "neo soul, pop, r&b",
         "10"
        ],
        [
         "atl hip hop, atl trap, gangster rap, melodic rap, rap, trap",
         "10"
        ],
        [
         "dance pop, edm, pop, pop dance",
         "10"
        ],
        [
         "k-pop girl group",
         "10"
        ],
        [
         "k-pop, k-pop boy group",
         "10"
        ],
        [
         "dembow, rap dominicano, trap latino, urbano latino",
         "10"
        ],
        [
         "canadian pop, canadian singer-songwriter, lilith, neo mellow, pop rock, singer-songwriter",
         "10"
        ],
        [
         "afrobeats, nigerian pop",
         "10"
        ],
        [
         "art pop, norwegian pop",
         "10"
        ],
        [
         "country",
         "10"
        ],
        [
         "pop, singer-songwriter pop, uk pop",
         "10"
        ],
        [
         "ambient, braindance, electronica, intelligent dance music, uk experimental electronic",
         "10"
        ],
        [
         "electro house",
         "10"
        ],
        [
         "art pop, chamber pop, dream pop, dreamo, indie pop, indie rock, noise pop, shoegaze, toronto indie",
         "10"
        ],
        [
         "album rock, classic rock, detroit rock, glam metal, glam rock, hard rock, metal, protopunk, rock",
         "10"
        ],
        [
         "banda, corrido, musica mexicana, norteno, sad sierreno, sierreno",
         "10"
        ],
        [
         "alt z, pop, pov: indie",
         "10"
        ],
        [
         "album rock, classic rock, hard rock, rock",
         "10"
        ],
        [
         "dance pop, girl group, post-teen pop",
         "10"
        ],
        [
         "atl hip hop, contemporary r&b, dance pop, pop, r&b, rap, south carolina hip hop, urban contemporary",
         "10"
        ],
        [
         "alternative metal, nu metal, pop punk, post-grunge, punk, screamo",
         "10"
        ],
        [
         "puerto rican pop, reggaeton, trap latino, urbano latino",
         "10"
        ]
       ],
       "shape": {
        "columns": 1,
        "rows": 81
       }
      },
      "text/plain": [
       "genres\n",
       "UNKNOWN                                                                                     163\n",
       "pop                                                                                          40\n",
       "dance pop, pop                                                                               20\n",
       "british soul, pop, pop soul, uk pop                                                          10\n",
       "east coast hip hop, hip hop, rap                                                             10\n",
       "                                                                                           ... \n",
       "japanese teen pop                                                                            10\n",
       "alt z                                                                                        10\n",
       "ambient folk, indie folk                                                                     10\n",
       "atl hip hop, dirty south rap, hip hop, old school atlanta hip hop, rap, southern hip hop     10\n",
       "social media pop                                                                              7\n",
       "Name: count, Length: 81, dtype: int64"
      ]
     },
     "execution_count": 169,
     "metadata": {},
     "output_type": "execute_result"
    }
   ],
   "source": [
    "df.genres.value_counts()"
   ]
  },
  {
   "cell_type": "code",
   "execution_count": 170,
   "id": "d7cc6417",
   "metadata": {},
   "outputs": [
    {
     "data": {
      "text/plain": [
       "{'UNKNOWN',\n",
       " 'afrobeats',\n",
       " 'album rock',\n",
       " 'alt z',\n",
       " 'alternative hip hop',\n",
       " 'alternative metal',\n",
       " 'alternative rock',\n",
       " 'ambient',\n",
       " 'ambient folk',\n",
       " 'art pop',\n",
       " 'atl hip hop',\n",
       " 'atl trap',\n",
       " 'australian rock',\n",
       " 'bachata',\n",
       " 'bachata dominicana',\n",
       " 'banda',\n",
       " 'baroque',\n",
       " 'big room',\n",
       " 'braindance',\n",
       " 'british alternative rock',\n",
       " 'british soul',\n",
       " 'canadian contemporary r&b',\n",
       " 'canadian pop',\n",
       " 'canadian singer-songwriter',\n",
       " 'candy pop',\n",
       " 'chamber pop',\n",
       " 'classic rock',\n",
       " 'classical',\n",
       " 'classical era',\n",
       " 'conscious hip hop',\n",
       " 'contemporary country',\n",
       " 'contemporary r&b',\n",
       " 'corrido',\n",
       " 'country',\n",
       " 'country road',\n",
       " 'country rock',\n",
       " 'countrygaze',\n",
       " 'dance pop',\n",
       " 'dembow',\n",
       " 'desi hip hop',\n",
       " 'detroit rock',\n",
       " 'dirty south rap',\n",
       " 'dream pop',\n",
       " 'dreamo',\n",
       " 'drumless hip hop',\n",
       " 'dutch house',\n",
       " 'dutch trance',\n",
       " 'early music',\n",
       " 'east coast hip hop',\n",
       " 'edm',\n",
       " 'electro house',\n",
       " 'electronica',\n",
       " 'electropop',\n",
       " 'escape room',\n",
       " 'etherpop',\n",
       " 'europop',\n",
       " 'filmi',\n",
       " 'folk rock',\n",
       " 'funk pop',\n",
       " 'funk rj',\n",
       " 'gangster rap',\n",
       " 'garage rock',\n",
       " 'gen z singer-songwriter',\n",
       " 'german baroque',\n",
       " 'girl group',\n",
       " 'glam metal',\n",
       " 'glam rock',\n",
       " 'grunge',\n",
       " 'hard rock',\n",
       " 'hip hop',\n",
       " 'hip pop',\n",
       " 'indie folk',\n",
       " 'indie pop',\n",
       " 'indie poptimism',\n",
       " 'indie rock',\n",
       " 'indie soul',\n",
       " 'instrumental hip hop',\n",
       " 'intelligent dance music',\n",
       " 'japanese teen pop',\n",
       " 'k-pop',\n",
       " 'k-pop boy group',\n",
       " 'k-pop girl group',\n",
       " 'k-rap',\n",
       " 'latin hip hop',\n",
       " 'latin pop',\n",
       " 'lilith',\n",
       " 'mellow gold',\n",
       " 'melodic rap',\n",
       " 'metal',\n",
       " 'metalcore',\n",
       " 'modern bollywood',\n",
       " 'modern country pop',\n",
       " 'modern rock',\n",
       " 'musica mexicana',\n",
       " 'neo mellow',\n",
       " 'neo soul',\n",
       " 'neon pop punk',\n",
       " 'nigerian pop',\n",
       " 'noise pop',\n",
       " 'norteno',\n",
       " 'norwegian pop',\n",
       " 'nu metal',\n",
       " 'old school atlanta hip hop',\n",
       " 'pagode baiano',\n",
       " 'permanent wave',\n",
       " 'philly indie',\n",
       " 'pop',\n",
       " 'pop dance',\n",
       " 'pop emo',\n",
       " 'pop nacional',\n",
       " 'pop punk',\n",
       " 'pop rap',\n",
       " 'pop rock',\n",
       " 'pop soul',\n",
       " 'post-grunge',\n",
       " 'post-teen pop',\n",
       " 'pov: indie',\n",
       " 'progressive electro house',\n",
       " 'progressive house',\n",
       " 'protopunk',\n",
       " 'puerto rican pop',\n",
       " 'punk',\n",
       " 'r&b',\n",
       " 'rap',\n",
       " 'rap dominicano',\n",
       " 'reggaeton',\n",
       " 'reggaeton flow',\n",
       " 'rock',\n",
       " 'sad sierreno',\n",
       " 'screamo',\n",
       " 'sheffield indie',\n",
       " 'shoegaze',\n",
       " 'sierreno',\n",
       " 'singer-songwriter',\n",
       " 'singer-songwriter pop',\n",
       " 'slacker rock',\n",
       " 'slap house',\n",
       " 'small room',\n",
       " 'social media pop',\n",
       " 'soft rock',\n",
       " 'south carolina hip hop',\n",
       " 'southern hip hop',\n",
       " 'swedish pop',\n",
       " 'tamil hip hop',\n",
       " 'toronto indie',\n",
       " 'trance',\n",
       " 'trap',\n",
       " 'trap boricua',\n",
       " 'trap latino',\n",
       " 'tropical',\n",
       " 'uk experimental electronic',\n",
       " 'uk pop',\n",
       " 'urban contemporary',\n",
       " 'urbano latino',\n",
       " 'viral pop',\n",
       " 'west coast rap'}"
      ]
     },
     "execution_count": 170,
     "metadata": {},
     "output_type": "execute_result"
    }
   ],
   "source": [
    "all_genres = set()\n",
    "df['genres'].str.split(', ').apply(lambda x: all_genres.update(x) if isinstance(x, list) else None)\n",
    "all_genres"
   ]
  },
  {
   "cell_type": "code",
   "execution_count": 171,
   "id": "db3c3295",
   "metadata": {},
   "outputs": [
    {
     "data": {
      "text/plain": [
       "156"
      ]
     },
     "execution_count": 171,
     "metadata": {},
     "output_type": "execute_result"
    }
   ],
   "source": [
    "len(all_genres)"
   ]
  },
  {
   "cell_type": "code",
   "execution_count": 172,
   "id": "ef66491c",
   "metadata": {},
   "outputs": [
    {
     "name": "stderr",
     "output_type": "stream",
     "text": [
      "C:\\Users\\User\\AppData\\Local\\Temp\\ipykernel_14060\\2484843383.py:2: PerformanceWarning: DataFrame is highly fragmented.  This is usually the result of calling `frame.insert` many times, which has poor performance.  Consider joining all columns at once using pd.concat(axis=1) instead. To get a de-fragmented frame, use `newframe = frame.copy()`\n",
      "  df[f'genre_{genre}'] = df['genres'].str.contains(genre).astype(int)\n",
      "C:\\Users\\User\\AppData\\Local\\Temp\\ipykernel_14060\\2484843383.py:2: PerformanceWarning: DataFrame is highly fragmented.  This is usually the result of calling `frame.insert` many times, which has poor performance.  Consider joining all columns at once using pd.concat(axis=1) instead. To get a de-fragmented frame, use `newframe = frame.copy()`\n",
      "  df[f'genre_{genre}'] = df['genres'].str.contains(genre).astype(int)\n",
      "C:\\Users\\User\\AppData\\Local\\Temp\\ipykernel_14060\\2484843383.py:2: PerformanceWarning: DataFrame is highly fragmented.  This is usually the result of calling `frame.insert` many times, which has poor performance.  Consider joining all columns at once using pd.concat(axis=1) instead. To get a de-fragmented frame, use `newframe = frame.copy()`\n",
      "  df[f'genre_{genre}'] = df['genres'].str.contains(genre).astype(int)\n",
      "C:\\Users\\User\\AppData\\Local\\Temp\\ipykernel_14060\\2484843383.py:2: PerformanceWarning: DataFrame is highly fragmented.  This is usually the result of calling `frame.insert` many times, which has poor performance.  Consider joining all columns at once using pd.concat(axis=1) instead. To get a de-fragmented frame, use `newframe = frame.copy()`\n",
      "  df[f'genre_{genre}'] = df['genres'].str.contains(genre).astype(int)\n",
      "C:\\Users\\User\\AppData\\Local\\Temp\\ipykernel_14060\\2484843383.py:2: PerformanceWarning: DataFrame is highly fragmented.  This is usually the result of calling `frame.insert` many times, which has poor performance.  Consider joining all columns at once using pd.concat(axis=1) instead. To get a de-fragmented frame, use `newframe = frame.copy()`\n",
      "  df[f'genre_{genre}'] = df['genres'].str.contains(genre).astype(int)\n",
      "C:\\Users\\User\\AppData\\Local\\Temp\\ipykernel_14060\\2484843383.py:2: PerformanceWarning: DataFrame is highly fragmented.  This is usually the result of calling `frame.insert` many times, which has poor performance.  Consider joining all columns at once using pd.concat(axis=1) instead. To get a de-fragmented frame, use `newframe = frame.copy()`\n",
      "  df[f'genre_{genre}'] = df['genres'].str.contains(genre).astype(int)\n",
      "C:\\Users\\User\\AppData\\Local\\Temp\\ipykernel_14060\\2484843383.py:2: PerformanceWarning: DataFrame is highly fragmented.  This is usually the result of calling `frame.insert` many times, which has poor performance.  Consider joining all columns at once using pd.concat(axis=1) instead. To get a de-fragmented frame, use `newframe = frame.copy()`\n",
      "  df[f'genre_{genre}'] = df['genres'].str.contains(genre).astype(int)\n",
      "C:\\Users\\User\\AppData\\Local\\Temp\\ipykernel_14060\\2484843383.py:2: PerformanceWarning: DataFrame is highly fragmented.  This is usually the result of calling `frame.insert` many times, which has poor performance.  Consider joining all columns at once using pd.concat(axis=1) instead. To get a de-fragmented frame, use `newframe = frame.copy()`\n",
      "  df[f'genre_{genre}'] = df['genres'].str.contains(genre).astype(int)\n",
      "C:\\Users\\User\\AppData\\Local\\Temp\\ipykernel_14060\\2484843383.py:2: PerformanceWarning: DataFrame is highly fragmented.  This is usually the result of calling `frame.insert` many times, which has poor performance.  Consider joining all columns at once using pd.concat(axis=1) instead. To get a de-fragmented frame, use `newframe = frame.copy()`\n",
      "  df[f'genre_{genre}'] = df['genres'].str.contains(genre).astype(int)\n",
      "C:\\Users\\User\\AppData\\Local\\Temp\\ipykernel_14060\\2484843383.py:2: PerformanceWarning: DataFrame is highly fragmented.  This is usually the result of calling `frame.insert` many times, which has poor performance.  Consider joining all columns at once using pd.concat(axis=1) instead. To get a de-fragmented frame, use `newframe = frame.copy()`\n",
      "  df[f'genre_{genre}'] = df['genres'].str.contains(genre).astype(int)\n",
      "C:\\Users\\User\\AppData\\Local\\Temp\\ipykernel_14060\\2484843383.py:2: PerformanceWarning: DataFrame is highly fragmented.  This is usually the result of calling `frame.insert` many times, which has poor performance.  Consider joining all columns at once using pd.concat(axis=1) instead. To get a de-fragmented frame, use `newframe = frame.copy()`\n",
      "  df[f'genre_{genre}'] = df['genres'].str.contains(genre).astype(int)\n",
      "C:\\Users\\User\\AppData\\Local\\Temp\\ipykernel_14060\\2484843383.py:2: PerformanceWarning: DataFrame is highly fragmented.  This is usually the result of calling `frame.insert` many times, which has poor performance.  Consider joining all columns at once using pd.concat(axis=1) instead. To get a de-fragmented frame, use `newframe = frame.copy()`\n",
      "  df[f'genre_{genre}'] = df['genres'].str.contains(genre).astype(int)\n",
      "C:\\Users\\User\\AppData\\Local\\Temp\\ipykernel_14060\\2484843383.py:2: PerformanceWarning: DataFrame is highly fragmented.  This is usually the result of calling `frame.insert` many times, which has poor performance.  Consider joining all columns at once using pd.concat(axis=1) instead. To get a de-fragmented frame, use `newframe = frame.copy()`\n",
      "  df[f'genre_{genre}'] = df['genres'].str.contains(genre).astype(int)\n",
      "C:\\Users\\User\\AppData\\Local\\Temp\\ipykernel_14060\\2484843383.py:2: PerformanceWarning: DataFrame is highly fragmented.  This is usually the result of calling `frame.insert` many times, which has poor performance.  Consider joining all columns at once using pd.concat(axis=1) instead. To get a de-fragmented frame, use `newframe = frame.copy()`\n",
      "  df[f'genre_{genre}'] = df['genres'].str.contains(genre).astype(int)\n",
      "C:\\Users\\User\\AppData\\Local\\Temp\\ipykernel_14060\\2484843383.py:2: PerformanceWarning: DataFrame is highly fragmented.  This is usually the result of calling `frame.insert` many times, which has poor performance.  Consider joining all columns at once using pd.concat(axis=1) instead. To get a de-fragmented frame, use `newframe = frame.copy()`\n",
      "  df[f'genre_{genre}'] = df['genres'].str.contains(genre).astype(int)\n",
      "C:\\Users\\User\\AppData\\Local\\Temp\\ipykernel_14060\\2484843383.py:2: PerformanceWarning: DataFrame is highly fragmented.  This is usually the result of calling `frame.insert` many times, which has poor performance.  Consider joining all columns at once using pd.concat(axis=1) instead. To get a de-fragmented frame, use `newframe = frame.copy()`\n",
      "  df[f'genre_{genre}'] = df['genres'].str.contains(genre).astype(int)\n",
      "C:\\Users\\User\\AppData\\Local\\Temp\\ipykernel_14060\\2484843383.py:2: PerformanceWarning: DataFrame is highly fragmented.  This is usually the result of calling `frame.insert` many times, which has poor performance.  Consider joining all columns at once using pd.concat(axis=1) instead. To get a de-fragmented frame, use `newframe = frame.copy()`\n",
      "  df[f'genre_{genre}'] = df['genres'].str.contains(genre).astype(int)\n",
      "C:\\Users\\User\\AppData\\Local\\Temp\\ipykernel_14060\\2484843383.py:2: PerformanceWarning: DataFrame is highly fragmented.  This is usually the result of calling `frame.insert` many times, which has poor performance.  Consider joining all columns at once using pd.concat(axis=1) instead. To get a de-fragmented frame, use `newframe = frame.copy()`\n",
      "  df[f'genre_{genre}'] = df['genres'].str.contains(genre).astype(int)\n",
      "C:\\Users\\User\\AppData\\Local\\Temp\\ipykernel_14060\\2484843383.py:2: PerformanceWarning: DataFrame is highly fragmented.  This is usually the result of calling `frame.insert` many times, which has poor performance.  Consider joining all columns at once using pd.concat(axis=1) instead. To get a de-fragmented frame, use `newframe = frame.copy()`\n",
      "  df[f'genre_{genre}'] = df['genres'].str.contains(genre).astype(int)\n",
      "C:\\Users\\User\\AppData\\Local\\Temp\\ipykernel_14060\\2484843383.py:2: PerformanceWarning: DataFrame is highly fragmented.  This is usually the result of calling `frame.insert` many times, which has poor performance.  Consider joining all columns at once using pd.concat(axis=1) instead. To get a de-fragmented frame, use `newframe = frame.copy()`\n",
      "  df[f'genre_{genre}'] = df['genres'].str.contains(genre).astype(int)\n",
      "C:\\Users\\User\\AppData\\Local\\Temp\\ipykernel_14060\\2484843383.py:2: PerformanceWarning: DataFrame is highly fragmented.  This is usually the result of calling `frame.insert` many times, which has poor performance.  Consider joining all columns at once using pd.concat(axis=1) instead. To get a de-fragmented frame, use `newframe = frame.copy()`\n",
      "  df[f'genre_{genre}'] = df['genres'].str.contains(genre).astype(int)\n",
      "C:\\Users\\User\\AppData\\Local\\Temp\\ipykernel_14060\\2484843383.py:2: PerformanceWarning: DataFrame is highly fragmented.  This is usually the result of calling `frame.insert` many times, which has poor performance.  Consider joining all columns at once using pd.concat(axis=1) instead. To get a de-fragmented frame, use `newframe = frame.copy()`\n",
      "  df[f'genre_{genre}'] = df['genres'].str.contains(genre).astype(int)\n",
      "C:\\Users\\User\\AppData\\Local\\Temp\\ipykernel_14060\\2484843383.py:2: PerformanceWarning: DataFrame is highly fragmented.  This is usually the result of calling `frame.insert` many times, which has poor performance.  Consider joining all columns at once using pd.concat(axis=1) instead. To get a de-fragmented frame, use `newframe = frame.copy()`\n",
      "  df[f'genre_{genre}'] = df['genres'].str.contains(genre).astype(int)\n",
      "C:\\Users\\User\\AppData\\Local\\Temp\\ipykernel_14060\\2484843383.py:2: PerformanceWarning: DataFrame is highly fragmented.  This is usually the result of calling `frame.insert` many times, which has poor performance.  Consider joining all columns at once using pd.concat(axis=1) instead. To get a de-fragmented frame, use `newframe = frame.copy()`\n",
      "  df[f'genre_{genre}'] = df['genres'].str.contains(genre).astype(int)\n",
      "C:\\Users\\User\\AppData\\Local\\Temp\\ipykernel_14060\\2484843383.py:2: PerformanceWarning: DataFrame is highly fragmented.  This is usually the result of calling `frame.insert` many times, which has poor performance.  Consider joining all columns at once using pd.concat(axis=1) instead. To get a de-fragmented frame, use `newframe = frame.copy()`\n",
      "  df[f'genre_{genre}'] = df['genres'].str.contains(genre).astype(int)\n",
      "C:\\Users\\User\\AppData\\Local\\Temp\\ipykernel_14060\\2484843383.py:2: PerformanceWarning: DataFrame is highly fragmented.  This is usually the result of calling `frame.insert` many times, which has poor performance.  Consider joining all columns at once using pd.concat(axis=1) instead. To get a de-fragmented frame, use `newframe = frame.copy()`\n",
      "  df[f'genre_{genre}'] = df['genres'].str.contains(genre).astype(int)\n",
      "C:\\Users\\User\\AppData\\Local\\Temp\\ipykernel_14060\\2484843383.py:2: PerformanceWarning: DataFrame is highly fragmented.  This is usually the result of calling `frame.insert` many times, which has poor performance.  Consider joining all columns at once using pd.concat(axis=1) instead. To get a de-fragmented frame, use `newframe = frame.copy()`\n",
      "  df[f'genre_{genre}'] = df['genres'].str.contains(genre).astype(int)\n",
      "C:\\Users\\User\\AppData\\Local\\Temp\\ipykernel_14060\\2484843383.py:2: PerformanceWarning: DataFrame is highly fragmented.  This is usually the result of calling `frame.insert` many times, which has poor performance.  Consider joining all columns at once using pd.concat(axis=1) instead. To get a de-fragmented frame, use `newframe = frame.copy()`\n",
      "  df[f'genre_{genre}'] = df['genres'].str.contains(genre).astype(int)\n",
      "C:\\Users\\User\\AppData\\Local\\Temp\\ipykernel_14060\\2484843383.py:2: PerformanceWarning: DataFrame is highly fragmented.  This is usually the result of calling `frame.insert` many times, which has poor performance.  Consider joining all columns at once using pd.concat(axis=1) instead. To get a de-fragmented frame, use `newframe = frame.copy()`\n",
      "  df[f'genre_{genre}'] = df['genres'].str.contains(genre).astype(int)\n",
      "C:\\Users\\User\\AppData\\Local\\Temp\\ipykernel_14060\\2484843383.py:2: PerformanceWarning: DataFrame is highly fragmented.  This is usually the result of calling `frame.insert` many times, which has poor performance.  Consider joining all columns at once using pd.concat(axis=1) instead. To get a de-fragmented frame, use `newframe = frame.copy()`\n",
      "  df[f'genre_{genre}'] = df['genres'].str.contains(genre).astype(int)\n",
      "C:\\Users\\User\\AppData\\Local\\Temp\\ipykernel_14060\\2484843383.py:2: PerformanceWarning: DataFrame is highly fragmented.  This is usually the result of calling `frame.insert` many times, which has poor performance.  Consider joining all columns at once using pd.concat(axis=1) instead. To get a de-fragmented frame, use `newframe = frame.copy()`\n",
      "  df[f'genre_{genre}'] = df['genres'].str.contains(genre).astype(int)\n",
      "C:\\Users\\User\\AppData\\Local\\Temp\\ipykernel_14060\\2484843383.py:2: PerformanceWarning: DataFrame is highly fragmented.  This is usually the result of calling `frame.insert` many times, which has poor performance.  Consider joining all columns at once using pd.concat(axis=1) instead. To get a de-fragmented frame, use `newframe = frame.copy()`\n",
      "  df[f'genre_{genre}'] = df['genres'].str.contains(genre).astype(int)\n",
      "C:\\Users\\User\\AppData\\Local\\Temp\\ipykernel_14060\\2484843383.py:2: PerformanceWarning: DataFrame is highly fragmented.  This is usually the result of calling `frame.insert` many times, which has poor performance.  Consider joining all columns at once using pd.concat(axis=1) instead. To get a de-fragmented frame, use `newframe = frame.copy()`\n",
      "  df[f'genre_{genre}'] = df['genres'].str.contains(genre).astype(int)\n",
      "C:\\Users\\User\\AppData\\Local\\Temp\\ipykernel_14060\\2484843383.py:2: PerformanceWarning: DataFrame is highly fragmented.  This is usually the result of calling `frame.insert` many times, which has poor performance.  Consider joining all columns at once using pd.concat(axis=1) instead. To get a de-fragmented frame, use `newframe = frame.copy()`\n",
      "  df[f'genre_{genre}'] = df['genres'].str.contains(genre).astype(int)\n",
      "C:\\Users\\User\\AppData\\Local\\Temp\\ipykernel_14060\\2484843383.py:2: PerformanceWarning: DataFrame is highly fragmented.  This is usually the result of calling `frame.insert` many times, which has poor performance.  Consider joining all columns at once using pd.concat(axis=1) instead. To get a de-fragmented frame, use `newframe = frame.copy()`\n",
      "  df[f'genre_{genre}'] = df['genres'].str.contains(genre).astype(int)\n",
      "C:\\Users\\User\\AppData\\Local\\Temp\\ipykernel_14060\\2484843383.py:2: PerformanceWarning: DataFrame is highly fragmented.  This is usually the result of calling `frame.insert` many times, which has poor performance.  Consider joining all columns at once using pd.concat(axis=1) instead. To get a de-fragmented frame, use `newframe = frame.copy()`\n",
      "  df[f'genre_{genre}'] = df['genres'].str.contains(genre).astype(int)\n",
      "C:\\Users\\User\\AppData\\Local\\Temp\\ipykernel_14060\\2484843383.py:2: PerformanceWarning: DataFrame is highly fragmented.  This is usually the result of calling `frame.insert` many times, which has poor performance.  Consider joining all columns at once using pd.concat(axis=1) instead. To get a de-fragmented frame, use `newframe = frame.copy()`\n",
      "  df[f'genre_{genre}'] = df['genres'].str.contains(genre).astype(int)\n",
      "C:\\Users\\User\\AppData\\Local\\Temp\\ipykernel_14060\\2484843383.py:2: PerformanceWarning: DataFrame is highly fragmented.  This is usually the result of calling `frame.insert` many times, which has poor performance.  Consider joining all columns at once using pd.concat(axis=1) instead. To get a de-fragmented frame, use `newframe = frame.copy()`\n",
      "  df[f'genre_{genre}'] = df['genres'].str.contains(genre).astype(int)\n",
      "C:\\Users\\User\\AppData\\Local\\Temp\\ipykernel_14060\\2484843383.py:2: PerformanceWarning: DataFrame is highly fragmented.  This is usually the result of calling `frame.insert` many times, which has poor performance.  Consider joining all columns at once using pd.concat(axis=1) instead. To get a de-fragmented frame, use `newframe = frame.copy()`\n",
      "  df[f'genre_{genre}'] = df['genres'].str.contains(genre).astype(int)\n",
      "C:\\Users\\User\\AppData\\Local\\Temp\\ipykernel_14060\\2484843383.py:2: PerformanceWarning: DataFrame is highly fragmented.  This is usually the result of calling `frame.insert` many times, which has poor performance.  Consider joining all columns at once using pd.concat(axis=1) instead. To get a de-fragmented frame, use `newframe = frame.copy()`\n",
      "  df[f'genre_{genre}'] = df['genres'].str.contains(genre).astype(int)\n",
      "C:\\Users\\User\\AppData\\Local\\Temp\\ipykernel_14060\\2484843383.py:2: PerformanceWarning: DataFrame is highly fragmented.  This is usually the result of calling `frame.insert` many times, which has poor performance.  Consider joining all columns at once using pd.concat(axis=1) instead. To get a de-fragmented frame, use `newframe = frame.copy()`\n",
      "  df[f'genre_{genre}'] = df['genres'].str.contains(genre).astype(int)\n",
      "C:\\Users\\User\\AppData\\Local\\Temp\\ipykernel_14060\\2484843383.py:2: PerformanceWarning: DataFrame is highly fragmented.  This is usually the result of calling `frame.insert` many times, which has poor performance.  Consider joining all columns at once using pd.concat(axis=1) instead. To get a de-fragmented frame, use `newframe = frame.copy()`\n",
      "  df[f'genre_{genre}'] = df['genres'].str.contains(genre).astype(int)\n",
      "C:\\Users\\User\\AppData\\Local\\Temp\\ipykernel_14060\\2484843383.py:2: PerformanceWarning: DataFrame is highly fragmented.  This is usually the result of calling `frame.insert` many times, which has poor performance.  Consider joining all columns at once using pd.concat(axis=1) instead. To get a de-fragmented frame, use `newframe = frame.copy()`\n",
      "  df[f'genre_{genre}'] = df['genres'].str.contains(genre).astype(int)\n",
      "C:\\Users\\User\\AppData\\Local\\Temp\\ipykernel_14060\\2484843383.py:2: PerformanceWarning: DataFrame is highly fragmented.  This is usually the result of calling `frame.insert` many times, which has poor performance.  Consider joining all columns at once using pd.concat(axis=1) instead. To get a de-fragmented frame, use `newframe = frame.copy()`\n",
      "  df[f'genre_{genre}'] = df['genres'].str.contains(genre).astype(int)\n",
      "C:\\Users\\User\\AppData\\Local\\Temp\\ipykernel_14060\\2484843383.py:2: PerformanceWarning: DataFrame is highly fragmented.  This is usually the result of calling `frame.insert` many times, which has poor performance.  Consider joining all columns at once using pd.concat(axis=1) instead. To get a de-fragmented frame, use `newframe = frame.copy()`\n",
      "  df[f'genre_{genre}'] = df['genres'].str.contains(genre).astype(int)\n",
      "C:\\Users\\User\\AppData\\Local\\Temp\\ipykernel_14060\\2484843383.py:2: PerformanceWarning: DataFrame is highly fragmented.  This is usually the result of calling `frame.insert` many times, which has poor performance.  Consider joining all columns at once using pd.concat(axis=1) instead. To get a de-fragmented frame, use `newframe = frame.copy()`\n",
      "  df[f'genre_{genre}'] = df['genres'].str.contains(genre).astype(int)\n",
      "C:\\Users\\User\\AppData\\Local\\Temp\\ipykernel_14060\\2484843383.py:2: PerformanceWarning: DataFrame is highly fragmented.  This is usually the result of calling `frame.insert` many times, which has poor performance.  Consider joining all columns at once using pd.concat(axis=1) instead. To get a de-fragmented frame, use `newframe = frame.copy()`\n",
      "  df[f'genre_{genre}'] = df['genres'].str.contains(genre).astype(int)\n",
      "C:\\Users\\User\\AppData\\Local\\Temp\\ipykernel_14060\\2484843383.py:2: PerformanceWarning: DataFrame is highly fragmented.  This is usually the result of calling `frame.insert` many times, which has poor performance.  Consider joining all columns at once using pd.concat(axis=1) instead. To get a de-fragmented frame, use `newframe = frame.copy()`\n",
      "  df[f'genre_{genre}'] = df['genres'].str.contains(genre).astype(int)\n",
      "C:\\Users\\User\\AppData\\Local\\Temp\\ipykernel_14060\\2484843383.py:2: PerformanceWarning: DataFrame is highly fragmented.  This is usually the result of calling `frame.insert` many times, which has poor performance.  Consider joining all columns at once using pd.concat(axis=1) instead. To get a de-fragmented frame, use `newframe = frame.copy()`\n",
      "  df[f'genre_{genre}'] = df['genres'].str.contains(genre).astype(int)\n",
      "C:\\Users\\User\\AppData\\Local\\Temp\\ipykernel_14060\\2484843383.py:2: PerformanceWarning: DataFrame is highly fragmented.  This is usually the result of calling `frame.insert` many times, which has poor performance.  Consider joining all columns at once using pd.concat(axis=1) instead. To get a de-fragmented frame, use `newframe = frame.copy()`\n",
      "  df[f'genre_{genre}'] = df['genres'].str.contains(genre).astype(int)\n",
      "C:\\Users\\User\\AppData\\Local\\Temp\\ipykernel_14060\\2484843383.py:2: PerformanceWarning: DataFrame is highly fragmented.  This is usually the result of calling `frame.insert` many times, which has poor performance.  Consider joining all columns at once using pd.concat(axis=1) instead. To get a de-fragmented frame, use `newframe = frame.copy()`\n",
      "  df[f'genre_{genre}'] = df['genres'].str.contains(genre).astype(int)\n",
      "C:\\Users\\User\\AppData\\Local\\Temp\\ipykernel_14060\\2484843383.py:2: PerformanceWarning: DataFrame is highly fragmented.  This is usually the result of calling `frame.insert` many times, which has poor performance.  Consider joining all columns at once using pd.concat(axis=1) instead. To get a de-fragmented frame, use `newframe = frame.copy()`\n",
      "  df[f'genre_{genre}'] = df['genres'].str.contains(genre).astype(int)\n",
      "C:\\Users\\User\\AppData\\Local\\Temp\\ipykernel_14060\\2484843383.py:2: PerformanceWarning: DataFrame is highly fragmented.  This is usually the result of calling `frame.insert` many times, which has poor performance.  Consider joining all columns at once using pd.concat(axis=1) instead. To get a de-fragmented frame, use `newframe = frame.copy()`\n",
      "  df[f'genre_{genre}'] = df['genres'].str.contains(genre).astype(int)\n",
      "C:\\Users\\User\\AppData\\Local\\Temp\\ipykernel_14060\\2484843383.py:2: PerformanceWarning: DataFrame is highly fragmented.  This is usually the result of calling `frame.insert` many times, which has poor performance.  Consider joining all columns at once using pd.concat(axis=1) instead. To get a de-fragmented frame, use `newframe = frame.copy()`\n",
      "  df[f'genre_{genre}'] = df['genres'].str.contains(genre).astype(int)\n",
      "C:\\Users\\User\\AppData\\Local\\Temp\\ipykernel_14060\\2484843383.py:2: PerformanceWarning: DataFrame is highly fragmented.  This is usually the result of calling `frame.insert` many times, which has poor performance.  Consider joining all columns at once using pd.concat(axis=1) instead. To get a de-fragmented frame, use `newframe = frame.copy()`\n",
      "  df[f'genre_{genre}'] = df['genres'].str.contains(genre).astype(int)\n",
      "C:\\Users\\User\\AppData\\Local\\Temp\\ipykernel_14060\\2484843383.py:2: PerformanceWarning: DataFrame is highly fragmented.  This is usually the result of calling `frame.insert` many times, which has poor performance.  Consider joining all columns at once using pd.concat(axis=1) instead. To get a de-fragmented frame, use `newframe = frame.copy()`\n",
      "  df[f'genre_{genre}'] = df['genres'].str.contains(genre).astype(int)\n",
      "C:\\Users\\User\\AppData\\Local\\Temp\\ipykernel_14060\\2484843383.py:2: PerformanceWarning: DataFrame is highly fragmented.  This is usually the result of calling `frame.insert` many times, which has poor performance.  Consider joining all columns at once using pd.concat(axis=1) instead. To get a de-fragmented frame, use `newframe = frame.copy()`\n",
      "  df[f'genre_{genre}'] = df['genres'].str.contains(genre).astype(int)\n",
      "C:\\Users\\User\\AppData\\Local\\Temp\\ipykernel_14060\\2484843383.py:2: PerformanceWarning: DataFrame is highly fragmented.  This is usually the result of calling `frame.insert` many times, which has poor performance.  Consider joining all columns at once using pd.concat(axis=1) instead. To get a de-fragmented frame, use `newframe = frame.copy()`\n",
      "  df[f'genre_{genre}'] = df['genres'].str.contains(genre).astype(int)\n",
      "C:\\Users\\User\\AppData\\Local\\Temp\\ipykernel_14060\\2484843383.py:2: PerformanceWarning: DataFrame is highly fragmented.  This is usually the result of calling `frame.insert` many times, which has poor performance.  Consider joining all columns at once using pd.concat(axis=1) instead. To get a de-fragmented frame, use `newframe = frame.copy()`\n",
      "  df[f'genre_{genre}'] = df['genres'].str.contains(genre).astype(int)\n",
      "C:\\Users\\User\\AppData\\Local\\Temp\\ipykernel_14060\\2484843383.py:2: PerformanceWarning: DataFrame is highly fragmented.  This is usually the result of calling `frame.insert` many times, which has poor performance.  Consider joining all columns at once using pd.concat(axis=1) instead. To get a de-fragmented frame, use `newframe = frame.copy()`\n",
      "  df[f'genre_{genre}'] = df['genres'].str.contains(genre).astype(int)\n",
      "C:\\Users\\User\\AppData\\Local\\Temp\\ipykernel_14060\\2484843383.py:2: PerformanceWarning: DataFrame is highly fragmented.  This is usually the result of calling `frame.insert` many times, which has poor performance.  Consider joining all columns at once using pd.concat(axis=1) instead. To get a de-fragmented frame, use `newframe = frame.copy()`\n",
      "  df[f'genre_{genre}'] = df['genres'].str.contains(genre).astype(int)\n",
      "C:\\Users\\User\\AppData\\Local\\Temp\\ipykernel_14060\\2484843383.py:2: PerformanceWarning: DataFrame is highly fragmented.  This is usually the result of calling `frame.insert` many times, which has poor performance.  Consider joining all columns at once using pd.concat(axis=1) instead. To get a de-fragmented frame, use `newframe = frame.copy()`\n",
      "  df[f'genre_{genre}'] = df['genres'].str.contains(genre).astype(int)\n",
      "C:\\Users\\User\\AppData\\Local\\Temp\\ipykernel_14060\\2484843383.py:2: PerformanceWarning: DataFrame is highly fragmented.  This is usually the result of calling `frame.insert` many times, which has poor performance.  Consider joining all columns at once using pd.concat(axis=1) instead. To get a de-fragmented frame, use `newframe = frame.copy()`\n",
      "  df[f'genre_{genre}'] = df['genres'].str.contains(genre).astype(int)\n",
      "C:\\Users\\User\\AppData\\Local\\Temp\\ipykernel_14060\\2484843383.py:2: PerformanceWarning: DataFrame is highly fragmented.  This is usually the result of calling `frame.insert` many times, which has poor performance.  Consider joining all columns at once using pd.concat(axis=1) instead. To get a de-fragmented frame, use `newframe = frame.copy()`\n",
      "  df[f'genre_{genre}'] = df['genres'].str.contains(genre).astype(int)\n",
      "C:\\Users\\User\\AppData\\Local\\Temp\\ipykernel_14060\\2484843383.py:2: PerformanceWarning: DataFrame is highly fragmented.  This is usually the result of calling `frame.insert` many times, which has poor performance.  Consider joining all columns at once using pd.concat(axis=1) instead. To get a de-fragmented frame, use `newframe = frame.copy()`\n",
      "  df[f'genre_{genre}'] = df['genres'].str.contains(genre).astype(int)\n",
      "C:\\Users\\User\\AppData\\Local\\Temp\\ipykernel_14060\\2484843383.py:2: PerformanceWarning: DataFrame is highly fragmented.  This is usually the result of calling `frame.insert` many times, which has poor performance.  Consider joining all columns at once using pd.concat(axis=1) instead. To get a de-fragmented frame, use `newframe = frame.copy()`\n",
      "  df[f'genre_{genre}'] = df['genres'].str.contains(genre).astype(int)\n",
      "C:\\Users\\User\\AppData\\Local\\Temp\\ipykernel_14060\\2484843383.py:2: PerformanceWarning: DataFrame is highly fragmented.  This is usually the result of calling `frame.insert` many times, which has poor performance.  Consider joining all columns at once using pd.concat(axis=1) instead. To get a de-fragmented frame, use `newframe = frame.copy()`\n",
      "  df[f'genre_{genre}'] = df['genres'].str.contains(genre).astype(int)\n",
      "C:\\Users\\User\\AppData\\Local\\Temp\\ipykernel_14060\\2484843383.py:2: PerformanceWarning: DataFrame is highly fragmented.  This is usually the result of calling `frame.insert` many times, which has poor performance.  Consider joining all columns at once using pd.concat(axis=1) instead. To get a de-fragmented frame, use `newframe = frame.copy()`\n",
      "  df[f'genre_{genre}'] = df['genres'].str.contains(genre).astype(int)\n"
     ]
    }
   ],
   "source": [
    "for genre in sorted(all_genres):\n",
    "    df[f'genre_{genre}'] = df['genres'].str.contains(genre).astype(int)\n",
    "\n",
    "df.drop('genres', axis=1, inplace=True)"
   ]
  },
  {
   "cell_type": "code",
   "execution_count": 173,
   "id": "3bb1398e",
   "metadata": {},
   "outputs": [
    {
     "data": {
      "application/vnd.microsoft.datawrangler.viewer.v0+json": {
       "columns": [
        {
         "name": "index",
         "rawType": "object",
         "type": "string"
        },
        {
         "name": "0",
         "rawType": "object",
         "type": "unknown"
        }
       ],
       "ref": "6618427f-59dd-483c-b843-61d6bb16b56a",
       "rows": [
        [
         "followers",
         "int64"
        ],
        [
         "artist_popularity",
         "int64"
        ],
        [
         "album_name",
         "int64"
        ],
        [
         "duration_ms",
         "int64"
        ],
        [
         "explicit",
         "bool"
        ],
        [
         "track_popularity",
         "int64"
        ],
        [
         "danceability",
         "float64"
        ],
        [
         "energy",
         "float64"
        ],
        [
         "key",
         "int64"
        ],
        [
         "loudness",
         "float64"
        ],
        [
         "mode",
         "int64"
        ],
        [
         "speechiness",
         "float64"
        ],
        [
         "acousticness",
         "float64"
        ],
        [
         "instrumentalness",
         "float64"
        ],
        [
         "liveness",
         "float64"
        ],
        [
         "valence",
         "float64"
        ],
        [
         "tempo",
         "float64"
        ],
        [
         "artist_id",
         "int64"
        ],
        [
         "track_id",
         "int64"
        ],
        [
         "year",
         "int32"
        ],
        [
         "month",
         "int32"
        ],
        [
         "day",
         "int32"
        ],
        [
         "month_sin",
         "float64"
        ],
        [
         "month_cos",
         "float64"
        ],
        [
         "genre_UNKNOWN",
         "int64"
        ],
        [
         "genre_afrobeats",
         "int64"
        ],
        [
         "genre_album rock",
         "int64"
        ],
        [
         "genre_alt z",
         "int64"
        ],
        [
         "genre_alternative hip hop",
         "int64"
        ],
        [
         "genre_alternative metal",
         "int64"
        ],
        [
         "genre_alternative rock",
         "int64"
        ],
        [
         "genre_ambient",
         "int64"
        ],
        [
         "genre_ambient folk",
         "int64"
        ],
        [
         "genre_art pop",
         "int64"
        ],
        [
         "genre_atl hip hop",
         "int64"
        ],
        [
         "genre_atl trap",
         "int64"
        ],
        [
         "genre_australian rock",
         "int64"
        ],
        [
         "genre_bachata",
         "int64"
        ],
        [
         "genre_bachata dominicana",
         "int64"
        ],
        [
         "genre_banda",
         "int64"
        ],
        [
         "genre_baroque",
         "int64"
        ],
        [
         "genre_big room",
         "int64"
        ],
        [
         "genre_braindance",
         "int64"
        ],
        [
         "genre_british alternative rock",
         "int64"
        ],
        [
         "genre_british soul",
         "int64"
        ],
        [
         "genre_canadian contemporary r&b",
         "int64"
        ],
        [
         "genre_canadian pop",
         "int64"
        ],
        [
         "genre_canadian singer-songwriter",
         "int64"
        ],
        [
         "genre_candy pop",
         "int64"
        ],
        [
         "genre_chamber pop",
         "int64"
        ]
       ],
       "shape": {
        "columns": 1,
        "rows": 180
       }
      },
      "text/plain": [
       "followers                   int64\n",
       "artist_popularity           int64\n",
       "album_name                  int64\n",
       "duration_ms                 int64\n",
       "explicit                     bool\n",
       "                            ...  \n",
       "genre_uk pop                int64\n",
       "genre_urban contemporary    int64\n",
       "genre_urbano latino         int64\n",
       "genre_viral pop             int64\n",
       "genre_west coast rap        int64\n",
       "Length: 180, dtype: object"
      ]
     },
     "execution_count": 173,
     "metadata": {},
     "output_type": "execute_result"
    }
   ],
   "source": [
    "df.dtypes"
   ]
  },
  {
   "cell_type": "markdown",
   "id": "a70b9bc8",
   "metadata": {},
   "source": [
    "## Корреляция"
   ]
  },
  {
   "cell_type": "code",
   "execution_count": 174,
   "id": "01d94743",
   "metadata": {},
   "outputs": [
    {
     "data": {
      "image/png": "[encoded data removed]",
      "text/plain": [
       "<Figure size 640x480 with 2 Axes>"
      ]
     },
     "metadata": {},
     "output_type": "display_data"
    }
   ],
   "source": [
    "sns.heatmap(np.abs(df.corr()))\n",
    "plt.show()"
   ]
  },
  {
   "cell_type": "code",
   "execution_count": 175,
   "id": "dbc9ef6a",
   "metadata": {},
   "outputs": [],
   "source": [
    "target = 'track_popularity'"
   ]
  },
  {
   "cell_type": "code",
   "execution_count": 176,
   "id": "3e8021da",
   "metadata": {},
   "outputs": [
    {
     "name": "stdout",
     "output_type": "stream",
     "text": [
      "track_popularity <---> artist_popularity : 1.0\n",
      "genre_classic rock <---> genre_album rock : 1.0\n",
      "genre_drumless hip hop <---> genre_alternative hip hop : 0.9999999999999999\n",
      "genre_indie folk <---> genre_ambient folk : 1.0\n",
      "genre_gangster rap <---> genre_atl trap : 1.0\n",
      "genre_latin pop <---> genre_bachata : 1.0\n",
      "genre_tropical <---> genre_bachata dominicana : 1.0\n",
      "genre_musica mexicana <---> genre_banda : 1.0\n",
      "genre_early music <---> genre_baroque : 1.0\n",
      "genre_electronica <---> genre_braindance : 1.0\n",
      "genre_lilith <---> genre_canadian singer-songwriter : 1.0\n",
      "genre_dream pop <---> genre_chamber pop : 0.9999999999999999\n",
      "genre_sad sierreno <---> genre_corrido : 1.0\n",
      "genre_country rock <---> genre_country road : 1.0\n",
      "genre_small room <---> genre_countrygaze : 1.0\n",
      "genre_rap dominicano <---> genre_dembow : 1.0\n",
      "genre_tamil hip hop <---> genre_desi hip hop : 1.0\n",
      "genre_glam metal <---> genre_detroit rock : 0.9999999999999999\n",
      "genre_old school atlanta hip hop <---> genre_dirty south rap : 0.9999999999999999\n",
      "genre_dreamo <---> genre_dream pop : 0.9999999999999999\n",
      "genre_indie rock <---> genre_dreamo : 0.9999999999999999\n",
      "genre_instrumental hip hop <---> genre_drumless hip hop : 0.9999999999999999\n",
      "genre_progressive house <---> genre_dutch trance : 1.0\n",
      "genre_german baroque <---> genre_early music : 1.0\n",
      "genre_pop dance <---> genre_edm : 1.0\n",
      "genre_intelligent dance music <---> genre_electronica : 1.0\n",
      "genre_etherpop <---> genre_electropop : 1.0\n",
      "genre_indie poptimism <---> genre_etherpop : 1.0\n",
      "genre_swedish pop <---> genre_europop : 1.0\n",
      "genre_mellow gold <---> genre_folk rock : 1.0\n",
      "genre_funk rj <---> genre_funk pop : 0.9999999999999999\n",
      "genre_pagode baiano <---> genre_funk rj : 0.9999999999999999\n",
      "genre_permanent wave <---> genre_garage rock : 0.9999999999999999\n",
      "genre_glam rock <---> genre_glam metal : 0.9999999999999999\n",
      "genre_protopunk <---> genre_glam rock : 0.9999999999999999\n",
      "genre_noise pop <---> genre_indie rock : 0.9999999999999999\n",
      "genre_west coast rap <---> genre_instrumental hip hop : 0.9999999999999999\n",
      "genre_uk experimental electronic <---> genre_intelligent dance music : 1.0\n",
      "genre_soft rock <---> genre_mellow gold : 1.0\n",
      "genre_norteno <---> genre_musica mexicana : 1.0\n",
      "genre_shoegaze <---> genre_noise pop : 0.9999999999999999\n",
      "genre_sheffield indie <---> genre_permanent wave : 0.9999999999999999\n",
      "genre_slacker rock <---> genre_philly indie : 1.0\n",
      "genre_trance <---> genre_progressive house : 1.0\n",
      "genre_sierreno <---> genre_sad sierreno : 1.0\n",
      "genre_toronto indie <---> genre_shoegaze : 0.9999999999999999\n"
     ]
    }
   ],
   "source": [
    "cols = df.columns\n",
    "for i in range(len(cols)):\n",
    "    for col in df.columns:\n",
    "        if col != cols[i]:\n",
    "            val = df[cols[i]].corr(df[col])\n",
    "            if np.abs(val) > 0.95:\n",
    "                print(f'{col} <---> {cols[i]} : {val}')\n",
    "                df.drop(cols[i], axis=1, inplace=True)\n",
    "                break"
   ]
  },
  {
   "cell_type": "code",
   "execution_count": 177,
   "id": "0f15495c",
   "metadata": {},
   "outputs": [
    {
     "name": "stdout",
     "output_type": "stream",
     "text": [
      "key <---> track_popularity : 0.04266339808492677\n",
      "mode <---> track_popularity : -0.01702635581259377\n",
      "liveness <---> track_popularity : -0.0009396761322313616\n",
      "track_id <---> track_popularity : 0.0126095749646517\n",
      "year <---> track_popularity : -0.0017078403047898474\n",
      "genre_alternative metal <---> track_popularity : 0.028935210140523998\n",
      "genre_ambient <---> track_popularity : 0.022266620931441643\n",
      "genre_art pop <---> track_popularity : -0.019920876399024207\n",
      "genre_big room <---> track_popularity : -0.0034900336872394954\n",
      "genre_canadian contemporary r&b <---> track_popularity : 0.018401613084347266\n",
      "genre_classic rock <---> track_popularity : 0.026060596704821717\n",
      "genre_classical <---> track_popularity : -0.032487364965545905\n",
      "genre_classical era <---> track_popularity : -0.015277843487324697\n",
      "genre_conscious hip hop <---> track_popularity : 0.026821477227265238\n",
      "genre_contemporary country <---> track_popularity : 0.0294474715408827\n",
      "genre_country <---> track_popularity : 0.0407940178340664\n",
      "genre_country rock <---> track_popularity : 0.00029890517707360987\n",
      "genre_dutch house <---> track_popularity : 0.01718018508308771\n",
      "genre_escape room <---> track_popularity : 0.02735305677979571\n",
      "genre_gangster rap <---> track_popularity : 0.04955511041314379\n",
      "genre_gen z singer-songwriter <---> track_popularity : 0.021769558741514487\n",
      "genre_german baroque <---> track_popularity : -0.030433598944577082\n",
      "genre_girl group <---> track_popularity : -0.0004727393317881269\n",
      "genre_grunge <---> track_popularity : -0.00045918511107145886\n",
      "genre_hip pop <---> track_popularity : 0.014487366104547315\n",
      "genre_indie folk <---> track_popularity : 0.03145240250587013\n",
      "genre_indie pop <---> track_popularity : 0.03440941690612142\n",
      "genre_indie soul <---> track_popularity : 0.03313637533445378\n",
      "genre_japanese teen pop <---> track_popularity : 0.017138633462909565\n",
      "genre_k-pop boy group <---> track_popularity : 0.028926443262994785\n",
      "genre_k-pop girl group <---> track_popularity : 0.04997610362028968\n",
      "genre_lilith <---> track_popularity : 0.011665721770012896\n",
      "genre_metal <---> track_popularity : 0.016802105639093567\n",
      "genre_metalcore <---> track_popularity : 0.016717640255763683\n",
      "genre_modern country pop <---> track_popularity : 0.04113524627022583\n",
      "genre_modern rock <---> track_popularity : 0.03981159468343303\n",
      "genre_neo mellow <---> track_popularity : 0.008871849231557642\n",
      "genre_neon pop punk <---> track_popularity : 0.0022419037775843285\n",
      "genre_nigerian pop <---> track_popularity : 0.04534517834168479\n",
      "genre_norwegian pop <---> track_popularity : 0.0007198983842195084\n",
      "genre_nu metal <---> track_popularity : 0.008503323930013058\n",
      "genre_old school atlanta hip hop <---> track_popularity : 0.04071425306307987\n",
      "genre_pagode baiano <---> track_popularity : 0.04324021230595532\n",
      "genre_pop emo <---> track_popularity : -0.00012208803007229252\n",
      "genre_pop punk <---> track_popularity : -0.011363498155831884\n",
      "genre_pop rap <---> track_popularity : 0.017980619877201367\n",
      "genre_pop rock <---> track_popularity : -0.0007719414405148608\n",
      "genre_post-grunge <---> track_popularity : -0.02770013122591864\n",
      "genre_post-teen pop <---> track_popularity : -0.024408908029924806\n",
      "genre_progressive electro house <---> track_popularity : 0.023762631475075412\n",
      "genre_protopunk <---> track_popularity : -0.023276714423096763\n",
      "genre_punk <---> track_popularity : -0.020843729921885303\n",
      "genre_rock <---> track_popularity : 0.028551756928541137\n",
      "genre_screamo <---> track_popularity : -0.006755983615049017\n",
      "genre_slacker rock <---> track_popularity : 0.043661205513101306\n",
      "genre_small room <---> track_popularity : 0.022190551948660382\n",
      "genre_social media pop <---> track_popularity : -0.004523309364178777\n",
      "genre_soft rock <---> track_popularity : 0.020927572327222657\n",
      "genre_southern hip hop <---> track_popularity : 0.041714757998677916\n",
      "genre_tamil hip hop <---> track_popularity : 0.03355736854159968\n",
      "genre_toronto indie <---> track_popularity : -0.028749626115993507\n",
      "genre_trance <---> track_popularity : 0.02766346364155704\n",
      "genre_uk experimental electronic <---> track_popularity : -0.00012208803007229276\n",
      "genre_viral pop <---> track_popularity : 0.016296647048617764\n",
      "genre_west coast rap <---> track_popularity : 0.018401613084347283\n"
     ]
    }
   ],
   "source": [
    "cols = df.columns\n",
    "for col in cols:\n",
    "    if col != target:\n",
    "        val = df[target].corr(df[col])\n",
    "        if np.abs(val) < 0.05:\n",
    "            print(f'{col} <---> {target} : {val}')\n",
    "            df.drop(col, axis=1, inplace=True)"
   ]
  },
  {
   "cell_type": "code",
   "execution_count": 178,
   "id": "78307550",
   "metadata": {},
   "outputs": [
    {
     "data": {
      "image/png": "[encoded data removed]",
      "text/plain": [
       "<Figure size 640x480 with 2 Axes>"
      ]
     },
     "metadata": {},
     "output_type": "display_data"
    }
   ],
   "source": [
    "sns.heatmap(np.abs(df.corr()))\n",
    "plt.show()"
   ]
  },
  {
   "cell_type": "markdown",
   "id": "8f6cf3d5",
   "metadata": {},
   "source": [
    "## Скейлинг"
   ]
  },
  {
   "cell_type": "code",
   "execution_count": 179,
   "id": "23089c60",
   "metadata": {},
   "outputs": [],
   "source": [
    "df = (df - df.mean()) / df.std()"
   ]
  },
  {
   "cell_type": "code",
   "execution_count": 180,
   "id": "439647be",
   "metadata": {},
   "outputs": [
    {
     "data": {
      "application/vnd.microsoft.datawrangler.viewer.v0+json": {
       "columns": [
        {
         "name": "index",
         "rawType": "int64",
         "type": "integer"
        },
        {
         "name": "followers",
         "rawType": "float64",
         "type": "float"
        },
        {
         "name": "album_name",
         "rawType": "float64",
         "type": "float"
        },
        {
         "name": "duration_ms",
         "rawType": "float64",
         "type": "float"
        },
        {
         "name": "explicit",
         "rawType": "float64",
         "type": "float"
        },
        {
         "name": "track_popularity",
         "rawType": "float64",
         "type": "float"
        },
        {
         "name": "danceability",
         "rawType": "float64",
         "type": "float"
        },
        {
         "name": "energy",
         "rawType": "float64",
         "type": "float"
        },
        {
         "name": "loudness",
         "rawType": "float64",
         "type": "float"
        },
        {
         "name": "speechiness",
         "rawType": "float64",
         "type": "float"
        },
        {
         "name": "acousticness",
         "rawType": "float64",
         "type": "float"
        },
        {
         "name": "instrumentalness",
         "rawType": "float64",
         "type": "float"
        },
        {
         "name": "valence",
         "rawType": "float64",
         "type": "float"
        },
        {
         "name": "tempo",
         "rawType": "float64",
         "type": "float"
        },
        {
         "name": "artist_id",
         "rawType": "float64",
         "type": "float"
        },
        {
         "name": "month",
         "rawType": "float64",
         "type": "float"
        },
        {
         "name": "day",
         "rawType": "float64",
         "type": "float"
        },
        {
         "name": "month_sin",
         "rawType": "float64",
         "type": "float"
        },
        {
         "name": "month_cos",
         "rawType": "float64",
         "type": "float"
        },
        {
         "name": "genre_UNKNOWN",
         "rawType": "float64",
         "type": "float"
        },
        {
         "name": "genre_afrobeats",
         "rawType": "float64",
         "type": "float"
        },
        {
         "name": "genre_alt z",
         "rawType": "float64",
         "type": "float"
        },
        {
         "name": "genre_alternative rock",
         "rawType": "float64",
         "type": "float"
        },
        {
         "name": "genre_atl hip hop",
         "rawType": "float64",
         "type": "float"
        },
        {
         "name": "genre_australian rock",
         "rawType": "float64",
         "type": "float"
        },
        {
         "name": "genre_british alternative rock",
         "rawType": "float64",
         "type": "float"
        },
        {
         "name": "genre_british soul",
         "rawType": "float64",
         "type": "float"
        },
        {
         "name": "genre_canadian pop",
         "rawType": "float64",
         "type": "float"
        },
        {
         "name": "genre_candy pop",
         "rawType": "float64",
         "type": "float"
        },
        {
         "name": "genre_contemporary r&b",
         "rawType": "float64",
         "type": "float"
        },
        {
         "name": "genre_dance pop",
         "rawType": "float64",
         "type": "float"
        },
        {
         "name": "genre_east coast hip hop",
         "rawType": "float64",
         "type": "float"
        },
        {
         "name": "genre_electro house",
         "rawType": "float64",
         "type": "float"
        },
        {
         "name": "genre_filmi",
         "rawType": "float64",
         "type": "float"
        },
        {
         "name": "genre_hard rock",
         "rawType": "float64",
         "type": "float"
        },
        {
         "name": "genre_hip hop",
         "rawType": "float64",
         "type": "float"
        },
        {
         "name": "genre_indie poptimism",
         "rawType": "float64",
         "type": "float"
        },
        {
         "name": "genre_k-pop",
         "rawType": "float64",
         "type": "float"
        },
        {
         "name": "genre_k-rap",
         "rawType": "float64",
         "type": "float"
        },
        {
         "name": "genre_latin hip hop",
         "rawType": "float64",
         "type": "float"
        },
        {
         "name": "genre_latin pop",
         "rawType": "float64",
         "type": "float"
        },
        {
         "name": "genre_melodic rap",
         "rawType": "float64",
         "type": "float"
        },
        {
         "name": "genre_modern bollywood",
         "rawType": "float64",
         "type": "float"
        },
        {
         "name": "genre_neo soul",
         "rawType": "float64",
         "type": "float"
        },
        {
         "name": "genre_norteno",
         "rawType": "float64",
         "type": "float"
        },
        {
         "name": "genre_pop",
         "rawType": "float64",
         "type": "float"
        },
        {
         "name": "genre_pop dance",
         "rawType": "float64",
         "type": "float"
        },
        {
         "name": "genre_pop nacional",
         "rawType": "float64",
         "type": "float"
        },
        {
         "name": "genre_pop soul",
         "rawType": "float64",
         "type": "float"
        },
        {
         "name": "genre_pov: indie",
         "rawType": "float64",
         "type": "float"
        },
        {
         "name": "genre_puerto rican pop",
         "rawType": "float64",
         "type": "float"
        },
        {
         "name": "genre_r&b",
         "rawType": "float64",
         "type": "float"
        },
        {
         "name": "genre_rap",
         "rawType": "float64",
         "type": "float"
        },
        {
         "name": "genre_rap dominicano",
         "rawType": "float64",
         "type": "float"
        },
        {
         "name": "genre_reggaeton",
         "rawType": "float64",
         "type": "float"
        },
        {
         "name": "genre_reggaeton flow",
         "rawType": "float64",
         "type": "float"
        },
        {
         "name": "genre_sheffield indie",
         "rawType": "float64",
         "type": "float"
        },
        {
         "name": "genre_sierreno",
         "rawType": "float64",
         "type": "float"
        },
        {
         "name": "genre_singer-songwriter",
         "rawType": "float64",
         "type": "float"
        },
        {
         "name": "genre_singer-songwriter pop",
         "rawType": "float64",
         "type": "float"
        },
        {
         "name": "genre_slap house",
         "rawType": "float64",
         "type": "float"
        },
        {
         "name": "genre_south carolina hip hop",
         "rawType": "float64",
         "type": "float"
        },
        {
         "name": "genre_swedish pop",
         "rawType": "float64",
         "type": "float"
        },
        {
         "name": "genre_trap",
         "rawType": "float64",
         "type": "float"
        },
        {
         "name": "genre_trap boricua",
         "rawType": "float64",
         "type": "float"
        },
        {
         "name": "genre_trap latino",
         "rawType": "float64",
         "type": "float"
        },
        {
         "name": "genre_tropical",
         "rawType": "float64",
         "type": "float"
        },
        {
         "name": "genre_uk pop",
         "rawType": "float64",
         "type": "float"
        },
        {
         "name": "genre_urban contemporary",
         "rawType": "float64",
         "type": "float"
        },
        {
         "name": "genre_urbano latino",
         "rawType": "float64",
         "type": "float"
        }
       ],
       "ref": "98a99862-2513-4c5e-b7b5-96f8c8d512d1",
       "rows": [
        [
         "0",
         "3.811323686466239",
         "1.5461437619388134",
         "0.24762219554670703",
         "-0.5339116936892258",
         "1.2380592837007423",
         "0.20072224691079696",
         "-0.0701565583686839",
         "-0.2619912287905629",
         "-0.5384921214338402",
         "-0.7073138866790571",
         "-0.33117072335319664",
         "-0.951673377179721",
         "-0.22462126060021084",
         "0.37792288960831233",
         "-0.7394516111712213",
         "-0.5526508663277445",
         "1.4023236551971772",
         "-0.12789468803152587",
         "-0.44107639598687914",
         "-0.14278569641963731",
         "-0.175775160977013",
         "-0.1427856964196373",
         "-0.20402205763103162",
         "-0.10045351706590014",
         "-0.10045351706590014",
         "-0.1427856964196373",
         "-0.17577516097701304",
         "-0.10045351706590014",
         "-0.175775160977013",
         "-0.36908978951912597",
         "-0.10045351706590015",
         "-0.20402205763103162",
         "-0.1427856964196373",
         "-0.20402205763103162",
         "-0.3863623455630292",
         "-0.10045351706590014",
         "-0.14278569641963726",
         "-0.10045351706590014",
         "-0.175775160977013",
         "-0.1427856964196373",
         "-0.17577516097701304",
         "-0.10045351706590014",
         "-0.175775160977013",
         "-0.1427856964196373",
         "1.089493287557287",
         "-0.20402205763103165",
         "-0.1427856964196373",
         "-0.10045351706590015",
         "-0.175775160977013",
         "-0.10045351706590014",
         "-0.25251922193529835",
         "-0.4032715052873737",
         "-0.10045351706590014",
         "-0.17577516097701304",
         "-0.10045351706590014",
         "-0.10045351706590015",
         "-0.10045351706590014",
         "-0.17577516097701304",
         "-0.14278569641963731",
         "-0.10045351706590014",
         "-0.10045351706590015",
         "-0.10045351706590014",
         "-0.31432816896071814",
         "-0.1427856964196373",
         "-0.20402205763103162",
         "-0.10045351706590014",
         "-0.14278569641963731",
         "-0.20402205763103162",
         "-0.27421442045796357"
        ],
        [
         "1",
         "3.811323686466239",
         "1.5461437619388134",
         "-0.5894338485046825",
         "1.8710959355415206",
         "1.0705899003588544",
         "1.0976044940546623",
         "-0.14723981849205414",
         "0.2916243981510429",
         "-0.5307522425591484",
         "-0.37674447253376264",
         "-0.33130555161716374",
         "-0.29902236585458114",
         "-0.8606880462263344",
         "0.37792288960831233",
         "-0.7394516111712213",
         "-0.5526508663277445",
         "1.4023236551971772",
         "-0.12789468803152587",
         "-0.44107639598687914",
         "-0.14278569641963731",
         "-0.175775160977013",
         "-0.1427856964196373",
         "-0.20402205763103162",
         "-0.10045351706590014",
         "-0.10045351706590014",
         "-0.1427856964196373",
         "-0.17577516097701304",
         "-0.10045351706590014",
         "-0.175775160977013",
         "-0.36908978951912597",
         "-0.10045351706590015",
         "-0.20402205763103162",
         "-0.1427856964196373",
         "-0.20402205763103162",
         "-0.3863623455630292",
         "-0.10045351706590014",
         "-0.14278569641963726",
         "-0.10045351706590014",
         "-0.175775160977013",
         "-0.1427856964196373",
         "-0.17577516097701304",
         "-0.10045351706590014",
         "-0.175775160977013",
         "-0.1427856964196373",
         "1.089493287557287",
         "-0.20402205763103165",
         "-0.1427856964196373",
         "-0.10045351706590015",
         "-0.175775160977013",
         "-0.10045351706590014",
         "-0.25251922193529835",
         "-0.4032715052873737",
         "-0.10045351706590014",
         "-0.17577516097701304",
         "-0.10045351706590014",
         "-0.10045351706590015",
         "-0.10045351706590014",
         "-0.17577516097701304",
         "-0.14278569641963731",
         "-0.10045351706590014",
         "-0.10045351706590015",
         "-0.10045351706590014",
         "-0.31432816896071814",
         "-0.1427856964196373",
         "-0.20402205763103162",
         "-0.10045351706590014",
         "-0.14278569641963731",
         "-0.20402205763103162",
         "-0.27421442045796357"
        ],
        [
         "2",
         "3.811323686466239",
         "1.5461437619388134",
         "-1.8258265023717886",
         "1.8710959355415206",
         "0.9868552086879103",
         "-0.6303886354425182",
         "-1.4383844255585048",
         "-0.5178152241434181",
         "-0.5506547882369273",
         "1.3989844222990762",
         "-0.33130555161716374",
         "-0.5652352783687828",
         "-1.3337814321728665",
         "0.37792288960831233",
         "-0.7394516111712213",
         "-0.5526508663277445",
         "1.4023236551971772",
         "-0.12789468803152587",
         "-0.44107639598687914",
         "-0.14278569641963731",
         "-0.175775160977013",
         "-0.1427856964196373",
         "-0.20402205763103162",
         "-0.10045351706590014",
         "-0.10045351706590014",
         "-0.1427856964196373",
         "-0.17577516097701304",
         "-0.10045351706590014",
         "-0.175775160977013",
         "-0.36908978951912597",
         "-0.10045351706590015",
         "-0.20402205763103162",
         "-0.1427856964196373",
         "-0.20402205763103162",
         "-0.3863623455630292",
         "-0.10045351706590014",
         "-0.14278569641963726",
         "-0.10045351706590014",
         "-0.175775160977013",
         "-0.1427856964196373",
         "-0.17577516097701304",
         "-0.10045351706590014",
         "-0.175775160977013",
         "-0.1427856964196373",
         "1.089493287557287",
         "-0.20402205763103165",
         "-0.1427856964196373",
         "-0.10045351706590015",
         "-0.175775160977013",
         "-0.10045351706590014",
         "-0.25251922193529835",
         "-0.4032715052873737",
         "-0.10045351706590014",
         "-0.17577516097701304",
         "-0.10045351706590014",
         "-0.10045351706590015",
         "-0.10045351706590014",
         "-0.17577516097701304",
         "-0.14278569641963731",
         "-0.10045351706590014",
         "-0.10045351706590015",
         "-0.10045351706590014",
         "-0.31432816896071814",
         "-0.1427856964196373",
         "-0.20402205763103162",
         "-0.10045351706590014",
         "-0.14278569641963731",
         "-0.20402205763103162",
         "-0.27421442045796357"
        ]
       ],
       "shape": {
        "columns": 69,
        "rows": 3
       }
      },
      "text/html": [
       "<div>\n",
       "<style scoped>\n",
       "    .dataframe tbody tr th:only-of-type {\n",
       "        vertical-align: middle;\n",
       "    }\n",
       "\n",
       "    .dataframe tbody tr th {\n",
       "        vertical-align: top;\n",
       "    }\n",
       "\n",
       "    .dataframe thead th {\n",
       "        text-align: right;\n",
       "    }\n",
       "</style>\n",
       "<table border=\"1\" class=\"dataframe\">\n",
       "  <thead>\n",
       "    <tr style=\"text-align: right;\">\n",
       "      <th></th>\n",
       "      <th>followers</th>\n",
       "      <th>album_name</th>\n",
       "      <th>duration_ms</th>\n",
       "      <th>explicit</th>\n",
       "      <th>track_popularity</th>\n",
       "      <th>danceability</th>\n",
       "      <th>energy</th>\n",
       "      <th>loudness</th>\n",
       "      <th>speechiness</th>\n",
       "      <th>acousticness</th>\n",
       "      <th>...</th>\n",
       "      <th>genre_slap house</th>\n",
       "      <th>genre_south carolina hip hop</th>\n",
       "      <th>genre_swedish pop</th>\n",
       "      <th>genre_trap</th>\n",
       "      <th>genre_trap boricua</th>\n",
       "      <th>genre_trap latino</th>\n",
       "      <th>genre_tropical</th>\n",
       "      <th>genre_uk pop</th>\n",
       "      <th>genre_urban contemporary</th>\n",
       "      <th>genre_urbano latino</th>\n",
       "    </tr>\n",
       "  </thead>\n",
       "  <tbody>\n",
       "    <tr>\n",
       "      <th>0</th>\n",
       "      <td>3.811324</td>\n",
       "      <td>1.546144</td>\n",
       "      <td>0.247622</td>\n",
       "      <td>-0.533912</td>\n",
       "      <td>1.238059</td>\n",
       "      <td>0.200722</td>\n",
       "      <td>-0.070157</td>\n",
       "      <td>-0.261991</td>\n",
       "      <td>-0.538492</td>\n",
       "      <td>-0.707314</td>\n",
       "      <td>...</td>\n",
       "      <td>-0.100454</td>\n",
       "      <td>-0.100454</td>\n",
       "      <td>-0.100454</td>\n",
       "      <td>-0.314328</td>\n",
       "      <td>-0.142786</td>\n",
       "      <td>-0.204022</td>\n",
       "      <td>-0.100454</td>\n",
       "      <td>-0.142786</td>\n",
       "      <td>-0.204022</td>\n",
       "      <td>-0.274214</td>\n",
       "    </tr>\n",
       "    <tr>\n",
       "      <th>1</th>\n",
       "      <td>3.811324</td>\n",
       "      <td>1.546144</td>\n",
       "      <td>-0.589434</td>\n",
       "      <td>1.871096</td>\n",
       "      <td>1.070590</td>\n",
       "      <td>1.097604</td>\n",
       "      <td>-0.147240</td>\n",
       "      <td>0.291624</td>\n",
       "      <td>-0.530752</td>\n",
       "      <td>-0.376744</td>\n",
       "      <td>...</td>\n",
       "      <td>-0.100454</td>\n",
       "      <td>-0.100454</td>\n",
       "      <td>-0.100454</td>\n",
       "      <td>-0.314328</td>\n",
       "      <td>-0.142786</td>\n",
       "      <td>-0.204022</td>\n",
       "      <td>-0.100454</td>\n",
       "      <td>-0.142786</td>\n",
       "      <td>-0.204022</td>\n",
       "      <td>-0.274214</td>\n",
       "    </tr>\n",
       "    <tr>\n",
       "      <th>2</th>\n",
       "      <td>3.811324</td>\n",
       "      <td>1.546144</td>\n",
       "      <td>-1.825827</td>\n",
       "      <td>1.871096</td>\n",
       "      <td>0.986855</td>\n",
       "      <td>-0.630389</td>\n",
       "      <td>-1.438384</td>\n",
       "      <td>-0.517815</td>\n",
       "      <td>-0.550655</td>\n",
       "      <td>1.398984</td>\n",
       "      <td>...</td>\n",
       "      <td>-0.100454</td>\n",
       "      <td>-0.100454</td>\n",
       "      <td>-0.100454</td>\n",
       "      <td>-0.314328</td>\n",
       "      <td>-0.142786</td>\n",
       "      <td>-0.204022</td>\n",
       "      <td>-0.100454</td>\n",
       "      <td>-0.142786</td>\n",
       "      <td>-0.204022</td>\n",
       "      <td>-0.274214</td>\n",
       "    </tr>\n",
       "  </tbody>\n",
       "</table>\n",
       "<p>3 rows × 69 columns</p>\n",
       "</div>"
      ],
      "text/plain": [
       "   followers  album_name  duration_ms  explicit  track_popularity  \\\n",
       "0   3.811324    1.546144     0.247622 -0.533912          1.238059   \n",
       "1   3.811324    1.546144    -0.589434  1.871096          1.070590   \n",
       "2   3.811324    1.546144    -1.825827  1.871096          0.986855   \n",
       "\n",
       "   danceability    energy  loudness  speechiness  acousticness  ...  \\\n",
       "0      0.200722 -0.070157 -0.261991    -0.538492     -0.707314  ...   \n",
       "1      1.097604 -0.147240  0.291624    -0.530752     -0.376744  ...   \n",
       "2     -0.630389 -1.438384 -0.517815    -0.550655      1.398984  ...   \n",
       "\n",
       "   genre_slap house  genre_south carolina hip hop  genre_swedish pop  \\\n",
       "0         -0.100454                     -0.100454          -0.100454   \n",
       "1         -0.100454                     -0.100454          -0.100454   \n",
       "2         -0.100454                     -0.100454          -0.100454   \n",
       "\n",
       "   genre_trap  genre_trap boricua  genre_trap latino  genre_tropical  \\\n",
       "0   -0.314328           -0.142786          -0.204022       -0.100454   \n",
       "1   -0.314328           -0.142786          -0.204022       -0.100454   \n",
       "2   -0.314328           -0.142786          -0.204022       -0.100454   \n",
       "\n",
       "   genre_uk pop  genre_urban contemporary  genre_urbano latino  \n",
       "0     -0.142786                 -0.204022            -0.274214  \n",
       "1     -0.142786                 -0.204022            -0.274214  \n",
       "2     -0.142786                 -0.204022            -0.274214  \n",
       "\n",
       "[3 rows x 69 columns]"
      ]
     },
     "execution_count": 180,
     "metadata": {},
     "output_type": "execute_result"
    }
   ],
   "source": [
    "df.head(3)"
   ]
  },
  {
   "cell_type": "markdown",
   "id": "c0ca939a",
   "metadata": {},
   "source": [
    "## Разбиение данных"
   ]
  },
  {
   "cell_type": "code",
   "execution_count": 181,
   "id": "6cbc4d13",
   "metadata": {},
   "outputs": [],
   "source": [
    "from sklearn.model_selection import train_test_split\n",
    "\n",
    "x = df.drop(columns=[target])\n",
    "y = df[target]\n",
    "\n",
    "x_train, x_test, y_train, y_test = train_test_split(x, y, test_size=0.2, random_state=42)"
   ]
  },
  {
   "cell_type": "markdown",
   "id": "00228437",
   "metadata": {},
   "source": [
    "# Модель"
   ]
  },
  {
   "cell_type": "code",
   "execution_count": null,
   "id": "e75d77b9",
   "metadata": {},
   "outputs": [],
   "source": [
    "from xgboost import XGBRegressor\n",
    "from sklearn.metrics import root_mean_squared_error, r2_score"
   ]
  },
  {
   "cell_type": "code",
   "execution_count": 185,
   "id": "d9973a57",
   "metadata": {},
   "outputs": [
    {
     "name": "stdout",
     "output_type": "stream",
     "text": [
      "RMSE: 0.29630103140253483\n",
      "R^2: 0.8947686817407049\n"
     ]
    }
   ],
   "source": [
    "model = XGBRegressor(n_estimators=100, learning_rate=0.1, random_state=42)\n",
    "model.fit(x_train, y_train)\n",
    "\n",
    "y_pred = model.predict(x_test)\n",
    "\n",
    "print(\"RMSE:\", root_mean_squared_error(y_test, y_pred))\n",
    "print(\"R^2:\", r2_score(y_test, y_pred))"
   ]
  }
 ],
 "metadata": {
  "kernelspec": {
   "display_name": "Python 3",
   "language": "python",
   "name": "python3"
  },
  "language_info": {
   "codemirror_mode": {
    "name": "ipython",
    "version": 3
   },
   "file_extension": ".py",
   "mimetype": "text/x-python",
   "name": "python",
   "nbconvert_exporter": "python",
   "pygments_lexer": "ipython3",
   "version": "3.12.7"
  }
 },
 "nbformat": 4,
 "nbformat_minor": 5
}
