{
 "cells": [
  {
   "cell_type": "code",
   "execution_count": 468,
   "metadata": {},
   "outputs": [],
   "source": [
    "import numpy as np\n",
    "import pandas as pd"
   ]
  },
  {
   "cell_type": "code",
   "execution_count": 469,
   "metadata": {},
   "outputs": [
    {
     "data": {
      "text/html": [
       "<div>\n",
       "<style scoped>\n",
       "    .dataframe tbody tr th:only-of-type {\n",
       "        vertical-align: middle;\n",
       "    }\n",
       "\n",
       "    .dataframe tbody tr th {\n",
       "        vertical-align: top;\n",
       "    }\n",
       "\n",
       "    .dataframe thead th {\n",
       "        text-align: right;\n",
       "    }\n",
       "</style>\n",
       "<table border=\"1\" class=\"dataframe\">\n",
       "  <thead>\n",
       "    <tr style=\"text-align: right;\">\n",
       "      <th></th>\n",
       "      <th>Unnamed: 0</th>\n",
       "      <th>x1</th>\n",
       "      <th>x2</th>\n",
       "      <th>x3</th>\n",
       "      <th>x4</th>\n",
       "      <th>x5</th>\n",
       "      <th>Округ</th>\n",
       "    </tr>\n",
       "  </thead>\n",
       "  <tbody>\n",
       "    <tr>\n",
       "      <th>0</th>\n",
       "      <td>Белгородская область</td>\n",
       "      <td>7 777</td>\n",
       "      <td>14 918</td>\n",
       "      <td>2 825</td>\n",
       "      <td>2 009</td>\n",
       "      <td>1 841</td>\n",
       "      <td>сenter</td>\n",
       "    </tr>\n",
       "    <tr>\n",
       "      <th>1</th>\n",
       "      <td>Брянская область</td>\n",
       "      <td>4 560</td>\n",
       "      <td>10 211</td>\n",
       "      <td>1 538</td>\n",
       "      <td>1 418</td>\n",
       "      <td>837</td>\n",
       "      <td>NaN</td>\n",
       "    </tr>\n",
       "    <tr>\n",
       "      <th>2</th>\n",
       "      <td>Владимирская область</td>\n",
       "      <td>5 802</td>\n",
       "      <td>8 902</td>\n",
       "      <td>1 703</td>\n",
       "      <td>1 468</td>\n",
       "      <td>NaN</td>\n",
       "      <td>сenter</td>\n",
       "    </tr>\n",
       "    <tr>\n",
       "      <th>3</th>\n",
       "      <td>Воронежская область</td>\n",
       "      <td>NaN</td>\n",
       "      <td>17 186</td>\n",
       "      <td>3 362</td>\n",
       "      <td>2 458</td>\n",
       "      <td>4 347</td>\n",
       "      <td>сenter</td>\n",
       "    </tr>\n",
       "    <tr>\n",
       "      <th>4</th>\n",
       "      <td>Ивановская область</td>\n",
       "      <td>4 495</td>\n",
       "      <td>5 649</td>\n",
       "      <td>1 338</td>\n",
       "      <td>977</td>\n",
       "      <td>1 288</td>\n",
       "      <td>сenter</td>\n",
       "    </tr>\n",
       "  </tbody>\n",
       "</table>\n",
       "</div>"
      ],
      "text/plain": [
       "             Unnamed: 0     x1      x2     x3     x4     x5   Округ\n",
       "0  Белгородская область  7 777  14 918  2 825  2 009  1 841  сenter\n",
       "1      Брянская область  4 560  10 211  1 538  1 418    837     NaN\n",
       "2  Владимирская область  5 802   8 902  1 703  1 468    NaN  сenter\n",
       "3   Воронежская область    NaN  17 186  3 362  2 458  4 347  сenter\n",
       "4    Ивановская область  4 495   5 649  1 338    977  1 288  сenter"
      ]
     },
     "execution_count": 469,
     "metadata": {},
     "output_type": "execute_result"
    }
   ],
   "source": [
    "df = pd.read_excel('data.xlsx')\n",
    "df.head()"
   ]
  },
  {
   "cell_type": "code",
   "execution_count": 470,
   "metadata": {},
   "outputs": [
    {
     "name": "stdout",
     "output_type": "stream",
     "text": [
      "<class 'pandas.core.frame.DataFrame'>\n",
      "RangeIndex: 85 entries, 0 to 84\n",
      "Data columns (total 7 columns):\n",
      " #   Column      Non-Null Count  Dtype \n",
      "---  ------      --------------  ----- \n",
      " 0   Unnamed: 0  85 non-null     object\n",
      " 1   x1          83 non-null     object\n",
      " 2   x2          84 non-null     object\n",
      " 3   x3          84 non-null     object\n",
      " 4   x4          84 non-null     object\n",
      " 5   x5          83 non-null     object\n",
      " 6   Округ       84 non-null     object\n",
      "dtypes: object(7)\n",
      "memory usage: 4.8+ KB\n"
     ]
    }
   ],
   "source": [
    "df.info()"
   ]
  },
  {
   "cell_type": "code",
   "execution_count": 471,
   "metadata": {},
   "outputs": [],
   "source": [
    "def clean_data(x):\n",
    "    try:\n",
    "        x = int(x)\n",
    "    except:\n",
    "        return -1\n",
    "    return x"
   ]
  },
  {
   "cell_type": "code",
   "execution_count": 472,
   "metadata": {},
   "outputs": [
    {
     "name": "stderr",
     "output_type": "stream",
     "text": [
      "C:\\Users\\User\\AppData\\Local\\Temp\\ipykernel_16644\\1715681380.py:1: FutureWarning: DataFrame.applymap has been deprecated. Use DataFrame.map instead.\n",
      "  df[['x1', 'x2', 'x3', 'x4', 'x5']] = df[['x1', 'x2', 'x3', 'x4', 'x5']].applymap(lambda x: str(x).replace('\\xa0', ''))\n",
      "C:\\Users\\User\\AppData\\Local\\Temp\\ipykernel_16644\\1715681380.py:4: FutureWarning: DataFrame.applymap has been deprecated. Use DataFrame.map instead.\n",
      "  df[['x1', 'x2', 'x3', 'x4', 'x5']] = df[['x1', 'x2', 'x3', 'x4', 'x5']].applymap(clean_data)\n"
     ]
    },
    {
     "data": {
      "text/html": [
       "<div>\n",
       "<style scoped>\n",
       "    .dataframe tbody tr th:only-of-type {\n",
       "        vertical-align: middle;\n",
       "    }\n",
       "\n",
       "    .dataframe tbody tr th {\n",
       "        vertical-align: top;\n",
       "    }\n",
       "\n",
       "    .dataframe thead th {\n",
       "        text-align: right;\n",
       "    }\n",
       "</style>\n",
       "<table border=\"1\" class=\"dataframe\">\n",
       "  <thead>\n",
       "    <tr style=\"text-align: right;\">\n",
       "      <th></th>\n",
       "      <th>Unnamed: 0</th>\n",
       "      <th>x1</th>\n",
       "      <th>x2</th>\n",
       "      <th>x3</th>\n",
       "      <th>x4</th>\n",
       "      <th>x5</th>\n",
       "      <th>Округ</th>\n",
       "    </tr>\n",
       "  </thead>\n",
       "  <tbody>\n",
       "    <tr>\n",
       "      <th>0</th>\n",
       "      <td>Белгородская область</td>\n",
       "      <td>7777</td>\n",
       "      <td>14918</td>\n",
       "      <td>2825</td>\n",
       "      <td>2009</td>\n",
       "      <td>1841</td>\n",
       "      <td>сenter</td>\n",
       "    </tr>\n",
       "    <tr>\n",
       "      <th>1</th>\n",
       "      <td>Брянская область</td>\n",
       "      <td>4560</td>\n",
       "      <td>10211</td>\n",
       "      <td>1538</td>\n",
       "      <td>1418</td>\n",
       "      <td>837</td>\n",
       "      <td>NaN</td>\n",
       "    </tr>\n",
       "    <tr>\n",
       "      <th>2</th>\n",
       "      <td>Владимирская область</td>\n",
       "      <td>5802</td>\n",
       "      <td>8902</td>\n",
       "      <td>1703</td>\n",
       "      <td>1468</td>\n",
       "      <td>None</td>\n",
       "      <td>сenter</td>\n",
       "    </tr>\n",
       "    <tr>\n",
       "      <th>3</th>\n",
       "      <td>Воронежская область</td>\n",
       "      <td>None</td>\n",
       "      <td>17186</td>\n",
       "      <td>3362</td>\n",
       "      <td>2458</td>\n",
       "      <td>4347</td>\n",
       "      <td>сenter</td>\n",
       "    </tr>\n",
       "    <tr>\n",
       "      <th>4</th>\n",
       "      <td>Ивановская область</td>\n",
       "      <td>4495</td>\n",
       "      <td>5649</td>\n",
       "      <td>1338</td>\n",
       "      <td>977</td>\n",
       "      <td>1288</td>\n",
       "      <td>сenter</td>\n",
       "    </tr>\n",
       "  </tbody>\n",
       "</table>\n",
       "</div>"
      ],
      "text/plain": [
       "             Unnamed: 0    x1     x2    x3    x4    x5   Округ\n",
       "0  Белгородская область  7777  14918  2825  2009  1841  сenter\n",
       "1      Брянская область  4560  10211  1538  1418   837     NaN\n",
       "2  Владимирская область  5802   8902  1703  1468  None  сenter\n",
       "3   Воронежская область  None  17186  3362  2458  4347  сenter\n",
       "4    Ивановская область  4495   5649  1338   977  1288  сenter"
      ]
     },
     "execution_count": 472,
     "metadata": {},
     "output_type": "execute_result"
    }
   ],
   "source": [
    "df[['x1', 'x2', 'x3', 'x4', 'x5']] = df[['x1', 'x2', 'x3', 'x4', 'x5']].applymap(lambda x: str(x).replace('\\xa0', ''))\n",
    "df.replace('nan', -1, inplace=True)\n",
    "df[['x1', 'x2', 'x3', 'x4', 'x5']] = df[['x1', 'x2', 'x3', 'x4', 'x5']].astype('int64', errors='ignore')\n",
    "df[['x1', 'x2', 'x3', 'x4', 'x5']] = df[['x1', 'x2', 'x3', 'x4', 'x5']].applymap(clean_data)\n",
    "df.replace(-1, None, inplace=True)\n",
    "df.head()"
   ]
  },
  {
   "cell_type": "code",
   "execution_count": 473,
   "metadata": {},
   "outputs": [
    {
     "name": "stdout",
     "output_type": "stream",
     "text": [
      "<class 'pandas.core.frame.DataFrame'>\n",
      "RangeIndex: 85 entries, 0 to 84\n",
      "Data columns (total 7 columns):\n",
      " #   Column      Non-Null Count  Dtype \n",
      "---  ------      --------------  ----- \n",
      " 0   Unnamed: 0  85 non-null     object\n",
      " 1   x1          83 non-null     object\n",
      " 2   x2          84 non-null     object\n",
      " 3   x3          84 non-null     object\n",
      " 4   x4          83 non-null     object\n",
      " 5   x5          83 non-null     object\n",
      " 6   Округ       84 non-null     object\n",
      "dtypes: object(7)\n",
      "memory usage: 4.8+ KB\n"
     ]
    }
   ],
   "source": [
    "df.info()"
   ]
  },
  {
   "cell_type": "code",
   "execution_count": 474,
   "metadata": {},
   "outputs": [
    {
     "name": "stderr",
     "output_type": "stream",
     "text": [
      "C:\\Users\\User\\AppData\\Local\\Temp\\ipykernel_16644\\3676347755.py:2: FutureWarning: A value is trying to be set on a copy of a DataFrame or Series through chained assignment using an inplace method.\n",
      "The behavior will change in pandas 3.0. This inplace method will never work because the intermediate object on which we are setting values always behaves as a copy.\n",
      "\n",
      "For example, when doing 'df[col].method(value, inplace=True)', try using 'df.method({col: value}, inplace=True)' or df[col] = df[col].method(value) instead, to perform the operation inplace on the original object.\n",
      "\n",
      "\n",
      "  df[name].fillna(df[name].mean(), inplace=True)\n",
      "C:\\Users\\User\\AppData\\Local\\Temp\\ipykernel_16644\\3676347755.py:2: FutureWarning: Downcasting object dtype arrays on .fillna, .ffill, .bfill is deprecated and will change in a future version. Call result.infer_objects(copy=False) instead. To opt-in to the future behavior, set `pd.set_option('future.no_silent_downcasting', True)`\n",
      "  df[name].fillna(df[name].mean(), inplace=True)\n"
     ]
    },
    {
     "data": {
      "text/html": [
       "<div>\n",
       "<style scoped>\n",
       "    .dataframe tbody tr th:only-of-type {\n",
       "        vertical-align: middle;\n",
       "    }\n",
       "\n",
       "    .dataframe tbody tr th {\n",
       "        vertical-align: top;\n",
       "    }\n",
       "\n",
       "    .dataframe thead th {\n",
       "        text-align: right;\n",
       "    }\n",
       "</style>\n",
       "<table border=\"1\" class=\"dataframe\">\n",
       "  <thead>\n",
       "    <tr style=\"text-align: right;\">\n",
       "      <th></th>\n",
       "      <th>Unnamed: 0</th>\n",
       "      <th>x1</th>\n",
       "      <th>x2</th>\n",
       "      <th>x3</th>\n",
       "      <th>x4</th>\n",
       "      <th>x5</th>\n",
       "      <th>Округ</th>\n",
       "    </tr>\n",
       "  </thead>\n",
       "  <tbody>\n",
       "    <tr>\n",
       "      <th>0</th>\n",
       "      <td>Белгородская область</td>\n",
       "      <td>7777.000000</td>\n",
       "      <td>14918.0</td>\n",
       "      <td>2825.0</td>\n",
       "      <td>2009.0</td>\n",
       "      <td>1841.000000</td>\n",
       "      <td>сenter</td>\n",
       "    </tr>\n",
       "    <tr>\n",
       "      <th>1</th>\n",
       "      <td>Брянская область</td>\n",
       "      <td>4560.000000</td>\n",
       "      <td>10211.0</td>\n",
       "      <td>1538.0</td>\n",
       "      <td>1418.0</td>\n",
       "      <td>837.000000</td>\n",
       "      <td>NaN</td>\n",
       "    </tr>\n",
       "    <tr>\n",
       "      <th>2</th>\n",
       "      <td>Владимирская область</td>\n",
       "      <td>5802.000000</td>\n",
       "      <td>8902.0</td>\n",
       "      <td>1703.0</td>\n",
       "      <td>1468.0</td>\n",
       "      <td>2169.903614</td>\n",
       "      <td>сenter</td>\n",
       "    </tr>\n",
       "    <tr>\n",
       "      <th>3</th>\n",
       "      <td>Воронежская область</td>\n",
       "      <td>7333.084337</td>\n",
       "      <td>17186.0</td>\n",
       "      <td>3362.0</td>\n",
       "      <td>2458.0</td>\n",
       "      <td>4347.000000</td>\n",
       "      <td>сenter</td>\n",
       "    </tr>\n",
       "    <tr>\n",
       "      <th>4</th>\n",
       "      <td>Ивановская область</td>\n",
       "      <td>4495.000000</td>\n",
       "      <td>5649.0</td>\n",
       "      <td>1338.0</td>\n",
       "      <td>977.0</td>\n",
       "      <td>1288.000000</td>\n",
       "      <td>сenter</td>\n",
       "    </tr>\n",
       "  </tbody>\n",
       "</table>\n",
       "</div>"
      ],
      "text/plain": [
       "             Unnamed: 0           x1       x2      x3      x4           x5  \\\n",
       "0  Белгородская область  7777.000000  14918.0  2825.0  2009.0  1841.000000   \n",
       "1      Брянская область  4560.000000  10211.0  1538.0  1418.0   837.000000   \n",
       "2  Владимирская область  5802.000000   8902.0  1703.0  1468.0  2169.903614   \n",
       "3   Воронежская область  7333.084337  17186.0  3362.0  2458.0  4347.000000   \n",
       "4    Ивановская область  4495.000000   5649.0  1338.0   977.0  1288.000000   \n",
       "\n",
       "    Округ  \n",
       "0  сenter  \n",
       "1     NaN  \n",
       "2  сenter  \n",
       "3  сenter  \n",
       "4  сenter  "
      ]
     },
     "execution_count": 474,
     "metadata": {},
     "output_type": "execute_result"
    }
   ],
   "source": [
    "for name in ['x1', 'x2', 'x3', 'x4', 'x5']:\n",
    "    df[name].fillna(df[name].mean(), inplace=True)\n",
    "\n",
    "df.head()"
   ]
  },
  {
   "cell_type": "code",
   "execution_count": 475,
   "metadata": {},
   "outputs": [
    {
     "name": "stderr",
     "output_type": "stream",
     "text": [
      "C:\\Users\\User\\AppData\\Local\\Temp\\ipykernel_16644\\334959945.py:1: FutureWarning: A value is trying to be set on a copy of a DataFrame or Series through chained assignment using an inplace method.\n",
      "The behavior will change in pandas 3.0. This inplace method will never work because the intermediate object on which we are setting values always behaves as a copy.\n",
      "\n",
      "For example, when doing 'df[col].method(value, inplace=True)', try using 'df.method({col: value}, inplace=True)' or df[col] = df[col].method(value) instead, to perform the operation inplace on the original object.\n",
      "\n",
      "\n",
      "  df['Округ'].fillna(df['Округ'].value_counts().index[0], inplace=True)\n"
     ]
    }
   ],
   "source": [
    "df['Округ'].fillna(df['Округ'].value_counts().index[0], inplace=True)"
   ]
  },
  {
   "cell_type": "code",
   "execution_count": 476,
   "metadata": {},
   "outputs": [
    {
     "data": {
      "text/plain": [
       "Unnamed: 0    0\n",
       "x1            0\n",
       "x2            0\n",
       "x3            0\n",
       "x4            0\n",
       "x5            0\n",
       "Округ         0\n",
       "dtype: int64"
      ]
     },
     "execution_count": 476,
     "metadata": {},
     "output_type": "execute_result"
    }
   ],
   "source": [
    "df.isna().sum()"
   ]
  },
  {
   "cell_type": "code",
   "execution_count": 477,
   "metadata": {},
   "outputs": [
    {
     "data": {
      "text/plain": [
       "<Axes: >"
      ]
     },
     "execution_count": 477,
     "metadata": {},
     "output_type": "execute_result"
    },
    {
     "data": {
      "image/png": "[encoded data removed]",
      "text/plain": [
       "<Figure size 640x480 with 1 Axes>"
      ]
     },
     "metadata": {},
     "output_type": "display_data"
    }
   ],
   "source": [
    "df.boxplot()"
   ]
  },
  {
   "cell_type": "code",
   "execution_count": 478,
   "metadata": {},
   "outputs": [],
   "source": [
    "for name in ['x1', 'x2', 'x3', 'x4', 'x5']:\n",
    "    q1 = df[name].quantile(0.25)  # первый квартиль\n",
    "    q3 = df[name].quantile(0.75)  # третий квартиль\n",
    "    median_value = df[name].median()\n",
    "    df[name] = df[name].apply(lambda x: median_value if ((x < q1) or (x > q3)) else x)"
   ]
  },
  {
   "cell_type": "code",
   "execution_count": 479,
   "metadata": {},
   "outputs": [
    {
     "data": {
      "text/html": [
       "<div>\n",
       "<style scoped>\n",
       "    .dataframe tbody tr th:only-of-type {\n",
       "        vertical-align: middle;\n",
       "    }\n",
       "\n",
       "    .dataframe tbody tr th {\n",
       "        vertical-align: top;\n",
       "    }\n",
       "\n",
       "    .dataframe thead th {\n",
       "        text-align: right;\n",
       "    }\n",
       "</style>\n",
       "<table border=\"1\" class=\"dataframe\">\n",
       "  <thead>\n",
       "    <tr style=\"text-align: right;\">\n",
       "      <th></th>\n",
       "      <th>Unnamed: 0</th>\n",
       "      <th>x1</th>\n",
       "      <th>x2</th>\n",
       "      <th>x3</th>\n",
       "      <th>x4</th>\n",
       "      <th>x5</th>\n",
       "      <th>Округ</th>\n",
       "    </tr>\n",
       "  </thead>\n",
       "  <tbody>\n",
       "    <tr>\n",
       "      <th>0</th>\n",
       "      <td>Белгородская область</td>\n",
       "      <td>7777.000000</td>\n",
       "      <td>14918.00</td>\n",
       "      <td>2825.0</td>\n",
       "      <td>2009.0</td>\n",
       "      <td>1841.000000</td>\n",
       "      <td>сenter</td>\n",
       "    </tr>\n",
       "    <tr>\n",
       "      <th>1</th>\n",
       "      <td>Брянская область</td>\n",
       "      <td>4560.000000</td>\n",
       "      <td>10211.00</td>\n",
       "      <td>1538.0</td>\n",
       "      <td>1418.0</td>\n",
       "      <td>837.000000</td>\n",
       "      <td>сenter</td>\n",
       "    </tr>\n",
       "    <tr>\n",
       "      <th>2</th>\n",
       "      <td>Владимирская область</td>\n",
       "      <td>5802.000000</td>\n",
       "      <td>8902.00</td>\n",
       "      <td>1703.0</td>\n",
       "      <td>1468.0</td>\n",
       "      <td>2169.903614</td>\n",
       "      <td>сenter</td>\n",
       "    </tr>\n",
       "    <tr>\n",
       "      <th>3</th>\n",
       "      <td>Воронежская область</td>\n",
       "      <td>7333.084337</td>\n",
       "      <td>17186.00</td>\n",
       "      <td>1801.0</td>\n",
       "      <td>1396.0</td>\n",
       "      <td>1194.000000</td>\n",
       "      <td>сenter</td>\n",
       "    </tr>\n",
       "    <tr>\n",
       "      <th>4</th>\n",
       "      <td>Ивановская область</td>\n",
       "      <td>4495.000000</td>\n",
       "      <td>9866.00</td>\n",
       "      <td>1338.0</td>\n",
       "      <td>977.0</td>\n",
       "      <td>1288.000000</td>\n",
       "      <td>сenter</td>\n",
       "    </tr>\n",
       "    <tr>\n",
       "      <th>...</th>\n",
       "      <td>...</td>\n",
       "      <td>...</td>\n",
       "      <td>...</td>\n",
       "      <td>...</td>\n",
       "      <td>...</td>\n",
       "      <td>...</td>\n",
       "      <td>...</td>\n",
       "    </tr>\n",
       "    <tr>\n",
       "      <th>80</th>\n",
       "      <td>Амурская область</td>\n",
       "      <td>5689.000000</td>\n",
       "      <td>7211.00</td>\n",
       "      <td>1801.0</td>\n",
       "      <td>977.0</td>\n",
       "      <td>829.000000</td>\n",
       "      <td>dv</td>\n",
       "    </tr>\n",
       "    <tr>\n",
       "      <th>81</th>\n",
       "      <td>Магаданская область</td>\n",
       "      <td>5689.000000</td>\n",
       "      <td>9866.00</td>\n",
       "      <td>1801.0</td>\n",
       "      <td>1396.0</td>\n",
       "      <td>1194.000000</td>\n",
       "      <td>dv</td>\n",
       "    </tr>\n",
       "    <tr>\n",
       "      <th>82</th>\n",
       "      <td>Сахалинская область</td>\n",
       "      <td>5689.000000</td>\n",
       "      <td>9866.00</td>\n",
       "      <td>1801.0</td>\n",
       "      <td>1396.0</td>\n",
       "      <td>1194.000000</td>\n",
       "      <td>dv</td>\n",
       "    </tr>\n",
       "    <tr>\n",
       "      <th>83</th>\n",
       "      <td>Еврейская автономная область</td>\n",
       "      <td>5689.000000</td>\n",
       "      <td>14787.75</td>\n",
       "      <td>1801.0</td>\n",
       "      <td>1396.0</td>\n",
       "      <td>1194.000000</td>\n",
       "      <td>dv</td>\n",
       "    </tr>\n",
       "    <tr>\n",
       "      <th>84</th>\n",
       "      <td>Чукотский автономный округ</td>\n",
       "      <td>5689.000000</td>\n",
       "      <td>9866.00</td>\n",
       "      <td>1801.0</td>\n",
       "      <td>1396.0</td>\n",
       "      <td>1194.000000</td>\n",
       "      <td>dv</td>\n",
       "    </tr>\n",
       "  </tbody>\n",
       "</table>\n",
       "<p>85 rows × 7 columns</p>\n",
       "</div>"
      ],
      "text/plain": [
       "                      Unnamed: 0           x1        x2      x3      x4  \\\n",
       "0           Белгородская область  7777.000000  14918.00  2825.0  2009.0   \n",
       "1               Брянская область  4560.000000  10211.00  1538.0  1418.0   \n",
       "2           Владимирская область  5802.000000   8902.00  1703.0  1468.0   \n",
       "3            Воронежская область  7333.084337  17186.00  1801.0  1396.0   \n",
       "4             Ивановская область  4495.000000   9866.00  1338.0   977.0   \n",
       "..                           ...          ...       ...     ...     ...   \n",
       "80              Амурская область  5689.000000   7211.00  1801.0   977.0   \n",
       "81           Магаданская область  5689.000000   9866.00  1801.0  1396.0   \n",
       "82           Сахалинская область  5689.000000   9866.00  1801.0  1396.0   \n",
       "83  Еврейская автономная область  5689.000000  14787.75  1801.0  1396.0   \n",
       "84    Чукотский автономный округ  5689.000000   9866.00  1801.0  1396.0   \n",
       "\n",
       "             x5   Округ  \n",
       "0   1841.000000  сenter  \n",
       "1    837.000000  сenter  \n",
       "2   2169.903614  сenter  \n",
       "3   1194.000000  сenter  \n",
       "4   1288.000000  сenter  \n",
       "..          ...     ...  \n",
       "80   829.000000      dv  \n",
       "81  1194.000000      dv  \n",
       "82  1194.000000      dv  \n",
       "83  1194.000000      dv  \n",
       "84  1194.000000      dv  \n",
       "\n",
       "[85 rows x 7 columns]"
      ]
     },
     "execution_count": 479,
     "metadata": {},
     "output_type": "execute_result"
    }
   ],
   "source": [
    "df"
   ]
  },
  {
   "cell_type": "code",
   "execution_count": 481,
   "metadata": {},
   "outputs": [
    {
     "data": {
      "text/plain": [
       "<Axes: >"
      ]
     },
     "execution_count": 481,
     "metadata": {},
     "output_type": "execute_result"
    },
    {
     "data": {
      "image/png": "[encoded data removed]",
      "text/plain": [
       "<Figure size 640x480 with 1 Axes>"
      ]
     },
     "metadata": {},
     "output_type": "display_data"
    }
   ],
   "source": [
    "df.boxplot()"
   ]
  }
 ],
 "metadata": {
  "kernelspec": {
   "display_name": "Python 3",
   "language": "python",
   "name": "python3"
  },
  "language_info": {
   "codemirror_mode": {
    "name": "ipython",
    "version": 3
   },
   "file_extension": ".py",
   "mimetype": "text/x-python",
   "name": "python",
   "nbconvert_exporter": "python",
   "pygments_lexer": "ipython3",
   "version": "undefined.undefined.undefined"
  }
 },
 "nbformat": 4,
 "nbformat_minor": 2
}
