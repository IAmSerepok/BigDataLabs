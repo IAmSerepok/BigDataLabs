{
 "cells": [
  {
   "cell_type": "code",
   "id": "initial_id",
   "metadata": {
    "collapsed": true,
    "ExecuteTime": {
     "end_time": "2024-10-03T04:11:48.259079Z",
     "start_time": "2024-10-03T04:11:47.250648Z"
    }
   },
   "source": [
    "import spacy\n",
    "import neuralcoref\n",
    "\n",
    "# Загрузите языковую модель spaCy\n",
    "nlp = spacy.load('en_core_web_sm')\n",
    "\n",
    "# Привязываем NeuralCoref к вашей модели\n",
    "neuralcoref.add_to_pipe(nlp)\n",
    "\n",
    "# Текст для анализа\n",
    "doc = nlp(\"My sister has a dog. She loves him.\")\n",
    "\n",
    "# Получите кореференции\n",
    "print(doc._.coref_clusters)"
   ],
   "outputs": [
    {
     "name": "stdout",
     "output_type": "stream",
     "text": [
      "[('brother', 'He'), ('has', 'He'), ('a', 'He'), ('car', 'He'), ('.', 'He')]\n"
     ]
    }
   ],
   "execution_count": 25
  }
 ],
 "metadata": {
  "kernelspec": {
   "display_name": "Python 3",
   "language": "python",
   "name": "python3"
  },
  "language_info": {
   "codemirror_mode": {
    "name": "ipython",
    "version": 2
   },
   "file_extension": ".py",
   "mimetype": "text/x-python",
   "name": "python",
   "nbconvert_exporter": "python",
   "pygments_lexer": "ipython2",
   "version": "2.7.6"
  }
 },
 "nbformat": 4,
 "nbformat_minor": 5
}
